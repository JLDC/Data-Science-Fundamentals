{
 "cells": [
  {
   "cell_type": "markdown",
   "id": "4e1cf706-305b-416a-a5b7-69d66d449ddc",
   "metadata": {},
   "source": [
    "<a target=\"_blank\" href=\"https://colab.research.google.com/github/JLDC/Data-Science-Fundamentals/blob/master/notebooks/04_numpy-random-numbers.ipynb\">\n",
    "    <img src=\"https://i.ibb.co/2P3SLwK/colab.png\"  style=\"padding-bottom:5px;\" />Open this notebook in Google Colab\n",
    "</a>\n",
    "\n",
    "___"
   ]
  },
  {
   "cell_type": "markdown",
   "id": "3c9f6c24-4625-4f88-a00c-a04050911a06",
   "metadata": {},
   "source": [
    "# NumPy\n",
    "___\n",
    "`numpy` is the numerical computation package and it underlies everything we will do in this class. More often than not, it *acts in the background*, i.e., you might not realize that we are working with `numpy` because it seems that we are only working with `pandas`, but every column in `pandas` is nothing but a `numpy` vector with some additional features.\n",
    "\n",
    "While `numpy` is so prevalent in what we will do, we only need to use `numpy` directly from time to time. Due to this, we will go over some `numpy` basics in this notebook."
   ]
  },
  {
   "cell_type": "code",
   "execution_count": null,
   "id": "efa0e45e-b3b7-41b7-8462-654891314e2b",
   "metadata": {},
   "outputs": [],
   "source": [
    "import numpy as np # Import the package"
   ]
  },
  {
   "cell_type": "markdown",
   "id": "fe443e62-a61f-494a-a187-0a3cc4bb0cf8",
   "metadata": {},
   "source": [
    "Let's start by observing how a list from Python base compares to a `numpy`."
   ]
  },
  {
   "cell_type": "code",
   "execution_count": null,
   "id": "d6cd8abf-27cb-4cc1-85ad-f310c2c268a7",
   "metadata": {},
   "outputs": [],
   "source": [
    "x_numpy = np.array([1, 2, 3]) # Create a numpy array of numbers [1, 2, 3]\n",
    "x_base = [1, 2, 3] # Create a list of numbers [1, 2, 3] in base Python"
   ]
  },
  {
   "cell_type": "code",
   "execution_count": null,
   "id": "788bdbae-b2f5-40df-bf56-3a199cfe8453",
   "metadata": {},
   "outputs": [],
   "source": [
    "# Observe how these objects behave with mathematical operations\n",
    "print(\"Base :\", x_base * 2)\n",
    "print(\"Numpy:\", x_numpy * 2)"
   ]
  },
  {
   "cell_type": "markdown",
   "id": "2f013aee-547e-4044-9ed2-8c1ec4ee67e3",
   "metadata": {},
   "source": [
    "As you can see, multiplying a base list simply repeats the list as we can see above. However, doing this with a `numpy` array instead, we now obtain element-wise multiplication, which is much more practical for numerical computing. Of course, `numpy` doesn't stop here, you can also do addition, subtraction, division, exponentials, and/or vector operations, here are a few examples:"
   ]
  },
  {
   "cell_type": "code",
   "execution_count": null,
   "id": "79652e4b-db5c-4fc4-9194-f1415be198c2",
   "metadata": {},
   "outputs": [],
   "source": [
    "x = np.array([1, 2, 3]) # Create a numpy array"
   ]
  },
  {
   "cell_type": "code",
   "execution_count": null,
   "id": "5f7d35ac-401c-49b2-a81f-dfaba163e7a8",
   "metadata": {},
   "outputs": [],
   "source": [
    "np.exp(x) # Exponential applied element-wise"
   ]
  },
  {
   "cell_type": "code",
   "execution_count": null,
   "id": "6683f39f-4ed5-4d75-909d-f09dbb4a6d92",
   "metadata": {},
   "outputs": [],
   "source": [
    "np.sqrt(x) # Notice how numpy also has most mathematical functions"
   ]
  },
  {
   "cell_type": "code",
   "execution_count": null,
   "id": "13418c1e-6fc2-4537-9731-deff43081adf",
   "metadata": {},
   "outputs": [],
   "source": [
    "x - 2 # Element-wise subtraction"
   ]
  },
  {
   "cell_type": "markdown",
   "id": "b53c9d76-b998-4e32-a4d3-2ba562b85348",
   "metadata": {},
   "source": [
    "`numpy` arrays have an attribute called `.shape` which tells us the shape of the object in form `(number_of_rows, number_of_columns)`."
   ]
  },
  {
   "cell_type": "code",
   "execution_count": null,
   "id": "e3a67b03-fc75-4658-9bec-f3bfbc2611d7",
   "metadata": {},
   "outputs": [],
   "source": [
    "x.shape"
   ]
  },
  {
   "cell_type": "markdown",
   "id": "30354968-6703-41b0-be2d-d116eb485144",
   "metadata": {},
   "source": [
    "## Vectors and matrices\n",
    "___\n",
    "Notice the blank space after the comma. This means that `x_numpy` is a **vector**. This can be somewhat confusing at first, but `numpy` differentiates between vector and matrices, even when these are the same size, e.g., a column vector with 3 elements is not the same as a $3 \\times 1$ matrix."
   ]
  },
  {
   "cell_type": "code",
   "execution_count": null,
   "id": "4e48a3ea-3140-4a36-88d9-e85173c37bce",
   "metadata": {},
   "outputs": [],
   "source": [
    "# Create a 2x3 matrix\n",
    "mat = np.array([[1, 2, 3], [4, 5, 6]])\n",
    "mat"
   ]
  },
  {
   "cell_type": "code",
   "execution_count": null,
   "id": "90cd824b-9a29-47b1-bbd0-fe5a7d0a5a48",
   "metadata": {},
   "outputs": [],
   "source": [
    "mat.shape # Our matrix has 2 rows and 3 columns"
   ]
  },
  {
   "cell_type": "markdown",
   "id": "83476c8c-6de9-4c1d-812c-83d3543f3521",
   "metadata": {},
   "source": [
    "So if we multiply `mat` by `x`, will that give us a $2 \\times 1$ matrix? Since `mat` is $2 \\times 3$ and `x` is $3 \\times 1$, this is what we would expect, right?"
   ]
  },
  {
   "cell_type": "code",
   "execution_count": null,
   "id": "f6bfda9f-83b9-4a02-9201-6001bd8f725d",
   "metadata": {},
   "outputs": [],
   "source": [
    "mat * x"
   ]
  },
  {
   "cell_type": "markdown",
   "id": "e86ac997-320c-4e7f-a02b-fc75d01ef7cb",
   "metadata": {},
   "source": [
    "⚠️ Not exactly! In `numpy`, the `*` operator refers to **element-wise multiplication**. This is important to know! So basically, what happened is that `x` multiplied the each row of `mat` element-by-element... makes sense! But how can we do vector/matrix multiplication?\n",
    "\n",
    "This is done using the `@` operator. Be wary, this is something that is `numpy` specific and that typically cannot be used in base Python."
   ]
  },
  {
   "cell_type": "code",
   "execution_count": null,
   "id": "7b6d1afa-87fe-4917-ac93-c9767c87ae5b",
   "metadata": {},
   "outputs": [],
   "source": [
    "# Matrix multiplication of a 2x3 matrix and a 3x1 column vector\n",
    "mat @ x"
   ]
  },
  {
   "cell_type": "markdown",
   "id": "4adaddb0-79d6-4e3e-a0ee-feb47f6d2b45",
   "metadata": {},
   "source": [
    "Here we go! Notice how this is the same as the sum of each row of the element-wise multiplication... if this seems strange to you, now might be a good time to review some of your linear algebra courses. In fact, most of machine learning is just linear algebra in disguise!\n",
    "\n",
    "At the end of this notebook, we will discuss another example of matrix multiplication and compare it with an iterative approach."
   ]
  },
  {
   "cell_type": "markdown",
   "id": "faf3516b-99cf-4af4-9835-924892d82e81",
   "metadata": {},
   "source": [
    "## Useful functions and methods\n",
    "___\n",
    "`numpy` also provides many useful functions, statistical and mathematical..."
   ]
  },
  {
   "cell_type": "code",
   "execution_count": null,
   "id": "29954370-e013-467f-8579-d5c7948a0970",
   "metadata": {},
   "outputs": [],
   "source": [
    "# Compute the mean of the elements in the matrix\n",
    "mat.mean()"
   ]
  },
  {
   "cell_type": "code",
   "execution_count": null,
   "id": "fb6daa98-efc7-4926-9428-b140f6652aa3",
   "metadata": {},
   "outputs": [],
   "source": [
    "# Compute the standard deviations of the elements in the matrix\n",
    "mat.std()"
   ]
  },
  {
   "cell_type": "code",
   "execution_count": null,
   "id": "89751e8f-fc1c-47ac-9cd8-349d5c180d06",
   "metadata": {},
   "outputs": [],
   "source": [
    "# We can also use np.mean and np.std as functions instead of methods\n",
    "np.std(mat)"
   ]
  },
  {
   "cell_type": "code",
   "execution_count": null,
   "id": "49b5ab80-9a12-47b9-bfa7-f4cc17988555",
   "metadata": {},
   "outputs": [],
   "source": [
    "# Even better, we can use NumPy functions on base Python lists...\n",
    "np.mean(x_base)"
   ]
  },
  {
   "cell_type": "code",
   "execution_count": null,
   "id": "ce44a041-06a9-4b41-aaa3-a2185ac9e490",
   "metadata": {},
   "outputs": [],
   "source": [
    "# We can also transpose matrices, there are many ways to do this\n",
    "mat.transpose()"
   ]
  },
  {
   "cell_type": "code",
   "execution_count": null,
   "id": "ab83a1b0-c13d-4ed1-86be-6ab98e599bd8",
   "metadata": {},
   "outputs": [],
   "source": [
    "# ... another way\n",
    "np.transpose(mat)"
   ]
  },
  {
   "cell_type": "code",
   "execution_count": null,
   "id": "e5444a81-e1b0-4c56-b07c-e35099a54a9c",
   "metadata": {},
   "outputs": [],
   "source": [
    "# ... and my favorite\n",
    "mat.T"
   ]
  },
  {
   "cell_type": "markdown",
   "id": "fe8fb696-8faa-4b53-97f9-4f9a6504bb70",
   "metadata": {},
   "source": [
    "## Random numbers\n",
    "___\n",
    "`numpy` also allows us to create random numbers using the submodule `numpy.random`, e.g.,"
   ]
  },
  {
   "cell_type": "code",
   "execution_count": null,
   "id": "4db068f4-7f12-4aa8-8932-500235a472e2",
   "metadata": {},
   "outputs": [],
   "source": [
    "np.random.seed(72) # Set seed for reproduceability\n",
    "# Create a 5-element array of random numbers uniform between 0 and 1\n",
    "x_rand = np.random.rand(5) \n",
    "x_rand"
   ]
  },
  {
   "cell_type": "code",
   "execution_count": null,
   "id": "cde281d9-2e01-435b-b9ee-36c6bfe8af24",
   "metadata": {},
   "outputs": [],
   "source": [
    "# Create a 1000-element array of random numbers normally distributed with mean 0 and std 1\n",
    "x_randn = np.random.randn(1000) \n",
    "# Print the mean and standard deviation\n",
    "print(f\"The mean is {x_randn.mean():.2f} and the standard deviation is {x_randn.std():.2f}\")"
   ]
  },
  {
   "cell_type": "code",
   "execution_count": null,
   "id": "1fab59ad-ed04-4975-a453-221dbbc25683",
   "metadata": {},
   "outputs": [],
   "source": [
    "# numpy can not only find the minimum but also the place where this minimum happens!\n",
    "print(f\"The minimum is {x_randn.min():.2f} and it occurs at index {x_randn.argmin()}\")\n",
    "print(f\"The maximum is {x_randn.max():.2f} and it occurs at index {x_randn.argmax()}\")"
   ]
  },
  {
   "cell_type": "markdown",
   "id": "ab155705-d247-48e5-98c1-065ad14add58",
   "metadata": {},
   "source": [
    "The `argmin` and `argmax` functions used above will come in handy when doing data science! Make sure you understand their purpose."
   ]
  },
  {
   "cell_type": "markdown",
   "id": "1bec9b72-e7b7-401b-a0e2-dd3254407b9f",
   "metadata": {},
   "source": [
    "## 🙀 🤯 Filtering\n",
    "___\n",
    "Let's now have a look at filtering in `numpy` and try to understand how this can be useful. `numpy` provides the `where` function, which creates a mask of where a provided condition is true. The best way to understand it is to have a look at how it works in practice."
   ]
  },
  {
   "cell_type": "code",
   "execution_count": null,
   "id": "d5f5cbe1-bc5e-4dae-8217-162638f1191b",
   "metadata": {},
   "outputs": [],
   "source": [
    "# List of indices where x_randn is at the minimum\n",
    "np.where(x_randn == x_randn.min(), 1, 0)"
   ]
  },
  {
   "cell_type": "code",
   "execution_count": null,
   "id": "af32f3fe-2e1b-4e76-bbf8-c4fca10e5437",
   "metadata": {},
   "outputs": [],
   "source": [
    "# Compare the results with `argmin`\n",
    "x_randn.argmin()"
   ]
  },
  {
   "cell_type": "markdown",
   "id": "1e1757d3-5976-4daa-b0c1-3c6573b2e491",
   "metadata": {},
   "source": [
    "In a sense, `.argmin` is a shorthand for the `.where` condition we used above. But `.where` is much more powerful and flexible. Consider the following examples:"
   ]
  },
  {
   "cell_type": "code",
   "execution_count": null,
   "id": "a2972cde-45bf-4ed6-acf7-3bff8ab3a320",
   "metadata": {},
   "outputs": [],
   "source": [
    "# List of indices where x_randn is at most the minimum + 0.5\n",
    "np.where(x_randn < x_randn.min() + 0.5, 1, 0)"
   ]
  },
  {
   "cell_type": "code",
   "execution_count": null,
   "id": "8a6beb19-7ff1-482a-baf5-914ddcd2efcc",
   "metadata": {},
   "outputs": [],
   "source": [
    "# We can also use these values to extract the values directly by indexing the vector\n",
    "x_randn[np.where(x_randn < x_randn.min() + .5, 1, 0)]"
   ]
  },
  {
   "cell_type": "markdown",
   "id": "1b00c45c-c341-4cce-9177-41206f0004c4",
   "metadata": {},
   "source": [
    "In case we don't need the indices but only the number of elements, we can use `np.count_nonzero` instead of doing `len(np.where(...))`."
   ]
  },
  {
   "cell_type": "code",
   "execution_count": null,
   "id": "78a259cb-65e6-41ac-8e18-97ea149748f8",
   "metadata": {},
   "outputs": [],
   "source": [
    "# Count the number of values lower than the minimum + 0.5\n",
    "np.count_nonzero(x_randn < x_randn.min() + .5)"
   ]
  },
  {
   "cell_type": "markdown",
   "id": "6f366b93-04e7-42aa-b37e-e848702d5241",
   "metadata": {},
   "source": [
    "Alright, let's now have a look at a practical use-case in which we use filtering. As a matter of fact, we will do something similar in the notebooks later on, so pay close attention!\n",
    "\n",
    "Consider that we have built a machine learning model that predicts whether a student passes or fails the assessment year. We have a vector of predictions $\\mathbf{y}_\\text{pred} = [0 \\, 1 \\, 1 \\, 1 \\, \\dots, \\, 0]^\\top$ where $0$ means that the student fails the year and $1$ indicates that they pass.\n",
    "\n",
    "At the end of the year, we have obtain true results $\\mathbf{y}_\\text{true} = [1 \\, 1 \\, 1 \\, 0 \\, \\dots, \\, 0]^\\top$, it is time to quantify how well our machine learning model performed. We want to compute:\n",
    "\n",
    "+ The number of **true positives** (students that passed and we predicted that they would pass)\n",
    "+ The number of **true negatives** (students that failed and we predicted that they would fail)\n",
    "+ The number of **false positives** (students that failed and we predicted that they would pass)\n",
    "+ The number of **false negatives** (students that passed and we predicted that they would fail)"
   ]
  },
  {
   "cell_type": "code",
   "execution_count": null,
   "id": "a09a7f08-720b-49a2-a7f3-72515ecddbe3",
   "metadata": {},
   "outputs": [],
   "source": [
    "# Set random seed\n",
    "np.random.seed(72)\n",
    "N = 1500 # Number of students\n",
    "# Create two random vectors where the chance of a value being zero is 25%\n",
    "# and the chance of a value being 1 is 75%\n",
    "y_true = np.random.choice((0, 1), N, p=(.25, .75))\n",
    "y_pred = np.random.choice((0, 1), N, p=(.25, .75))"
   ]
  },
  {
   "cell_type": "code",
   "execution_count": null,
   "id": "c0c45b37-e952-4a43-b71d-b4173a4b3784",
   "metadata": {},
   "outputs": [],
   "source": [
    "# True positives: we predict 1 (pass) and the true value is 1\n",
    "TP = np.count_nonzero((y_true == 1) & (y_pred == 1))\n",
    "# True negatives: we predict 0 (fail) and the true value is 0\n",
    "TN = np.count_nonzero((y_true == 0) & (y_pred == 0))\n",
    "# False positives: we predict 1 (pass) and the true value is 0\n",
    "FP = np.count_nonzero((y_true == 0) & (y_pred == 1))\n",
    "# False negatives: we predict 0 (fail) and the true value is 1\n",
    "FN = np.count_nonzero((y_true == 1) & (y_pred == 0))"
   ]
  },
  {
   "cell_type": "code",
   "execution_count": null,
   "id": "1c4484a9-1e19-4da4-b05b-5f9235fab625",
   "metadata": {},
   "outputs": [],
   "source": [
    "# Print the results\n",
    "print(\"        __________________\")\n",
    "print(\"       |    Prediction    |\")\n",
    "print(\"       |------------------|\")\n",
    "print(\"       |    Fail |   Pass |\")\n",
    "print(\" Truth |------------------|\")\n",
    "print(f\"  Fail |   {TN:>5} |  {FP:>5} |\")\n",
    "print(f\"  Pass |   {FN:>5} |  {TP:>5} |\")"
   ]
  },
  {
   "cell_type": "markdown",
   "id": "a2159a4d-70bc-43c1-817e-3bfbd96a753e",
   "metadata": {},
   "source": [
    "## The power of matrix multiplication\n",
    "___\n",
    "Say that we have two matrices, $\\mathbf{A}$ and $\\mathbf{B}$ and we want to compute their product $\\mathbf{AB}$.\n",
    "\n",
    "We could, in theory, implement matrix multiplication *by hand*. Remember how to multiply two matrices:\n",
    "\n",
    "1. Multiply the first row of $\\mathbf{A}$ with the first, second, third, ..., column of $\\mathbf{B}$\n",
    "2. Multiply the second row of $\\mathbf{A}$ with the first, second, third, ..., column of $\\mathbf{B}$\n",
    "3. Continue until you have done this for all the rows of $\\mathbf{A}$.\n",
    "\n",
    "Can you see why a double loop will be helpful here? We are looping over the rows of $\\mathbf{A}$ and for each row, we are looping over the columns of $\\mathbf{B}$ !\n",
    "\n",
    "Let's go ahead and implement this algorithm and verify our result using the matrix multiplication of `numpy`."
   ]
  },
  {
   "cell_type": "code",
   "execution_count": null,
   "id": "95dac33c-1769-42c7-a635-cf54b131b0a2",
   "metadata": {},
   "outputs": [],
   "source": [
    "np.random.seed(72) # Set random seed\n",
    "# Create two random matrices with Poisson (λ=5) distributed elements, 1000x1000 size\n",
    "A = np.random.poisson(5, (1000, 1000))\n",
    "B = np.random.poisson(5, (1000, 1000))"
   ]
  },
  {
   "cell_type": "code",
   "execution_count": null,
   "id": "f3e8a308-2028-4c5b-b36e-1914e09b40f9",
   "metadata": {},
   "outputs": [],
   "source": [
    "%%time\n",
    "# Compute the multiplication using a double loop\n",
    "C_loop = np.empty((1000, 1000)) # Create an empty matrix that we will fill\n",
    "\n",
    "for i in range(A.shape[0]): # Loop over the rows of A\n",
    "    for j in range(B.shape[1]): # Loop over the columns of B\n",
    "        # Compute the sum of the element-wise multiplication\n",
    "        C_loop[i, j] = np.sum(A[i, :] * B[:, j])"
   ]
  },
  {
   "cell_type": "code",
   "execution_count": null,
   "id": "b4a7daa9-7dcc-4f9e-8453-0c552f77e312",
   "metadata": {},
   "outputs": [],
   "source": [
    "%%time\n",
    "# Compute the matrix multiplication using numpy\n",
    "C_numpy = A @ B"
   ]
  },
  {
   "cell_type": "code",
   "execution_count": null,
   "id": "180783c8-dc8d-4e12-b649-88a213e1c99a",
   "metadata": {},
   "outputs": [],
   "source": [
    "# Make sure both resuls are the same\n",
    "np.all(C_numpy == C_loop)"
   ]
  },
  {
   "cell_type": "markdown",
   "id": "1ea24878-f84f-4fd2-97f3-0cd5123b09db",
   "metadata": {},
   "source": [
    "So using a loop, we compute the result in approximately 4.75 seconds. When using matrix multiplication, this reduces to roughly 780 milliseconds, that's an 80% speed increase! While 4.75 seconds might not seem like much, if you have to compute many matrix multiplications, the 80% speedup will turn out to be massive."
   ]
  }
 ],
 "metadata": {
  "kernelspec": {
   "display_name": "Python 3 (ipykernel)",
   "language": "python",
   "name": "python3"
  },
  "language_info": {
   "codemirror_mode": {
    "name": "ipython",
    "version": 3
   },
   "file_extension": ".py",
   "mimetype": "text/x-python",
   "name": "python",
   "nbconvert_exporter": "python",
   "pygments_lexer": "ipython3",
   "version": "3.10.8"
  }
 },
 "nbformat": 4,
 "nbformat_minor": 5
}

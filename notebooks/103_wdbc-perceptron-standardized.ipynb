{
 "cells": [
  {
   "cell_type": "markdown",
   "id": "350828f9-d4ee-4ac9-92f4-cf6d8b13e005",
   "metadata": {},
   "source": [
    "<a target=\"_blank\" href=\"https://colab.research.google.com/github/JLDC/Data-Science-Fundamentals/blob/master/notebooks/103_wdbc-perceptron-standardized.ipynb\">\n",
    "    <img src=\"https://i.ibb.co/2P3SLwK/colab.png\"  style=\"padding-bottom:5px;\" />Open this notebook in Google Colab\n",
    "</a>\n",
    "\n",
    "___"
   ]
  },
  {
   "cell_type": "markdown",
   "id": "69e5205b-aae9-4ec3-b390-161f2d8505c2",
   "metadata": {},
   "source": [
    "# Perceptron Learning for WDBC Data with Standardization\n",
    "___\n",
    "\n",
    "While perceptron learning has worked very well for the iris flowers, its performance for the WDBC data was less impressive (to say the least). So should we give up on perceptron learning? Well, not so quickly. As it turns out, we could have run in the very same problem with a state-of-the-art neural network! Sometimes, small fixes can have big effects. So before moving to a complete overhaul of our learning algorithm, let's try a small fix...\n",
    "\n",
    "Here is the fix we want to try. Let $x_j$ denote a feature (such as perimeterM or concaveM in the WDBC data). Let's replace this feature by what we call it's **standardized** version $\\tilde x_j$. The latter is defined as:\n",
    "\n",
    "$$\n",
    "\\tilde x_j := \\frac{x_j - \\text{mean}(x_j)}{\\text{std}(x_j)},\n",
    "$$\n",
    "where $\\text{std}$ denote the standard deviation.\n",
    "\n",
    "<br />\n",
    "\n",
    "\n",
    "### 🧑‍💻 <font color=green>**Your Task**</font>\n",
    "\n",
    "Implement perceptron learning for the WDBC data using standardized features. Copy the code from your solution from notebook 102a, add your own new code for the standardization, and make other changes where necessary. Add information to your graphics that indicates that this time, we analyze standardized features. \n",
    "\n",
    "What is the result? Does our quick-fix work?\n",
    "\n",
    "<font color=red>**Feel free to work in groups!**</font>\n",
    "<br /><br />"
   ]
  },
  {
   "cell_type": "code",
   "execution_count": null,
   "id": "57fb40f8-f039-4cd6-95d2-d50cb3c76514",
   "metadata": {},
   "outputs": [],
   "source": []
  }
 ],
 "metadata": {
  "kernelspec": {
   "display_name": "Python 3 (ipykernel)",
   "language": "python",
   "name": "python3"
  },
  "language_info": {
   "codemirror_mode": {
    "name": "ipython",
    "version": 3
   },
   "file_extension": ".py",
   "mimetype": "text/x-python",
   "name": "python",
   "nbconvert_exporter": "python",
   "pygments_lexer": "ipython3",
   "version": "3.10.8"
  }
 },
 "nbformat": 4,
 "nbformat_minor": 5
}

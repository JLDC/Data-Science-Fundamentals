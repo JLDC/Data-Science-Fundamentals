{
 "cells": [
  {
   "cell_type": "markdown",
   "id": "3c2d5587-aafb-4f53-9796-ff1e14bd5421",
   "metadata": {},
   "source": [
    "<a target=\"_blank\" href=\"https://colab.research.google.com/github/JLDC/Data-Science-Fundamentals/blob/master/notebooks/003_dicts-and-loops.ipynb\">\n",
    "    <img src=\"https://i.ibb.co/2P3SLwK/colab.png\"  style=\"padding-bottom:5px;\" />Open this notebook in Google Colab\n",
    "</a>\n",
    "\n",
    "___"
   ]
  },
  {
   "cell_type": "markdown",
   "id": "2165b1be-dd67-4d8f-ace7-94d80e797da7",
   "metadata": {},
   "source": [
    "# Dictionaries and Loops\n",
    "___\n",
    "In this notebook, we will introduce two seemingly unrelated concepts: **dictionaries** and **loops**.\n",
    "\n",
    "While both concepts are completely independent of each other, combining them allows us to build nice things and massively simplify or prettify the code we used in the previous notebook to create plots. We will introduce both concepts at a general level and we will then combine them to improve the code for our iris plot."
   ]
  },
  {
   "cell_type": "markdown",
   "id": "bed5693f-7881-4340-b227-741ad79a730b",
   "metadata": {},
   "source": [
    "## Dictionaries\n",
    "___\n",
    "Like lists, dictionaries, are a collection of multiple objects. It is best to think of dictionaries as **pairs**. A dictionary is a collection of pairs, where each pair has a **key**, and a **value**. Both the key and the value can in theory be anything, but in practice, the key will often either be a number or a string. **The main utility of dictionaries is that we can easily a value for a specific key!**\n",
    "\n",
    "Consider the following example."
   ]
  },
  {
   "cell_type": "code",
   "execution_count": null,
   "id": "5e134a09-631b-4cd9-8941-3915b0b28990",
   "metadata": {},
   "outputs": [],
   "source": [
    "# A dictionary is always within curly brackets { }\n",
    "my_dict = {\n",
    "    \"key1\": \"value1\", \n",
    "    \"key2\": \"value2\"\n",
    "}"
   ]
  },
  {
   "cell_type": "code",
   "execution_count": null,
   "id": "e91c0ea6-36e6-456d-aec0-d8cf429474b2",
   "metadata": {},
   "outputs": [],
   "source": [
    "# See how easy it is to find the value for a specific key\n",
    "my_dict[\"key1\"] # Find the value of the `key1`"
   ]
  },
  {
   "cell_type": "markdown",
   "id": "6680a17d-3842-4dde-b6d5-316884514866",
   "metadata": {},
   "source": [
    "This is similar to how we can grab elements in a list using their index, e.g., `my_list[1]`. But there is a **major** difference: using a dictionary, we don't have to keep track of where the elements are in our list, and it can be much nicer to have keys which can be strings instead of just numbers."
   ]
  },
  {
   "cell_type": "code",
   "execution_count": null,
   "id": "b118bfbc-758d-4efd-a12d-aa60305f74e8",
   "metadata": {},
   "outputs": [],
   "source": [
    "# Consider a dictionary of item prices\n",
    "item_prices = {\n",
    "    \"apricots\": 8.95,\n",
    "    \"sweetcorn\": 1.95,\n",
    "    \"beef\": 10.75,\n",
    "    \"brownies\": 4.05\n",
    "}"
   ]
  },
  {
   "cell_type": "code",
   "execution_count": null,
   "id": "7c4f1f69-56dd-41c8-b3a1-e7c1b6a9fcdb",
   "metadata": {},
   "outputs": [],
   "source": [
    "# We can now easily obtain the price for a specific item\n",
    "item_prices[\"brownies\"]"
   ]
  },
  {
   "cell_type": "markdown",
   "id": "6133b0e2-5d8c-478a-97e9-3cf000f18148",
   "metadata": {},
   "source": [
    "This is much nicer than having a list `[8.95, 1.95, 10.75, 4.05]` and having to know that brownies come in the fourth position of our list!\n",
    "\n",
    "While there are many different uses for dictionaries, we will be using them mostly for plots. Nonetheless, their concept is important. In particular, because we will also be using other objects (e.g., dataframes) which take this concept of **key-value-pairs** to another level!"
   ]
  },
  {
   "cell_type": "code",
   "execution_count": null,
   "id": "8c3c7074-e1c4-40c9-9e4c-6bfe0302716e",
   "metadata": {},
   "outputs": [],
   "source": [
    "# We can grab the keys of a dictionary using the .keys method\n",
    "item_prices.keys()"
   ]
  },
  {
   "cell_type": "code",
   "execution_count": null,
   "id": "4e203c73-11e7-4315-86ff-cd45d96b9efc",
   "metadata": {},
   "outputs": [],
   "source": [
    "# Similarly, we can grab the values using the .values method\n",
    "item_prices.values()"
   ]
  },
  {
   "cell_type": "markdown",
   "id": "c1ca13ef-9a65-49c7-b68e-a9d85879e697",
   "metadata": {},
   "source": [
    "## Loops\n",
    "___\n",
    "It's easier to understand how dictionaries can be used for plots once we understand what loops are. So let's delve into this concept!\n",
    "\n",
    "Loops are useful for repeated evaluation of expressions. There are two main types of loops, `for`-loops and `while`-loops."
   ]
  },
  {
   "cell_type": "code",
   "execution_count": null,
   "id": "947d6b99-e998-484e-9465-3e19c22a0f1b",
   "metadata": {},
   "outputs": [],
   "source": [
    "# The following code executes the block within for each iteration of i from 0 to 4\n",
    "for i in range(5):\n",
    "  print(i)"
   ]
  },
  {
   "cell_type": "code",
   "execution_count": null,
   "id": "f9c4474d-5db2-4112-a26f-526833ed32f6",
   "metadata": {},
   "outputs": [],
   "source": [
    "# The same also be done using a while loop\n",
    "i = 0\n",
    "while i < 5:\n",
    "  print(i)\n",
    "  i += 1 # Increment i by 1"
   ]
  },
  {
   "cell_type": "markdown",
   "id": "5faabd34-371d-4c26-9dd4-97b4c7b1b6bc",
   "metadata": {},
   "source": [
    "When using a `while` loop, make sure you have an exit condition, otherwise your code will never stop and you will have to interrupt it. For instance the block\n",
    "```python\n",
    "i = 0\n",
    "while i >= 0:\n",
    "  print(i)\n",
    "```\n",
    "will never reach an exit condition, as `i` is always greater or equal to 0. In general, try using a `for`-loop instead of a `while`-loop. Of course, there are some cases where using a `while`-loop is inevitable..."
   ]
  },
  {
   "cell_type": "markdown",
   "id": "b59a80b8-e21a-4f38-addd-c1baea416c79",
   "metadata": {},
   "source": [
    "#### ➡️ ✏️ Task 1\n",
    "\n",
    "Modify the code below (where there is a ✏️) such that it prints the sum of all numbers up to 100.\n",
    "\n",
    "*Hint*: in Python, we can increment a number `x` by 1 using `x += 1` "
   ]
  },
  {
   "cell_type": "code",
   "execution_count": null,
   "id": "8421322c-4ffe-40ce-a688-fbc8e85e8825",
   "metadata": {},
   "outputs": [],
   "source": [
    "mysum = 0 # A variable that keeps track of the sum\n",
    "\n",
    "# ✏️ ... modify\n",
    "n = 0 \n",
    "\n",
    "# Run the loop\n",
    "for i in range(1, n):\n",
    "    if i % 5 == 0: # Every 5 step, print the result\n",
    "        print(f\"At iteration {i:>3}, the sum is {mysum:>5}\")\n",
    "    \n",
    "    # ✏️ ... modify (⚠️ think about incrementation)\n",
    "    mysum = 0\n",
    "\n",
    "# Print the final result\n",
    "print(\"-\"*37)\n",
    "print(f\"The final sum is {mysum}\")\n",
    "\n",
    "# Warn the user in case the final sum is not correct\n",
    "if mysum != sum(range(101)):\n",
    "    print(f\"\\n⛔ There is an error somewhere. The sum should be {sum(range(101))}. ⛔\")"
   ]
  },
  {
   "cell_type": "markdown",
   "id": "81921087-2b5c-4a8e-8c8d-d4857a3871dc",
   "metadata": {},
   "source": [
    "`for`-loops can also be used to iterate over **the elements of a collection**. For instance, instead of iterating over the numbers in a specified range, you want want to iterate over the elements of a list or the characters in a string. A `for`-loop can do this as well!"
   ]
  },
  {
   "cell_type": "code",
   "execution_count": null,
   "id": "b4858b24-61ec-443f-8d06-8129940de3a6",
   "metadata": {},
   "outputs": [],
   "source": [
    "# Specify a text\n",
    "text = \"Data Science Fundamentals\"\n",
    "# Iterate over the letters in the text and print them\n",
    "for letter in text:\n",
    "    print(letter)"
   ]
  },
  {
   "cell_type": "code",
   "execution_count": null,
   "id": "cb023cce-b6b5-4c2e-9f1c-37a0a741b471",
   "metadata": {},
   "outputs": [],
   "source": [
    "# Of course, this also works for a list (strings are just like lists in a sense!)\n",
    "my_list = [1, 2, \"a\", text, \"b\", mysum]\n",
    "# Iterate and print the elements\n",
    "for el in my_list:\n",
    "    print(el)"
   ]
  },
  {
   "cell_type": "markdown",
   "id": "961a1eeb-ff6e-4642-89e1-30752dc9e594",
   "metadata": {},
   "source": [
    "Can you start to see how combining dictionaries and lists can be powerful? What if you look at the following example:"
   ]
  },
  {
   "cell_type": "code",
   "execution_count": null,
   "id": "7f21f998-4183-497e-8d1b-c1301b4a6da7",
   "metadata": {},
   "outputs": [],
   "source": [
    "# Create a dictionary which maps iris species to a respective color\n",
    "color_dict = {\"setosa\": \"blue\", \"virginica\": \"green\", \"versicolor\": \"purple\"} \n",
    "# Loop over the different iris species and print their color\n",
    "for species in [\"setosa\", \"virginica\", \"versicolor\"]:\n",
    "    print(f\"The species {species} will have {color_dict[species]} color\")"
   ]
  },
  {
   "cell_type": "markdown",
   "id": "ec54e981-e91e-4ed7-b25c-8d5d29ca089e",
   "metadata": {},
   "source": [
    "## Plotting\n",
    "___\n",
    "We now know enough about loops and dictionaries to improve the plotting code we used in the last notebook, so let's go ahead and do just that."
   ]
  },
  {
   "cell_type": "code",
   "execution_count": null,
   "id": "cd6cfa35-0f5a-438f-acb9-3cc7aa51c58e",
   "metadata": {},
   "outputs": [],
   "source": [
    "import matplotlib.pyplot as plt # Plotting package\n",
    "import pandas as pd # Dataframe package\n",
    "\n",
    "# Define the path where the data is stored\n",
    "DATA_PATH = \"https://raw.githubusercontent.com/JLDC/Data-Science-Fundamentals/master/data\""
   ]
  },
  {
   "cell_type": "code",
   "execution_count": null,
   "id": "60d14032-0862-461b-8bbb-af6a0ea36d08",
   "metadata": {},
   "outputs": [],
   "source": [
    "iris = pd.read_csv(f\"{DATA_PATH}/iris.csv\") # Read iris data"
   ]
  },
  {
   "cell_type": "markdown",
   "id": "ec8d15be-dd46-4dee-aef1-edecfcb7fb6c",
   "metadata": {},
   "source": [
    "Do you remember the code we used in the previous notebook to create our plot? It looked something like this.\n",
    "\n",
    "```python\n",
    "# Create three subsets of the data, one for each species\n",
    "iris_setosa = iris.loc[iris[\"species\"] == \"setosa\"]\n",
    "iris_virginica = iris.loc[iris[\"species\"] == \"virginica\"]\n",
    "iris_versicolor = iris.loc[iris[\"species\"] == \"versicolor\"]\n",
    "\n",
    "# Create a figure and axis\n",
    "fig, ax = plt.subplots()\n",
    "# Add the scatter plot ONLY for the setosa flowers\n",
    "ax.scatter(iris_setosa[\"sepal length (cm)\"], iris_setosa[\"petal length (cm)\"],\n",
    "          color=\"blue\", label=\"setosa\")\n",
    "# Add the scatter plot ONLY for the virginica flowers\n",
    "ax.scatter(iris_virginica[\"sepal length (cm)\"], iris_virginica[\"petal length (cm)\"],\n",
    "          color=\"green\", label=\"virginica\")\n",
    "# Add the scatter plot ONLY for the versicolor flowers\n",
    "ax.scatter(iris_versicolor[\"sepal length (cm)\"], iris_versicolor[\"petal length (cm)\"],\n",
    "          color=\"purple\", label=\"versicolor\")\n",
    "# We need to explictly add the legend to the axis\n",
    "ax.legend()\n",
    "```"
   ]
  },
  {
   "cell_type": "markdown",
   "id": "0264988c-a98f-4410-9a42-8eb8c02ea055",
   "metadata": {},
   "source": [
    "___\n",
    "#### 🤔 Pause and ponder\n",
    "Can you see how there is repetition going on in the above code and how we could use a loop to improve?\n",
    "___"
   ]
  },
  {
   "cell_type": "code",
   "execution_count": null,
   "id": "2169b9eb-8481-43b3-93e6-3e5849a61faa",
   "metadata": {},
   "outputs": [],
   "source": [
    "# Create a colormap to add colors to our plot\n",
    "color_dict = {\"setosa\": \"blue\", \"virginica\": \"green\", \"versicolor\": \"purple\"} \n",
    "\n",
    "# Initialize the figure and axis\n",
    "fig, ax = plt.subplots(figsize=(8, 6))\n",
    "\n",
    "# Add a new series for each individual species\n",
    "for species in iris[\"species\"].unique():\n",
    "    # Subset the data\n",
    "    subset = iris.loc[iris[\"species\"] == species] \n",
    "    # Add a scatter plot for the current species\n",
    "    ax.scatter(subset[\"sepal length (cm)\"], subset[\"petal length (cm)\"], \n",
    "            label=species, color=color_dict[species], alpha=0.6)\n",
    "# Set the axes labels\n",
    "ax.set_xlabel(\"Sepal length in cm\")\n",
    "ax.set_ylabel(\"Petal length in cm\")\n",
    "ax.legend() # Add the legend (display the labels)"
   ]
  },
  {
   "cell_type": "markdown",
   "id": "4c1d3707-c75a-4a68-9fc3-1d6a903ccbbe",
   "metadata": {},
   "source": [
    "#### ➡️ ✏️ Task 2\n",
    "Look at the above code and compare it to what we did in the previous notebook.\n",
    "\n",
    "What is happening in the line where we create the `subset`, what is happening in the `ax.scatter(...)` function, in particular, look at the `label` and `color` parameters. Discuss with your classmates."
   ]
  },
  {
   "cell_type": "code",
   "execution_count": null,
   "id": "411751d2-35b0-4ac4-a894-18fe25f90c0a",
   "metadata": {},
   "outputs": [],
   "source": []
  }
 ],
 "metadata": {
  "kernelspec": {
   "display_name": "Python 3 (ipykernel)",
   "language": "python",
   "name": "python3"
  },
  "language_info": {
   "codemirror_mode": {
    "name": "ipython",
    "version": 3
   },
   "file_extension": ".py",
   "mimetype": "text/x-python",
   "name": "python",
   "nbconvert_exporter": "python",
   "pygments_lexer": "ipython3",
   "version": "3.10.8"
  }
 },
 "nbformat": 4,
 "nbformat_minor": 5
}

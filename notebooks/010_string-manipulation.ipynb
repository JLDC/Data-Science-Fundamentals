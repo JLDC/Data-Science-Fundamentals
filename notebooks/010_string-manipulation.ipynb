{
 "cells": [
  {
   "cell_type": "markdown",
   "id": "226cb288-9662-4c96-8381-89469a5da27b",
   "metadata": {},
   "source": [
    "<a target=\"_blank\" href=\"https://colab.research.google.com/github/JLDC/Data-Science-Fundamentals/blob/master/notebooks/010_string-manipulation.ipynb\">\n",
    "    <img src=\"https://i.ibb.co/2P3SLwK/colab.png\"  style=\"padding-bottom:5px;\" />Open this notebook in Google Colab\n",
    "</a>\n",
    "\n",
    "___"
   ]
  },
  {
   "cell_type": "markdown",
   "id": "c08f7548-6a03-487f-9b3b-b7eefdf92679",
   "metadata": {},
   "source": [
    "# String Manipulation\n",
    "___\n",
    "In this notebook, we will look at typical string manipulation in Python. Unfortunately, data does not always come in a nice and handy format such as numbers and dates. More often than not, you will be faced with a problem where some variable must be extracted in some way or another from an existing string. For instance, consider the following example:\n",
    "\n"
   ]
  },
  {
   "cell_type": "code",
   "execution_count": null,
   "id": "f7548aa7-764a-4b36-9153-5c4540e923d6",
   "metadata": {},
   "outputs": [],
   "source": [
    "import pandas as pd\n",
    "\n",
    "# Define the path where the data is stored\n",
    "DATA_PATH = \"https://raw.githubusercontent.com/JLDC/Data-Science-Fundamentals/master/data\""
   ]
  },
  {
   "cell_type": "code",
   "execution_count": null,
   "id": "7e0a55f2-6f46-4b8d-9011-45271bf65fd7",
   "metadata": {},
   "outputs": [],
   "source": [
    "towns = pd.read_csv(f\"{DATA_PATH}/data/swiss_towns.csv\")\n",
    "towns.head(5)"
   ]
  },
  {
   "cell_type": "markdown",
   "id": "0ef9c47d-de9f-44aa-85b8-d5403dd1c001",
   "metadata": {},
   "source": [
    "`towns` is a data frame containing a list of several Swiss towns. The canton is not indicated in a separate column but rather as part of the town name in parenthesis. We would like to separate the information, such that given a string such as `\"Aarberg (BE)\"` we can extract two variables: `Aarberg` for the town, and `BE` for the canton.\n",
    "\n",
    "To do this, we will use the fact that the strings follow a specific pattern, i.e., `\"Town (CANTON)\"`. If the pattern was different amongst the towns, the task would be much more daunting and we would have to either group observations by matching patterns or generally be very careful in our string manipulation."
   ]
  },
  {
   "cell_type": "markdown",
   "id": "073329b5-04cf-41cb-88ec-7bdfc6b3c2b4",
   "metadata": {},
   "source": [
    "#### 🙀 🤯 Regular expression\n",
    "While most languages provide tools for string manipulation, there is also something called [regular expression](https://en.wikipedia.org/wiki/Regular_expression) or regex. regex is incredibly powerful and it allows to search for specific patterns in a text very quickly, furthermore, it is not Python-specific and can be used in almost all programming languages. Unfortunately, **regex is hard**. The syntax is totally different from typical programming languages and fairly unintuitive.\n",
    "\n",
    "To keep it simple, we will work with *pythonic* string manipulation, i.e., we will only use Python functions and not dabble with regex. You should, however, know that it exists as you will surely encounter it at some point in your data scientist career. In most cases, you won't need regex, and, in the few cases where you do need it, a simple search on stackoverflow will generally get you going, so don't stress about it too much!"
   ]
  },
  {
   "cell_type": "markdown",
   "id": "bd83aceb-2db4-4f36-aeee-97ee4ebcb4a7",
   "metadata": {},
   "source": [
    "## Strings are lists!?\n",
    "When doing string manipulation in Python, it's good to view strings as lists of characters. While this is not exactly the case, it's a useful approximation. In fact, you can access the elements in a string the same way you would access them in a list:"
   ]
  },
  {
   "cell_type": "code",
   "execution_count": null,
   "id": "d1006422-5a4d-4419-969f-214110ae3dea",
   "metadata": {},
   "outputs": [],
   "source": [
    "# Example string\n",
    "example_string = \"Town (CANTON)\""
   ]
  },
  {
   "cell_type": "code",
   "execution_count": null,
   "id": "f3099647-786a-4eba-90fa-f1f1ee1c2967",
   "metadata": {},
   "outputs": [],
   "source": [
    "# Get only first 4 characters of the string\n",
    "example_string[:4]"
   ]
  },
  {
   "cell_type": "code",
   "execution_count": null,
   "id": "498dce45-cd31-4d93-bc5a-18efd538148c",
   "metadata": {},
   "outputs": [],
   "source": [
    "# Get only last 8 characters of the string\n",
    "example_string[-8:]"
   ]
  },
  {
   "cell_type": "markdown",
   "id": "4a9f3267-cd17-4963-8ab5-422a93a68cdd",
   "metadata": {},
   "source": [
    "#### ➡️ ✏️ Task 1\n",
    "Using indexing as above, extract the word `\"CANTON\"`, i.e., the last 7 characters up to the penultimate one."
   ]
  },
  {
   "cell_type": "code",
   "execution_count": null,
   "id": "0425ee65-20f8-4bf2-a005-730775f70d61",
   "metadata": {},
   "outputs": [],
   "source": [
    "# Enter code below\n",
    "example_string[-8:-1]"
   ]
  },
  {
   "cell_type": "markdown",
   "id": "4d2bf78a-4f23-4f3c-88ac-a39a7067a907",
   "metadata": {},
   "source": [
    "## String methods in Python"
   ]
  },
  {
   "cell_type": "markdown",
   "id": "e289f450-af65-43ed-bc1e-c2838b6e9b0f",
   "metadata": {},
   "source": [
    "While this is quite useful and subsetting your strings using indices will be enough in many cases, it doesn't always cut it. We could easily extract the canton codes in the `towns` dataframe using this method because all cantons have a 2 letter abbreviation. Instead, however, we might have a list of stocks with their ticker in parentheses, e.g.,\n",
    "\n",
    "```python\n",
    "stocks = [\"Nokia (NOK)\", \"Tesla (TSLA)\", \"BlackBerry (BB)\"]\n",
    "```"
   ]
  },
  {
   "cell_type": "markdown",
   "id": "6016a77b-8bc4-4774-92e0-cc2900eb067b",
   "metadata": {},
   "source": [
    "In such a case, we can't simply index every string using the same logic as above. Luckily for us, Python provides some useful string manipulation methods! Let's go over some of the most useful ones."
   ]
  },
  {
   "cell_type": "markdown",
   "id": "6141e999-4136-404c-89dc-b107d52a384b",
   "metadata": {},
   "source": [
    "### Upper and lower case\n",
    "This is mostly useful when dealing with data that has been entered manually by somebody (because human mistakes happen a lot!) or when working on natural language processing tasks. Python provides simple methods to transform strings or parts thereof to upper and lower case. Observe the following examples:"
   ]
  },
  {
   "cell_type": "code",
   "execution_count": null,
   "id": "078cb75c-1901-4416-8d20-db6d3af477de",
   "metadata": {},
   "outputs": [],
   "source": [
    "my_text = \"According to all known laws of aviation, there is no way a bee should be able to fly. Its wings are too small to get its fat little body off the ground. The bee, of course, flies anyway because bees don't care what humans think is impossible.\"\n",
    "my_text"
   ]
  },
  {
   "cell_type": "code",
   "execution_count": null,
   "id": "084c276c-cf35-4785-b677-e98d5be5f73f",
   "metadata": {},
   "outputs": [],
   "source": [
    "# Pass the string to upper case\n",
    "my_text.upper()"
   ]
  },
  {
   "cell_type": "code",
   "execution_count": null,
   "id": "3d936d3e-a50b-47e2-ad79-22365ca0fae0",
   "metadata": {},
   "outputs": [],
   "source": [
    "# Pass the text to lower case\n",
    "my_text.lower()"
   ]
  },
  {
   "cell_type": "code",
   "execution_count": null,
   "id": "ba78657b-0f1b-4d79-bc30-b8711456c64a",
   "metadata": {},
   "outputs": [],
   "source": [
    "# Everything lower case except the very first letter which is upper case\n",
    "my_text.capitalize()"
   ]
  },
  {
   "cell_type": "code",
   "execution_count": null,
   "id": "0b385a4a-41e1-404b-a2ca-f28c8e53225c",
   "metadata": {},
   "outputs": [],
   "source": [
    "# Change upper case to lower case and vice-versa\n",
    "my_text.swapcase()"
   ]
  },
  {
   "cell_type": "code",
   "execution_count": null,
   "id": "f7b377cd-74ac-4d97-b143-498d45110bee",
   "metadata": {},
   "outputs": [],
   "source": [
    "# Every first letter is upper case, the rest is lower case\n",
    "my_text.title()"
   ]
  },
  {
   "cell_type": "markdown",
   "id": "81a3dd55-82f2-4105-a34f-16844dbac511",
   "metadata": {},
   "source": [
    "### Split, strip, and replace\n",
    "While changing letter case is useful, it is probably not the kind of string manipulation you will be using most often. Stripping and splitting strings, however, is without doubt the two string methods you will be using most in Python, so pay close attention!\n",
    "\n",
    "**Splitting** a string allows split or separate a string on a specified character. For instance, we could split the above text into sentences, using a split on the dot character (`.`) or we could split the above text into words, using a split on the whitespace character (` `)."
   ]
  },
  {
   "cell_type": "code",
   "execution_count": null,
   "id": "76c6927f-5df7-43d2-9d24-aa5fb8674edb",
   "metadata": {},
   "outputs": [],
   "source": [
    "# Split the text into a list of sentences\n",
    "sentence_list = my_text.split(\".\")\n",
    "# Display the result\n",
    "sentence_list"
   ]
  },
  {
   "cell_type": "code",
   "execution_count": null,
   "id": "f0b370df-d33e-49e5-8221-9c0211338c31",
   "metadata": {},
   "outputs": [],
   "source": [
    "# Split the text into a list of words\n",
    "word_list = my_text.split(\" \")\n",
    "# Display the result\n",
    "word_list"
   ]
  },
  {
   "cell_type": "markdown",
   "id": "11c1e552-c65e-46ee-a0dd-93c7ea7bb916",
   "metadata": {},
   "source": [
    "Did you notice how the character we split on actually disappears? Furthermore, did you notice that the lists are not very clean, in the list of sentences, we have sentences starting with a whitespace and in the list of words, the dots and commas are still there for some words (e.g. `\"aviation,\"`, `\"fly.\"`, `\"impossible.\"`, etc.). Can we do a bit better?\n",
    "\n",
    "**Stripping** a string means that we will drop some characters. In general, we do this when the data is not especially clean, such as in the lists of sentences and words above. Observe the following.\n"
   ]
  },
  {
   "cell_type": "code",
   "execution_count": null,
   "id": "13220ed7-4a51-4008-b2f4-de03286e6672",
   "metadata": {},
   "outputs": [],
   "source": [
    "# Remove leading and trailing whitespaces in each sentence\n",
    "# (We can also use .lstrip for leading whitespaces and .rstrip for trailing whitespaces)\n",
    "[s.strip() for s in sentence_list]"
   ]
  },
  {
   "cell_type": "markdown",
   "id": "712e9d86-430f-402b-ac54-3cad97cf168a",
   "metadata": {},
   "source": [
    "But we can also pass an argument to the `.strip` method, i.e., we can also strip the text from something else than whitespaces, for instance, dots and commas!"
   ]
  },
  {
   "cell_type": "code",
   "execution_count": null,
   "id": "2fa49a09-b253-474e-b10d-2fc297ae6b07",
   "metadata": {},
   "outputs": [],
   "source": [
    "# Remove dots and commas from each word\n",
    "[w.strip(\".,\") for w in word_list]"
   ]
  },
  {
   "cell_type": "markdown",
   "id": "ccc10917-e719-4723-b3f0-d03bde45195d",
   "metadata": {},
   "source": [
    "Finally, sometimes we might want to replace some character or word occurence instead of stripping it completely. For instance, we might want to replace dots with commas or vice-versa, but we could also replace a specific word with another, consider the following example."
   ]
  },
  {
   "cell_type": "code",
   "execution_count": null,
   "id": "e843bdc9-d072-466a-9779-4f79d69a5883",
   "metadata": {},
   "outputs": [],
   "source": [
    "# Replace the word bee with the word bumblebee in the full text\n",
    "my_text.replace(\"bee\", \"bumblebee\")"
   ]
  },
  {
   "cell_type": "code",
   "execution_count": null,
   "id": "4ea3f221-ba6d-4a0e-b6bb-ca6d7ee3803d",
   "metadata": {},
   "outputs": [],
   "source": [
    "# Sometimes also useful\n",
    "\"impossible\" in my_text"
   ]
  },
  {
   "cell_type": "markdown",
   "id": "214dceac-557e-45ae-8747-ee61d6975421",
   "metadata": {},
   "source": [
    "## Escape characters\n",
    "Lastly, it is also important to understand what [escape characters](https://en.wikipedia.org/wiki/Escape_character) are, as you will surely encounter them in the wild. The *backslash* character `\\` in a string, is a so called escape character and it can be used to represent special characters that you cannot simply add in your string.\n",
    "\n",
    "For instance, what if we wanted to format our little text and add a new line after each sentence? In such a case we can use `\\n`, which produces a new line."
   ]
  },
  {
   "cell_type": "code",
   "execution_count": null,
   "id": "c351933b-b565-43a3-9a10-2210b10fbcb8",
   "metadata": {},
   "outputs": [],
   "source": [
    "# A string display on two lines\n",
    "my_string = \"First line\\nSecond line\"\n",
    "print(my_string)"
   ]
  },
  {
   "cell_type": "markdown",
   "id": "d6611b78-66a8-4891-9d2f-969c02fadbc8",
   "metadata": {},
   "source": [
    "The `\\n` was directly interpreted as a new line when displaying the string. When you obtain a text, e.g., through web-scraping, you will often have many newlines and other various special characters in your text, so it's important to know about their existence, even though we will not go over them in detail in this class."
   ]
  },
  {
   "cell_type": "code",
   "execution_count": null,
   "id": "72913c01-f70f-404a-b2ff-9c1ccf3c87a3",
   "metadata": {},
   "outputs": [],
   "source": [
    "# Print the bee movie introduction on separate lines\n",
    "print(my_text.replace(\". \", \".\\n\"))"
   ]
  },
  {
   "cell_type": "markdown",
   "id": "cb5a51ee-bb86-4127-b587-1d4b17b4cc7e",
   "metadata": {},
   "source": [
    "#### ➡️ ✏️ Task 2\n",
    "Modify the following function, such that it extracts the town and the canton separately from a given string in the form of `\"TOWN (CANTON)\"` and run the cell below to check whether your code works."
   ]
  },
  {
   "cell_type": "code",
   "execution_count": null,
   "id": "c6bcf17a-220d-4055-8c02-6734d0ad86ec",
   "metadata": {},
   "outputs": [],
   "source": [
    "def extract_town_canton(input_string):\n",
    "    # Use .split to separate the town and canton\n",
    "    town, canton = input_string.split() # ➡️ ✏️ Split on the right character!\n",
    "    # ➡️ ✏️ Add a .strip method to get rid of parentheses on the canton\n",
    "    \n",
    "    return town, canton # Output results"
   ]
  }
 ],
 "metadata": {
  "kernelspec": {
   "display_name": "Python 3 (ipykernel)",
   "language": "python",
   "name": "python3"
  },
  "language_info": {
   "codemirror_mode": {
    "name": "ipython",
    "version": 3
   },
   "file_extension": ".py",
   "mimetype": "text/x-python",
   "name": "python",
   "nbconvert_exporter": "python",
   "pygments_lexer": "ipython3",
   "version": "3.10.8"
  }
 },
 "nbformat": 4,
 "nbformat_minor": 5
}

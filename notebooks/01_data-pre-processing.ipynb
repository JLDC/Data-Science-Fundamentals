{
 "cells": [
  {
   "cell_type": "markdown",
   "id": "b2ec793c-7b1d-4a55-8256-de75ca440fc6",
   "metadata": {},
   "source": [
    "<a target=\"_blank\" href=\"https://colab.research.google.com/github/JLDC/Data-Science-Fundamentals/blob/master/notebooks/01_data-pre-processing.ipynb\">\n",
    "    <img src=\"https://i.ibb.co/2P3SLwK/colab.png\"  style=\"padding-bottom:5px;\" />Open this notebook in Google Colab\n",
    "</a>\n",
    "\n",
    "___"
   ]
  },
  {
   "cell_type": "markdown",
   "id": "15ea0852-2e0f-4cb8-a9dd-543ed81a94f3",
   "metadata": {},
   "source": [
    "# A First Encounter with Data in Python\n",
    "___\n",
    "In the first class, you have gotten to know the iris data, a type of *\"hello world\"* object in data science. In this script, we will play around with the iris data using Python code. You will learn the very first steps of what we call **data pre-processing**, i.e. making data ready for (algorithmic) analysis."
   ]
  },
  {
   "cell_type": "markdown",
   "id": "ed48ec3b-b7e7-4e63-ad64-c029fd937cc6",
   "metadata": {},
   "source": [
    "\n",
    "## Getting to know new data\n",
    "___\n",
    "When we obtain new data, we have to inspect it to understand its contents and gather ideas on how to proceed with the analysis. Let us start by getting familiar with the **iris** dataset using Python's dataframe package: `pandas`."
   ]
  },
  {
   "cell_type": "code",
   "execution_count": null,
   "id": "5c39b77f-f52c-4044-890c-f671583bc780",
   "metadata": {},
   "outputs": [],
   "source": [
    "# pandas is the Python package for dataframes, i.e., data management\n",
    "import pandas as pd \n",
    "\n",
    "# Define the path where the data is stored\n",
    "DATA_PATH = \"https://raw.githubusercontent.com/JLDC/Data-Science-Fundamentals/master/data\""
   ]
  },
  {
   "cell_type": "code",
   "execution_count": null,
   "id": "54327d72-27b3-463c-bc25-60d5cbfbd04c",
   "metadata": {},
   "outputs": [],
   "source": [
    "# Load the iris dataset indicating the path to the data file\n",
    "pd.read_csv(f\"{DATA_PATH}/iris.csv\")"
   ]
  },
  {
   "cell_type": "code",
   "execution_count": null,
   "id": "c772f9f9-7004-45e4-abdc-c3fd42c79748",
   "metadata": {},
   "outputs": [],
   "source": [
    "# It's more convenient if you give it a name...\n",
    "iris = pd.read_csv(f\"{DATA_PATH}/iris.csv\")"
   ]
  },
  {
   "cell_type": "code",
   "execution_count": null,
   "id": "2b6a074d-fa22-40d5-a4ca-9d7ca000037f",
   "metadata": {},
   "outputs": [],
   "source": [
    "type(iris) # Object type of the iris variable"
   ]
  },
  {
   "cell_type": "raw",
   "id": "fdb54fff-60d0-46f4-8f24-e441aa00c88d",
   "metadata": {},
   "source": [
    "iris # Display the content of the iris dataset"
   ]
  },
  {
   "cell_type": "code",
   "execution_count": null,
   "id": "7aaad945-260e-49a4-80dd-bade39d6d9cd",
   "metadata": {},
   "outputs": [],
   "source": [
    "# We can also just display the first (or last) few variables instead\n",
    "iris.head(10) # 10 first observations\n",
    "# head is called a METHOD"
   ]
  },
  {
   "cell_type": "code",
   "execution_count": null,
   "id": "72dc1481-4bce-4cea-9372-946a189df108",
   "metadata": {},
   "outputs": [],
   "source": [
    "iris.tail(6) # 6 last observations"
   ]
  },
  {
   "cell_type": "markdown",
   "id": "169e85ee-5bdd-42b5-b7e1-62d30951e0c0",
   "metadata": {},
   "source": [
    "### A note on functions and methods\n",
    "Notice above how we have applied functions to the iris dataframe in different manners:\n",
    "1. `type(iris)`\n",
    "2. `iris.head()`\n",
    "\n",
    "In the first case, `type` is a **function** and the argument we provide to the function is the dataframe `iris`. We could, however, also have used any other object, e.g., `type(42)`, `type(None)`, or, `type(\"data science is fun!\")`.\n",
    "\n",
    "In the second case, `head` is a **method**. A method is a special kind of function, which can only be called on specific objects, e.g., we cannot use `42.head()`, `nothing.head()`, or even `\"data science is fun!\".head()`. In this case, the `DataFrame` object from the `pandas` package, comes with a set of built-in methods. This is an important characteristic of **object-oriented programming**: we can create objects and we can define specific attributes or methods that only those objects will have.\n",
    "\n",
    "This can seem somewhat overwhelming at first, but don't worry. While it can be helpful to understand these concepts, you don't have to know everything about them to use Python for data science!"
   ]
  },
  {
   "cell_type": "code",
   "execution_count": null,
   "id": "37c65889-68e7-4372-959d-e994b2dd06b0",
   "metadata": {},
   "outputs": [],
   "source": [
    "iris.columns # Column names of the dataset"
   ]
  },
  {
   "cell_type": "raw",
   "id": "ed4bca91-d28e-4104-a703-bec940f72359",
   "metadata": {},
   "source": [
    "iris.describe() # Summary statistics of the dataset"
   ]
  },
  {
   "cell_type": "code",
   "execution_count": null,
   "id": "63a8e73e-8150-4645-9bb7-78d354e1d2b6",
   "metadata": {},
   "outputs": [],
   "source": [
    "iris.shape # Display the shape of the dataset (number of rows, number of columns)"
   ]
  },
  {
   "cell_type": "code",
   "execution_count": null,
   "id": "0eebc5b7-16f1-4509-9206-abb3cc948f0d",
   "metadata": {},
   "outputs": [],
   "source": [
    "# the .shape method delivers a tuple, thus we can access the elements using bracket indexing\n",
    "print(f\"The 'iris' dataset has {iris.shape[0]} rows, and {iris.shape[1]} columns.\")"
   ]
  },
  {
   "cell_type": "markdown",
   "id": "ed72eb76-78ea-4f28-a197-23320e5ad62f",
   "metadata": {},
   "source": [
    "## Selecting a subset of the data\n",
    "___\n",
    "Using `pandas`, there are several ways of subsetting the data. \n",
    "\n",
    "### Selecting only specific columns (features / variables)"
   ]
  },
  {
   "cell_type": "raw",
   "id": "c53aca04-df1e-4527-aaaf-ec82609f1fdc",
   "metadata": {},
   "source": [
    "iris[\"sepal length (cm)\"] # Subset a single column of the dataset using its name"
   ]
  },
  {
   "cell_type": "code",
   "execution_count": null,
   "id": "22182f58-480a-41b8-b942-06ee8e8cde17",
   "metadata": {},
   "outputs": [],
   "source": [
    "print(f\"The type of the full dataset is: {type(iris)}\")\n",
    "print(f\"The type of a single column is: {type(iris['sepal length (cm)'])}\")"
   ]
  },
  {
   "cell_type": "markdown",
   "id": "6fe0eec7-39a9-4f64-b563-b2c37e33c6db",
   "metadata": {},
   "source": [
    "Notice how the single column is a `Series` and not a `DataFrame`. If you want your subset to be a dataframe with a single column, the name needs to be passed in a list, i.e.,"
   ]
  },
  {
   "cell_type": "raw",
   "id": "6a44852f-9b9a-43e5-b91b-93fecbd295b0",
   "metadata": {},
   "source": [
    "iris[[\"sepal length (cm)\"]] # Subset a single column as a dataframe"
   ]
  },
  {
   "cell_type": "code",
   "execution_count": null,
   "id": "27c0846e-dc9e-44a5-b3c9-b04085c83221",
   "metadata": {},
   "outputs": [],
   "source": [
    "# We can also subset multiple columns at once\n",
    "iris[[\"sepal length (cm)\", \"petal length (cm)\"]]"
   ]
  },
  {
   "cell_type": "markdown",
   "id": "c865476a-105a-4763-af5b-7989cc2c574c",
   "metadata": {},
   "source": [
    "Sometimes, it's easier to access the columns using their number instead of their names, we can use the `.columns` attribute to do so:"
   ]
  },
  {
   "cell_type": "code",
   "execution_count": null,
   "id": "4695b22c-98ce-427b-b8fb-ba10be9ef1f5",
   "metadata": {},
   "outputs": [],
   "source": [
    "# Subset first 2 columns (remember, in Python we start counting at zero!)\n",
    "iris[iris.columns[:2]]"
   ]
  },
  {
   "cell_type": "markdown",
   "id": "eba11105-4150-4a52-b745-063dcad09730",
   "metadata": {},
   "source": [
    "Negative subsetting is also possible, i.e., subsetting everything but a single column. This is somewhat different to the subsetting we have seen as we use the method `.drop`. Note that this does not act *in-place*, i.e., the iris dataframe still contains the column we drop."
   ]
  },
  {
   "cell_type": "code",
   "execution_count": null,
   "id": "0582501d-a760-4d67-9ae9-8adc0db977a7",
   "metadata": {},
   "outputs": [],
   "source": [
    "# Selecting everything but petal width\n",
    "iris.drop(columns=[\"petal width (cm)\"])"
   ]
  },
  {
   "cell_type": "markdown",
   "id": "e8fbcef2-e53b-46c8-9275-7e8c55045561",
   "metadata": {},
   "source": [
    "#### ➡️ ✏️ Task 1 \n",
    "\n",
    "In the cell below, write your own code to compute the mean value of each column of the iris dataframe **except the last (species)**.\n",
    "\n",
    "*Hint:* `pandas` dataframes come with the handy method `.mean()`, which will compute the mean across all columns of the dataframe (or the chosen subset). "
   ]
  },
  {
   "cell_type": "code",
   "execution_count": null,
   "id": "52527b69-9f80-4f26-8892-245f5cfe98aa",
   "metadata": {},
   "outputs": [],
   "source": [
    "# Enter your code here\n"
   ]
  },
  {
   "cell_type": "markdown",
   "id": "fdccf746-ab9d-4e2e-b37d-62b0b85942fd",
   "metadata": {},
   "source": [
    "### Selecting only specific rows (observations)\n",
    "\n",
    "We have now seen how to select specific columns, but of course, we can also subset our dataframe row-wise instead of column-wise. In general, this is done using the `.loc` property but this is slightly more tricky than column-wise subsetting, so we need to introduce a few concepts."
   ]
  },
  {
   "cell_type": "markdown",
   "id": "538a8a91-55c7-49be-94c6-3a1fa2bd4026",
   "metadata": {},
   "source": [
    "#### Index of a dataframe\n",
    "In Python, each row of a `pandas` dataframe has a corresponding index, you can use the method `.index` to access it, but you can also view it when displaying the dataframe (see above, the first bold number on each row is the index of the corresponding row).\n",
    "\n",
    "There are generally two ways we can subset a dataframe row-wise:\n",
    "1. by accessing the index directly,\n",
    "2. by providing a boolean array"
   ]
  },
  {
   "cell_type": "code",
   "execution_count": null,
   "id": "d12daae6-03c2-4924-9f48-efe95596a599",
   "metadata": {},
   "outputs": [],
   "source": [
    "iris.loc[1:5] # Subset the dataframe to rows with index 1 to 5"
   ]
  },
  {
   "cell_type": "markdown",
   "id": "42275c3e-6b46-4f96-a378-0ad6282b4dd1",
   "metadata": {},
   "source": [
    "Subsetting rows using the index is easy and straightforward, but it can be confusing if the index is not ordered, **which can sometimes happen!**\n",
    "\n",
    "Here is an example of a non-ordered index dataframe and how filtering on the index affects the chosen subset. Notice how the index is not ordered, of course this is a somewhat *dumb* pedagogical example but it often happens in practice! In particular when the dataframe is cleaned and some rows are dropped"
   ]
  },
  {
   "cell_type": "code",
   "execution_count": null,
   "id": "0197f159-cfc6-440e-877d-54045613a17f",
   "metadata": {},
   "outputs": [],
   "source": [
    "# Create an example dataframe with non ordered index\n",
    "example_df = pd.DataFrame({\"row_number\": [0, 1, 2, 3, 4, 5]}, index=[5,0,4,1,2,3])\n",
    "example_df"
   ]
  },
  {
   "cell_type": "code",
   "execution_count": null,
   "id": "7fe2aecb-5c2e-45c9-861c-035429a85ece",
   "metadata": {},
   "outputs": [],
   "source": [
    "# Subset the index with index-number 1 to 3, notice how it is not the first three rows!!!\n",
    "example_df.loc[1:3]"
   ]
  },
  {
   "cell_type": "markdown",
   "id": "88b4432f-980e-4b88-9ca7-e71c3d98d0cc",
   "metadata": {},
   "source": [
    "Okay, perhaps this is a bit complicated and you haven't yet understood everything. This is fine, just know that **subsetting on the index can be dangerous if you're not sure of what you are doing!**\n",
    "\n",
    "Instead, it is often simpler to use a boolean array to do the indexing, so let's look at that. For instance, say we want to keep only observations with a petal width of 0.5 cm or more, how can we do this?"
   ]
  },
  {
   "cell_type": "code",
   "execution_count": null,
   "id": "b9a4da30-03af-486f-af95-f92fc16df0d5",
   "metadata": {},
   "outputs": [],
   "source": [
    "# Returns a boolean array of true/false depending on the petal width\n",
    "iris[\"petal width (cm)\"] > .5 "
   ]
  },
  {
   "cell_type": "code",
   "execution_count": null,
   "id": "10f38f38-91ea-4871-96bc-7fbe2d99dd68",
   "metadata": {},
   "outputs": [],
   "source": [
    "# We can use this array as an input to the .loc[] property\n",
    "iris.loc[    \n",
    "    iris[\"petal width (cm)\"] > .5    \n",
    "]"
   ]
  },
  {
   "cell_type": "markdown",
   "id": "06aab6cf-3260-4ba2-9cd3-30cc1052a274",
   "metadata": {},
   "source": [
    "Et voilà, we have filtered our dataframe to only have observations with more than 0.5 cm petal width. Time to try it out yourself.\n",
    "\n",
    "#### ➡️ ✏️ Task 2 \n",
    "In the cell below, subset the dataframe such that it contains only observations of the species **\"virginica\"**.\n",
    "\n",
    "*Hint:* remember, in Python, `=` represents assignment, while equality is represented by `==`."
   ]
  },
  {
   "cell_type": "code",
   "execution_count": null,
   "id": "cf0a9196-1a7d-4027-ba06-bd4a196f5339",
   "metadata": {},
   "outputs": [],
   "source": [
    "# Enter your code here\n"
   ]
  },
  {
   "cell_type": "markdown",
   "id": "638493bb-fd80-497a-bfd2-ca6b2a9d4ae5",
   "metadata": {},
   "source": [
    "### Selecting specific columns and rows\n",
    "\n",
    "The `.loc` property can also be used to subset columns, the general idea is to write `.loc[row_subset_condition, column_subset_condition]`, for instance, we can display the petal width and length of all observations with a petal length of more than 6 cm."
   ]
  },
  {
   "cell_type": "code",
   "execution_count": null,
   "id": "dbf57177-24eb-4b1b-afa4-a483f2376c21",
   "metadata": {},
   "outputs": [],
   "source": [
    "# Before the comma, we have the row filtering logic, after the comma, the column filtering logic\n",
    "iris.loc[\n",
    "    iris[\"petal length (cm)\"] > 6, # selection of rows\n",
    "    \n",
    "    [\"petal width (cm)\", \"petal length (cm)\"]  # selection of columns\n",
    "]"
   ]
  },
  {
   "cell_type": "markdown",
   "id": "a466c857-80b3-4cee-aae1-adab2c32ae91",
   "metadata": {},
   "source": [
    "#### ➡️ ✏️ Task 3 \n",
    "In the cell below, display the mean sepal length and mean sepal width of all observations with a petal width of at least 2 cm.\n",
    "\n",
    "*Hint:* in Python, larger or equal is represented by `>=`"
   ]
  },
  {
   "cell_type": "code",
   "execution_count": null,
   "id": "dc21b407-3ec8-4ee0-a1c4-fbbcdcf52f5e",
   "metadata": {},
   "outputs": [],
   "source": [
    "# Enter your code here\n"
   ]
  },
  {
   "cell_type": "markdown",
   "id": "f29ab07a-0ea0-4cc0-a7aa-0023f425bfe4",
   "metadata": {},
   "source": [
    "\n",
    "## Adding and removing columns\n",
    "___\n",
    "We have now seen how to view subsets of our dataframe, but what if we want to add or remove specific columns?\n",
    "\n",
    "Let's begin by adding new columns, which is very easily done."
   ]
  },
  {
   "cell_type": "code",
   "execution_count": null,
   "id": "2d58787c-64d0-498e-8e2c-c0e8cea13b63",
   "metadata": {},
   "outputs": [],
   "source": [
    "# Add a new column full of 1\n",
    "iris[\"my_new_column\"] = 1"
   ]
  },
  {
   "cell_type": "code",
   "execution_count": null,
   "id": "8f5ed2f0-c5ed-443c-8701-e4aee46f6b02",
   "metadata": {},
   "outputs": [],
   "source": [
    "iris # View the dataframe"
   ]
  },
  {
   "cell_type": "markdown",
   "id": "6df88a53-0f78-452a-8c0e-0c8e795fa8b0",
   "metadata": {},
   "source": [
    "This was easy, but adding a column of only 1s might not be very useful. Instead, we can also pass an array with same size as the number of observations. For instance, we could add the squared petal width as a new column."
   ]
  },
  {
   "cell_type": "code",
   "execution_count": null,
   "id": "16a3f397-0ee4-48b5-9ae0-d138dad6267d",
   "metadata": {},
   "outputs": [],
   "source": [
    "# Recall how the power operator in Python is **\n",
    "iris[\"sq. petal width (cm²)\"] = iris[\"petal width (cm)\"] ** 2\n",
    "iris # View the dataframe"
   ]
  },
  {
   "cell_type": "markdown",
   "id": "b4dfd8b0-4642-45b7-ad05-02e0aac54b80",
   "metadata": {},
   "source": [
    "Removing a column is very easy as well, in fact, we have nearly seen how to do it above when we did negative filtering on columns. We are going to use the `.drop` method, but this time, we want the `.drop` to act permanently. "
   ]
  },
  {
   "cell_type": "code",
   "execution_count": null,
   "id": "28e6f4d0-05c8-4c46-99c3-7d7431e15326",
   "metadata": {},
   "outputs": [],
   "source": [
    "# Notice how with the inplace=True argument, the iris dataframe is overwritten\n",
    "iris.drop(columns=[\"my_new_column\"], inplace=True)\n",
    "# Another possible way to do this is to use\n",
    "# iris = iris.drop(columns=[\"my_new_column\"])\n",
    "iris = iris.drop(columns=[\"my_new_column\"])\n",
    "iris # View the data"
   ]
  },
  {
   "cell_type": "markdown",
   "id": "540d8770-d842-47b7-b620-f7497c03983f",
   "metadata": {},
   "source": [
    "### A note on inplace methods and overwriting\n",
    "\n",
    "In `pandas`, a few methods come with an `inplace` argument, e.g., the `.drop` method used above. When `inplace=False`, the method does not change the initial dataframe, it just outputs a new object, which is a modified version of the initial dataframe. When `inplace=True`, however, the method acts **directly** on the initial dataframe and does not return anything!\n",
    "\n",
    "In general, the two following are equivalent:\n",
    "\n",
    "```python\n",
    "my_df.some_method(..., inplace=True) # my_df gets modified 'in place'\n",
    "my_df = my_df.some_method(..., inplace=False) # the modified version of my_df is assigned to my_df\n",
    "```\n",
    "\n",
    "however, the first one is slightly more elegant.\n"
   ]
  },
  {
   "cell_type": "markdown",
   "id": "d877bc5a-b2f8-42d7-9e85-fd042199d421",
   "metadata": {},
   "source": [
    "\n",
    "## Grouping the data\n",
    "___\n",
    "If you are familiar with Excel and pivot tables, you already know what *grouping* means even if you have never heard this term before. The main idea behind *grouping* is to group variables together such that we can compute some statistic on the each group, e.g., we might want to group the dataset by species and compute different statistics for each individual species."
   ]
  },
  {
   "cell_type": "code",
   "execution_count": null,
   "id": "f6e9de10-fdb3-4b12-9c01-7c6921b14421",
   "metadata": {},
   "outputs": [],
   "source": [
    "# Compute the mean of each variable for every species\n",
    "iris.groupby(\"species\").mean()"
   ]
  },
  {
   "cell_type": "markdown",
   "id": "b977d184-92a5-41f9-bb0a-e30589bf3c81",
   "metadata": {},
   "source": [
    "Looking at this example, grouping might seem easy. But what if you want to obtain more than just the mean of the variables? And what if you don't want to obtain statistics for all variables? In this case, the `.agg` method must be used, as you can see from the following example, it is extremely flexible:"
   ]
  },
  {
   "cell_type": "code",
   "execution_count": null,
   "id": "fa7db1bc-3502-4ab3-b62a-df649d173074",
   "metadata": {},
   "outputs": [],
   "source": [
    "# Group the data by species, get the mean and median of the sepal length, \n",
    "# the min and max of the petal width, and the number of observation for each species\n",
    "iris.groupby(\"species\").agg({\n",
    "    \"sepal length (cm)\": [\"mean\", \"median\"],\n",
    "    \"petal width (cm)\": [\"min\", \"max\"],\n",
    "    \"species\": [\"count\"]\n",
    "})"
   ]
  },
  {
   "cell_type": "markdown",
   "id": "d636e070-2b39-4f21-b354-4b57b785fabb",
   "metadata": {},
   "source": [
    "Perhaps that was a bit complicated... in most cases, you will be fine with simpler `groupby(...).agg(...)` statements, but this is a nice illustration of how powerful it can be."
   ]
  },
  {
   "cell_type": "markdown",
   "id": "dfc1b633-00ba-469c-a330-13ed6b6a2609",
   "metadata": {},
   "source": [
    "#### ➡️ ✏️ Task 4\n",
    "For each iris species, compute the mean and standard deviation of the petal length in centimeters.\n",
    "\n",
    "*Hint:* The standard deviation can be computed using `std`."
   ]
  },
  {
   "cell_type": "code",
   "execution_count": null,
   "id": "3cbf78fa-9b36-4a39-8de5-37817c8a75c3",
   "metadata": {},
   "outputs": [],
   "source": [
    "# Enter your code below\n"
   ]
  }
 ],
 "metadata": {
  "kernelspec": {
   "display_name": "Python 3 (ipykernel)",
   "language": "python",
   "name": "python3"
  },
  "language_info": {
   "codemirror_mode": {
    "name": "ipython",
    "version": 3
   },
   "file_extension": ".py",
   "mimetype": "text/x-python",
   "name": "python",
   "nbconvert_exporter": "python",
   "pygments_lexer": "ipython3",
   "version": "3.10.8"
  },
  "vscode": {
   "interpreter": {
    "hash": "d4d1e4263499bec80672ea0156c357c1ee493ec2b1c70f0acce89fc37c4a6abe"
   }
  }
 },
 "nbformat": 4,
 "nbformat_minor": 5
}

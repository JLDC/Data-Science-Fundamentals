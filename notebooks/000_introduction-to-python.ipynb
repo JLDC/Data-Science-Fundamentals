{
 "cells": [
  {
   "cell_type": "markdown",
   "id": "740d34fc-25ca-4a6e-a851-4615a6c781db",
   "metadata": {},
   "source": [
    "<a target=\"_blank\" href=\"https://colab.research.google.com/github/JLDC/Data-Science-Fundamentals/blob/master/notebooks/000_introduction-to-python.ipynb\">\n",
    "    <img src=\"https://i.ibb.co/2P3SLwK/colab.png\"  style=\"padding-bottom:5px;\" />Open this notebook in Google Colab\n",
    "</a>\n",
    "\n",
    "___"
   ]
  },
  {
   "cell_type": "markdown",
   "id": "dc5dffaf-2cac-4116-8eff-82fcf321ac82",
   "metadata": {
    "tags": []
   },
   "source": [
    "# Data Science Fundamentals\n",
    "\n",
    "___\n",
    "\n",
    "Welcome to the **Data Science Fundamentals** course. In this course, you will view many Jupyter notebooks (We will explain what these are).\n",
    "\n",
    "We try to keep some similar structure across all the notebooks. In particular, we try to stick to a similar notation, be it mathematical notation or general notation indicating *how you should behave* when reading these notebooks.\n",
    "\n",
    "Before we explain the notation, let us state the most important thing you should remember when going through those notebooks:\n",
    "\n",
    "> You can freely modify the notebooks and try things out. **Do it.** There is a well-known adage that states\n",
    ">\n",
    "> ***I hear, I know. I see, I remember, I do, I understand.***\n",
    "> I am a firm believer in this mantra. You could simply go through the notebooks and run the code, but you would only learn half as much. Try changing things and adding your custom code. You will run into errors, and that is okay. You will also improve, and in no time, you will become quite good at programming and data science. So do yourself a favor, and try to get your hands dirty as much as possible!\n",
    "\n",
    "Now that this is out the way, let's quickly go over the notation you will encounter in the notebooks.\n",
    "\n",
    "\n",
    "\n",
    "## Notation\n",
    "___\n",
    "### Notebook notation\n",
    "\n",
    "In the notebooks, you will find sections with emojis. The emojis can be interpreted as follows:\n",
    "\n",
    "➡️ ✏️: You have to either write a piece of code, discuss something with your classmates, or write something on paper. It's your turn to solve a problem.\n",
    "\n",
    "🙀 🤯: This is a section with complicated concepts. These are either involved mathematical notation or advanced programming concepts. **It's okay if you don't understand the contents on your first readthrough**. However, if you are interested in data science, it's good to re-read those sections and ensure you understand them when you have more knowledge.\n",
    "\n",
    "🤔: Pause and ponder. When learning, it's good to take a step back and think about what we are doing and why we are doing it this way. If you encounter this emoji, you should try to think about something and ensure you understand it.\n",
    "\n",
    "___\n"
   ]
  },
  {
   "cell_type": "markdown",
   "id": "5512fe6d-1cc8-436a-b528-5bd086418d0f",
   "metadata": {},
   "source": [
    "### Mathematical notation\n",
    "In general, we try to stick to the following notation in the notebooks, however, there might be some exceptions. If anything is unclear make sure to ask.\n",
    "\n",
    "+ $x$: a scalar value, i.e., some real number.\n",
    "+ $\\mathbf{x}$: a vector.\n",
    "+ $\\mathbf{X}$: a matrix.\n",
    "+ $x^{(i)}$ the $x$*-value* for the $i^\\text{th}$ observation in a set of data points. You will also encounter this superscript on vectors, i.e., $\\mathbf{x}^{(i)}$.\n",
    "___"
   ]
  },
  {
   "cell_type": "markdown",
   "id": "ddf0c6eb-464b-412c-bb94-5f04bef38bbb",
   "metadata": {
    "tags": []
   },
   "source": [
    "# Introduction to Jupyter\n",
    "___\n",
    "In this notebook, you will learn about the basics of Jupyter Lab and Python. This notebook's purpose is to get everybody up to speed on the basic tools used in this course. If you already had programming classes with Python, there might not be many new things to learn in here. Nonetheless, we recommend you go through the notebook so you can make sure you're knowledge is up-to-date.\n",
    "\n",
    "We try to present many concepts that we later re-use in the more advanced notebooks. It's okay if you don't understand every detail on the first readthrough. The main idea of introducing this many concepts is that you can come back to a simple example later, when you don't understand what is going on in what of the more advanced notebooks.\n",
    "\n",
    "## Getting started\n",
    "___\n",
    "The document you are reading is not a static web page, but an interactive environment called a **Jupyter notebook** that lets you write and execute code.\n",
    "\n",
    "For example, here is a **code cell** with a short Python script that computes a value, stores it in a variable, and prints the result:"
   ]
  },
  {
   "cell_type": "code",
   "execution_count": null,
   "id": "9ab27169-2844-4de4-82dd-220d10416ff7",
   "metadata": {},
   "outputs": [],
   "source": [
    "seconds_in_a_day = 24 * 60 * 60 # Compute the value and store it\n",
    "seconds_in_a_day # Display the value"
   ]
  },
  {
   "cell_type": "markdown",
   "id": "c43377ef-2dc8-4a5d-b676-adcaf0f72986",
   "metadata": {},
   "source": [
    "To execute the code in the above cell, select it with a click and then either press the play button to the left of the code, or use the keyboard shortcut \"Command/Ctrl/Shift+Enter\". To edit the code, just click the cell and start editing.\n",
    "\n",
    "Variables that you define in one cell can later be used in other cells:"
   ]
  },
  {
   "cell_type": "code",
   "execution_count": null,
   "id": "a3e73743-e991-4959-afba-f575fab7468d",
   "metadata": {},
   "outputs": [],
   "source": [
    "seconds_in_a_week = 7 * seconds_in_a_day # Use the variable defined in the previous cell\n",
    "seconds_in_a_week # Display the result"
   ]
  },
  {
   "cell_type": "markdown",
   "id": "e08c3438-4b44-40b7-8a87-8cf36322f443",
   "metadata": {},
   "source": [
    "Jupyter notebooks allow you to combine **executable code** and **rich text** in a single document, along with **images**, **HTML**, **LaTeX** and more. "
   ]
  },
  {
   "cell_type": "markdown",
   "id": "5893a55d-5630-432c-91b0-7f59c2dbe4c3",
   "metadata": {
    "tags": []
   },
   "source": [
    "\n",
    "# Introduction to Python\n",
    "___\n",
    "Python is a general-purpose programming language, meaning it can be used to do a lot of different things. Building websites, creating games, analyzing data, programming AI and machine learning pipelines... you name it. Python does it all! Furthermore, Python is considered one of the easiest programming languages there is to learn.\n",
    "\n",
    "However, this flexibility comes with a cost:\n",
    "1. **Python is slow**. Writing a highly efficient program in pure Python is difficult and it will always be outperformed by other languages such as C++, Fortran, Julia, etc. However, this is not a big problem for us. In fact, Python comes with so-called packages (more on them later on), which are mainly written in C++ and Fortran. These packages basically allow us to write code in Python but with Fortran and C++ speed, unifying the best of both worlds. The only caveat, is that we need those packages to be fast, but don't worry! Python is widely adopted and the community is great. There is nearly no chance of you not finding a package for the task you are aiming to accomplish.\n",
    "2. **Python is not tailored for data science or statistics**. While this is not a big problem in itself, sometimes other languages such as R or Julia, which were developed with numerical computation in mind, can be slightly more intuitive when it comes to doing data science. This doesn't mean Python is bad in that regards, quite to the contrary, but, as you will see, we will learn about *Python basics* and then, we will have to change the way we think when dealing with arrays in the numerical computation package `numpy`.\n",
    "\n",
    "With all that being said, let's dive into the basics of Python."
   ]
  },
  {
   "cell_type": "markdown",
   "id": "e8f193a8-495a-425b-88db-0c6bb464801c",
   "metadata": {},
   "source": [
    "\n",
    "## Variables and types\n",
    "___\n",
    "A variable is a name associated with a value, this is useful for storing values and re-using them as we go."
   ]
  },
  {
   "cell_type": "code",
   "execution_count": null,
   "id": "ae9ffaf3-5bd2-4171-aa82-7aa26620ae77",
   "metadata": {},
   "outputs": [],
   "source": [
    "x = 10   # Assign the value 10 to the variable x\n",
    "x        # Display the value of x"
   ]
  },
  {
   "cell_type": "code",
   "execution_count": null,
   "id": "34ce1d44-13a0-41d5-9075-8cdd56b894ea",
   "metadata": {},
   "outputs": [],
   "source": [
    "# You can do math with variables\n",
    "x + 5"
   ]
  },
  {
   "cell_type": "code",
   "execution_count": null,
   "id": "af0e38ff-a624-48fc-a497-f5d6e4b65907",
   "metadata": {},
   "outputs": [],
   "source": [
    "# Note that x is still 10, we did NOT assign x + 5 to x, we just used x to do some math\n",
    "x"
   ]
  },
  {
   "cell_type": "code",
   "execution_count": null,
   "id": "21f81923-7f61-49ed-aabb-579c43c280a7",
   "metadata": {},
   "outputs": [],
   "source": [
    "# You can overwrite an existing variable\n",
    "x = 2 * 3 # You can also use math in the assignment of a variable\n",
    "x"
   ]
  },
  {
   "cell_type": "code",
   "execution_count": null,
   "id": "4ca2717b-cb68-498e-8f8f-4d1baa173cd0",
   "metadata": {},
   "outputs": [],
   "source": [
    "# You can also use variables in the assignment of variables\n",
    "x = x + 3 # A shorthand for incrementation is x += 3\n",
    "y = x + 3\n",
    "x, y"
   ]
  },
  {
   "cell_type": "markdown",
   "id": "16d7086d-6833-47b5-b746-1baf2fd9a9e7",
   "metadata": {},
   "source": [
    "### Variable names\n",
    "You cannot use any variable name you'd like, in general there are two things to look out for:\n",
    "1. There are some name of variables that will throw an error, such as starting your variable name with a number or using special characters like `?.\\+-*/` (`_` is allowed and very often used, e.g. `my_variable = 3`).\n",
    "2. There are reserved names. These are used by Python and cannot (or should not) be overwritten. E.g. `from`, `import`, `if`, `and`, `else`, `True`, `False`.\n",
    "\n",
    "Lastly, in programming there are *conventions*, that is, people agree on how the code should be written, it's not enforced but it's **very good practice** to follow these. The problem is that different people and different programming languages have different conventions, so it can get a bit messy. In Python, the most widely used convention is to follow [PEP 8](https://www.python.org/dev/peps/pep-0008/).\n",
    "\n",
    "If you pay close attention, you will see that we do not always strictly follow PEP 8. In practice, the conventions you will use greatly depend on the project you are working on and the team you are working with.\n",
    "\n",
    "As a rule of thumb, try to:\n",
    "+ **Make your variable names expressive but not too long**, e.g., `dataframe_of_bike_rentals` is too long and `d` is not very informative. A good name for your data of bike rentals could be `rentals`.\n",
    "+ **Use snake case**, i.e., separate words with an underscore. `this_is_an_example_of_a_variable_name_with_snake_case`, while `ThisIsAnExampleOfAVariableWithCamelCase`. Both snake and camel case are fine, but in Python, we generally use snake case for variables and use camel case to symbolize objects! You don't know the difference between objects and variables yet, but we won't be creating our own objects, so just stick to snake case, i.e., write everything small unless it's supposed to represent a matrix, then you might want to use somethings like `X` to represent the $\\mathbf{X}$ matrix."
   ]
  },
  {
   "cell_type": "markdown",
   "id": "84a8ad1f-5d5f-42e0-bcea-ce52ad62b0d2",
   "metadata": {},
   "source": [
    "### Variable types\n",
    "A variable can have different types. In the above example, our `x` was always an integer, the most common types are:\n",
    "\n",
    "|Type|Description|\n",
    "|----|-----------|\n",
    "|`int`|Integer, a number in $\\mathbb{Z}$|\n",
    "|`float`| Decimal or floating point number, a number in $\\mathbb{R}$|\n",
    "|`str`| String, a character string, e.g. `\"unisg\"`|\n",
    "|`bool`| Boolean, either `True` or `False`|"
   ]
  },
  {
   "cell_type": "markdown",
   "id": "b47718ab-c5aa-437a-af56-da39d364063c",
   "metadata": {},
   "source": [
    "#### Integers and floating-point numbers\n",
    "\n",
    "Integers and floating-point numbers (or floats) are the basic numeric types in Python. While it is important to know the difference between `int` and `float`, in most of what we will cover, Python will do the conversion automatically for us and we do not need to think about it much.\n",
    "\n",
    "**⚠️ This doesn't mean you can just ignore this whole concept. As a matter of fact, it will be necessary/useful in a few cases when using the  numerical computation package `numpy`. ⚠️**"
   ]
  },
  {
   "cell_type": "code",
   "execution_count": null,
   "id": "73f8331e-38d0-49c6-950a-61d141a6cd5d",
   "metadata": {},
   "outputs": [],
   "source": [
    "# Here is an example of an int being converted automatically to a float\n",
    "x = 3\n",
    "type(x) # Returns the type of an object"
   ]
  },
  {
   "cell_type": "code",
   "execution_count": null,
   "id": "079497f1-b674-4443-a8cd-0a4385ba2017",
   "metadata": {},
   "outputs": [],
   "source": [
    "x = x / 2 # After division by 2, x will be 1.5 and thus cannot be an integer anymore\n",
    "x, type(x)"
   ]
  },
  {
   "cell_type": "markdown",
   "id": "514dee56-086c-4c15-a995-d23fa0af1763",
   "metadata": {},
   "source": [
    "#### Strings\n",
    "\n",
    "Strings are sequences of characters, these are delimited either by single or double quotes (e.g. `x = 'unisg'` is the same thing as `x = \"unisg\"`, both assign the value unisg to the variable `x`.\n"
   ]
  },
  {
   "cell_type": "code",
   "execution_count": null,
   "id": "4dfd8564-0736-443c-91eb-477e0191dc59",
   "metadata": {},
   "outputs": [],
   "source": [
    "# Character strings are defined between single or double quotes (but not both for the same string)\n",
    "x = '1' # or x = \"1\"\n",
    "x"
   ]
  },
  {
   "cell_type": "code",
   "execution_count": null,
   "id": "3bc58a7f-eaea-4f8b-83f9-ea51e8866f25",
   "metadata": {},
   "outputs": [],
   "source": [
    "# Strings are different from numbers and addition / multiplication will work differently\n",
    "x + x"
   ]
  },
  {
   "cell_type": "raw",
   "id": "a4b943c4-53fb-4da3-93aa-0dfd7d82ad5a",
   "metadata": {},
   "source": [
    "x + 1 # Produces an error, str cannot be added with another non-str type"
   ]
  },
  {
   "cell_type": "code",
   "execution_count": null,
   "id": "bf07fe66-7027-4068-9bbe-13ec6b8a6398",
   "metadata": {},
   "outputs": [],
   "source": [
    "# Strictly speaking, a variable name and its content need not have any sensible\n",
    "# relationship, however, using meaningful variable names is good practice. \n",
    "x = \"my_string\" # Assign the value 'my_string' to the variable x\n",
    "my_string = \"x\" # Assigne the value 'x' to the variable my_string\n",
    "x, my_string # Notice how x contains the value 'my_string' and my_string contains the value 'x'"
   ]
  },
  {
   "cell_type": "code",
   "execution_count": null,
   "id": "3c7f763a-0d69-426f-be75-0397f889375d",
   "metadata": {},
   "outputs": [],
   "source": [
    "x = '1'\n",
    "x * 3 # Mutiplying a string by a number simply repeats the string (3 times in this case)"
   ]
  },
  {
   "cell_type": "code",
   "execution_count": null,
   "id": "deb7f9b0-fd39-4e03-aff4-39dffbe92a9b",
   "metadata": {},
   "outputs": [],
   "source": [
    "# When a string represents a number, it can be easily converted\n",
    "int(x) + 1"
   ]
  },
  {
   "cell_type": "code",
   "execution_count": null,
   "id": "52290700-c266-429b-9fd1-29d425dcd57d",
   "metadata": {},
   "outputs": [],
   "source": [
    "# This does not work when the string cannot be interpreted as a number\n",
    "x = \"unisg\"\n",
    "int(x)"
   ]
  },
  {
   "cell_type": "markdown",
   "id": "bed31583-a7c6-4bdb-903c-2252a35e2182",
   "metadata": {},
   "source": [
    "#### 🙀 🤯 f-Strings\n",
    "We have seen above, how we can use `+` to combine strings, e.g. `\"Hello\" + \"world\"` will result in `\"Helloworld\"` (notice, no spaces!). However, in practice, this is not always very useful and there are a few other ways to combine variables into strings.\n",
    "\n",
    "The way we use most often is called *f-Strings*. It's very powerful but slightly complicated to explain. The main idea is that we can write\n",
    "```python\n",
    "f\"My string {my_variable}\"\n",
    "```\n",
    "Notice how we have added an `f` in front of the string and something else in curly brackets. There are a few situations where f-Strings come in handy:\n",
    "+ Annotation of figures based on the underlying variables\n",
    "+ Formatting text (e.g., left-align, right-align, print only the first few decimals)\n",
    "+ Creating strings based on some variables\n",
    "\n",
    "Of course, you never *need* an f-String, you can always do it in another way as well, but it's often a practical way to achieve your goal when working with strings. The best way to understand f-Strings is using examples:\n"
   ]
  },
  {
   "cell_type": "code",
   "execution_count": null,
   "id": "708215ac-d051-49c5-8337-65c6eebdcf21",
   "metadata": {},
   "outputs": [
    {
     "data": {
      "text/plain": [
       "'HeLo World'"
      ]
     },
     "execution_count": 8,
     "metadata": {},
     "output_type": "execute_result"
    }
   ],
   "source": [
    "# A simple, not-so-useful example of f-Strings\n",
    "var1 = \"Hello\"\n",
    "var2 = \"World\"\n",
    "# Create and output the f-String\n",
    "f\"{var1} {var2}\""
   ]
  },
  {
   "cell_type": "code",
   "execution_count": null,
   "id": "0ae93dde-1565-475b-b6a1-75f7edca0426",
   "metadata": {},
   "outputs": [
    {
     "data": {
      "text/plain": [
       "'My favorite number is 72 and my favorite color is purple'"
      ]
     },
     "execution_count": 9,
     "metadata": {},
     "output_type": "execute_result"
    }
   ],
   "source": [
    "# A more useful example of an f-String\n",
    "favorite_number = 72\n",
    "favorite_color = \"purple\"\n",
    "# ⚠️ Notice how we can combine different types in an f-String!\n",
    "f\"My favorite number is {favorite_number} and my favorite color is {favorite_color}\""
   ]
  },
  {
   "cell_type": "markdown",
   "id": "6e1790b9-3bf0-4d18-bbb1-e396a25ede8e",
   "metadata": {},
   "source": [
    "We're not going to go into details on this, but you can also implement formatting directly into an f-String, as you can see below:"
   ]
  },
  {
   "cell_type": "code",
   "execution_count": null,
   "id": "a35fb613-bd9f-46f0-98ee-34dc819398a1",
   "metadata": {},
   "outputs": [
    {
     "data": {
      "text/plain": [
       "'The fraction 22/7 is equal to 3.14.'"
      ]
     },
     "execution_count": 12,
     "metadata": {},
     "output_type": "execute_result"
    }
   ],
   "source": [
    "# Compute a fraction\n",
    "numerator = 22\n",
    "denominator = 7\n",
    "fraction = 22 / 7\n",
    "# A powerful use of f-Strings\n",
    "f\"The fraction {numerator}/{denominator} is equal to {fraction:.2f}.\"\n"
   ]
  },
  {
   "cell_type": "code",
   "execution_count": null,
   "id": "a99b8f69-1e23-4eb6-b351-e89b549f567a",
   "metadata": {},
   "outputs": [],
   "source": [
    "# Another powerful use of f-Strings\n",
    "f\"{denominator} is {100 * denominator / numerator:.2f}% of {numerator}.\""
   ]
  },
  {
   "cell_type": "markdown",
   "id": "30179158-fea0-471e-a66c-8d6f2e6e2778",
   "metadata": {},
   "source": [
    "As you can see from the examples above, not only can we do math directly in the f-Strings, we can also display only a specific amount of decimals."
   ]
  },
  {
   "cell_type": "markdown",
   "id": "5242c967-4894-43e8-84d2-c0d41a304d8b",
   "metadata": {},
   "source": [
    "#### Booleans\n",
    "\n",
    "Booleans originate from [Boolean logic](https://en.wikipedia.org/wiki/Boolean_algebra) but practically, we can view them as a kind of number.\n",
    "\n",
    "`True` is equivalent to `1` and `False` is equivalent to `0`. See the following truth table for two truth values `x` and `y` and for the basic operations `and` and `or`.\n",
    "\n",
    "|x|y|x and y|x or y|\n",
    "|:-:|:-:|:-:|:-:|\n",
    "|0 | 0 | 0 | 0 |\n",
    "| 1| 0 | 0 | 1 |\n",
    "|0|1|0|1|\n",
    "|1|1|1|1|\n",
    "\n",
    "As we will see later, booleans are particularly important for control flow.\n"
   ]
  },
  {
   "cell_type": "code",
   "execution_count": null,
   "id": "d8318063-6e54-4aa9-8cea-6593ca828ca1",
   "metadata": {},
   "outputs": [],
   "source": [
    "x = True\n",
    "y = False\n",
    "x and y # Corresponds to the 2nd column, 2nd row of the above table"
   ]
  },
  {
   "cell_type": "code",
   "execution_count": null,
   "id": "3de46431-3a57-413a-bd9b-fc6aa2565dc2",
   "metadata": {},
   "outputs": [],
   "source": [
    "x = False\n",
    "y = True\n",
    "x or y # Corresponds to the 4th column, 3rd row of the above table"
   ]
  },
  {
   "cell_type": "markdown",
   "id": "404d2c5c-8210-493a-a3c0-c7b892027fd4",
   "metadata": {},
   "source": [
    "#### Lists\n",
    "\n",
    "Lists in Python are what other languages might call vectors or arrays. However, in Python, when talking about arrays, we generally mean `numpy` arrays (more on these later). Lists represent a sequence of different variables. Lists behave like strings when we use multiplication or addition, this can cause a bit of confusion, in particular if you make the mistake of thinking of lists of numbers as vectors in $\\mathbb{R}^N$."
   ]
  },
  {
   "cell_type": "code",
   "execution_count": null,
   "id": "ad94b045-5b8d-4d74-965e-446470183fe0",
   "metadata": {},
   "outputs": [
    {
     "data": {
      "text/plain": [
       "list"
      ]
     },
     "execution_count": 3,
     "metadata": {},
     "output_type": "execute_result"
    }
   ],
   "source": [
    "x = [1, 2, 3] # A list of the first three positive integers\n",
    "type(x)"
   ]
  },
  {
   "cell_type": "code",
   "execution_count": null,
   "id": "b07c1b31-6300-41cc-a033-13100621c201",
   "metadata": {},
   "outputs": [
    {
     "data": {
      "text/plain": [
       "[1, 2, 3, 1, 2, 3, 1, 2, 3]"
      ]
     },
     "execution_count": 4,
     "metadata": {},
     "output_type": "execute_result"
    }
   ],
   "source": [
    "x * 3 # As with strings, multiplying a list will simply repeat it"
   ]
  },
  {
   "cell_type": "code",
   "execution_count": null,
   "id": "43711df6-f94b-46de-8741-39533e3c57c8",
   "metadata": {},
   "outputs": [
    {
     "data": {
      "text/plain": [
       "[1, 2, 3, 'a', 2, 1.5, 'b', True]"
      ]
     },
     "execution_count": 5,
     "metadata": {},
     "output_type": "execute_result"
    }
   ],
   "source": [
    "y = [\"a\", 2, 1.5, \"b\", True] # A list mixing multiple variable types\n",
    "x + y # As with strings, an addition will simply append one list to the other"
   ]
  },
  {
   "cell_type": "code",
   "execution_count": null,
   "id": "88bdf992-1950-4c44-8935-a78135c78da1",
   "metadata": {},
   "outputs": [
    {
     "data": {
      "text/plain": [
       "[1, 2, 3, 4]"
      ]
     },
     "execution_count": 6,
     "metadata": {},
     "output_type": "execute_result"
    }
   ],
   "source": [
    "# Concatenating two lists is easily done with the + sign, when we want to append\n",
    "# a single element to a list we can use the following\n",
    "x.append(4)\n",
    "x # Display the value of x"
   ]
  },
  {
   "cell_type": "markdown",
   "id": "b9f27b9a-614c-41de-91e3-8ba88627e4cf",
   "metadata": {},
   "source": [
    "___\n",
    "#### 🤔 Pause and ponder\n",
    "Why is `x = [1, 2, 3, 4]` and not `[1, 2, 3]`? \n",
    "\n",
    "The `.append()` method works **in-place**, i.e., it directly modifies the object. \n",
    "\n",
    "⚠️ Be careful, this also means you can use\n",
    "```python\n",
    "x.append(my_number)\n",
    "```\n",
    "**but not**\n",
    "```python\n",
    "x = x.append(my_number)\n",
    "```\n",
    "___"
   ]
  },
  {
   "cell_type": "code",
   "execution_count": null,
   "id": "f5b73b26-10bb-4cc8-833b-1135f079e274",
   "metadata": {},
   "outputs": [],
   "source": [
    "l1 = [1, 2, 3] # A first list\n",
    "l2 = [1, 2, 3] # A second list\n",
    "l1.append(4) # Correctly append\n",
    "l2 = l2.append(4) # Incorrectly append"
   ]
  },
  {
   "cell_type": "code",
   "execution_count": null,
   "id": "4432d3fa-a044-48b7-884e-39abc69c1fbc",
   "metadata": {},
   "outputs": [],
   "source": [
    "l1 # l1 is the correct list [1, 2, 3, 4]"
   ]
  },
  {
   "cell_type": "code",
   "execution_count": null,
   "id": "c2bd107d-f5c3-44c2-8944-eafa257a2ccb",
   "metadata": {},
   "outputs": [],
   "source": [
    "l2 # l2 is now \"nothing\""
   ]
  },
  {
   "cell_type": "markdown",
   "id": "3b4197d3-a595-4b4b-b13a-23b67ef0773c",
   "metadata": {},
   "source": [
    "You can access a particular element of a list by using square brackets, e.g. if `x` is a list, you can access its elements using `x[0]`, `x[1]`, etc.\n",
    "\n",
    "Notice that in Python, we start counting at 0, this is customary in many (but not all) programming languages."
   ]
  },
  {
   "cell_type": "code",
   "execution_count": null,
   "id": "b7db2dca-8ae0-4e4a-8dbf-aace33c11313",
   "metadata": {},
   "outputs": [],
   "source": [
    "x = [1, 2, 3, 4]\n",
    "# You can access a particular element of a list by using square brackets\n",
    "x[2] # Notice how this is the 3rd element (we start at zero!)"
   ]
  },
  {
   "cell_type": "code",
   "execution_count": null,
   "id": "50c07321-5ce5-4758-bb79-ca61ef3106df",
   "metadata": {},
   "outputs": [],
   "source": [
    "# In Python we start counting at 0, hence x[0] will give the first element of x\n",
    "x[0]"
   ]
  },
  {
   "cell_type": "markdown",
   "id": "89a8fe54-ce92-41fc-b210-586ad6d598c1",
   "metadata": {},
   "source": [
    "Sometimes, we might also want to access multiple elements at once, there are multiple ways to do this."
   ]
  },
  {
   "cell_type": "code",
   "execution_count": null,
   "id": "b14b279d-4c17-4557-a7fa-a32c2e0154b2",
   "metadata": {},
   "outputs": [],
   "source": [
    "x = [1, 2, 3, 4, 5, 6, 7, 8, 9, 10] # Instantiate x as a list from 1 to 10\n",
    "x # Display x"
   ]
  },
  {
   "cell_type": "code",
   "execution_count": null,
   "id": "f4c710b4-68a9-43a0-932a-5baa3ed25014",
   "metadata": {},
   "outputs": [],
   "source": [
    "x[:2] # First 2 elements of x (also x[0:2])"
   ]
  },
  {
   "cell_type": "code",
   "execution_count": null,
   "id": "d3ed2f04-832e-4a55-869e-1547618560e1",
   "metadata": {},
   "outputs": [],
   "source": [
    "x[:-1] # Everything but the last element of x"
   ]
  },
  {
   "cell_type": "code",
   "execution_count": null,
   "id": "d405e7b6-bf25-4de6-97f3-a8c03bfbf8f2",
   "metadata": {},
   "outputs": [],
   "source": [
    "x[-1] # Only the last element of x"
   ]
  },
  {
   "cell_type": "code",
   "execution_count": null,
   "id": "1d3d69ce-6e23-47bf-be59-29ca8680b2f1",
   "metadata": {},
   "outputs": [],
   "source": [
    "x[3:] # Everything but the first three element of x"
   ]
  },
  {
   "cell_type": "code",
   "execution_count": null,
   "id": "fe91336f-ae7b-4cfc-8685-29f7c5cf25ad",
   "metadata": {},
   "outputs": [],
   "source": [
    "x[::2] # Every second element in x"
   ]
  },
  {
   "cell_type": "code",
   "execution_count": null,
   "id": "1f8cede4-cfc4-4eef-92b9-75fdf5b2ea08",
   "metadata": {},
   "outputs": [],
   "source": [
    "x[2::3] # Every third element in x, starting from the third one"
   ]
  },
  {
   "cell_type": "markdown",
   "id": "6b3e14a3-321f-42b2-b7e4-90fc05eae649",
   "metadata": {},
   "source": [
    "It's best to play around a bit with list indexing to understand it, but the main idea is `start_value:end_value:step`. When `start_value` is empty, we start at the first item, when `end_value` is empty, we stop at the last item, and, when `step` is empty, we take steps of size 1."
   ]
  },
  {
   "cell_type": "markdown",
   "id": "916e5a63-5a29-4563-8eac-05d3fed7c7a8",
   "metadata": {},
   "source": [
    "\n",
    "## Functions\n",
    "___\n",
    "### Built-in functions\n",
    "A function is an object that maps any number of arguments to an output. There are a few of *builtin* functions, which are functions that are built in the Python language (such as `print`, `pow`, or `sum`) and there are a lot of functions that become available once we load specific packages (more on that later). Furthermore, you can create your own functions to optimize your workflow.\n",
    "\n",
    "Until now, we have executed code cells and the last line was displayed back to Jupyter. But what if we want to display more than just the last line? The approach we took isn't very practical. This can be done with the `print` function.\n",
    "\n",
    "Notice from the example below, the general structure of function calls is to write `function(input_to_the_function)`. Sometimes, you can also have function without any arguments, such that you would write `function()`, and sometimes, a function can have multiple arguments, such that you would write `function(input1, input2, input3)`.\n"
   ]
  },
  {
   "cell_type": "code",
   "execution_count": 1,
   "id": "0b7a6363-fdd8-4578-b842-077ca4595498",
   "metadata": {},
   "outputs": [
    {
     "name": "stdout",
     "output_type": "stream",
     "text": [
      "Hello\n",
      "Hello world!\n"
     ]
    }
   ],
   "source": [
    "x = \"Hello\"\n",
    "print(x) # Display the value of x \n",
    "x += \" world!\" # Add some more words to the variable x (notice how we use the shorthand for incrementation)\n",
    "print(x) # Display the new value"
   ]
  },
  {
   "cell_type": "markdown",
   "id": "ae2fa306-2a5c-43be-9f88-d31d010e2bb2",
   "metadata": {},
   "source": [
    "We can use `print` to combine multiple strings and variables together, see the example below where we also use the builtin function `sum`"
   ]
  },
  {
   "cell_type": "code",
   "execution_count": 2,
   "id": "17f088d8-5da7-4635-9a83-8fa58a160f3b",
   "metadata": {},
   "outputs": [
    {
     "name": "stdout",
     "output_type": "stream",
     "text": [
      "The sum of [1, 2, 3] is 6\n"
     ]
    }
   ],
   "source": [
    "x = [1, 2, 3]\n",
    "print(\"The sum of\", x, \"is\", sum(x))"
   ]
  },
  {
   "cell_type": "markdown",
   "id": "066fe054-d027-4c44-929b-bf194e383edc",
   "metadata": {},
   "source": [
    "If you are not sure how to use a specific function, you can always type a question mark and the function's name, e.g."
   ]
  },
  {
   "cell_type": "code",
   "execution_count": 3,
   "id": "c7bda67e-7074-4cc9-af0c-b517892abc0b",
   "metadata": {},
   "outputs": [
    {
     "data": {
      "text/plain": [
       "\u001b[0;31mSignature:\u001b[0m \u001b[0mpow\u001b[0m\u001b[0;34m(\u001b[0m\u001b[0mbase\u001b[0m\u001b[0;34m,\u001b[0m \u001b[0mexp\u001b[0m\u001b[0;34m,\u001b[0m \u001b[0mmod\u001b[0m\u001b[0;34m=\u001b[0m\u001b[0;32mNone\u001b[0m\u001b[0;34m)\u001b[0m\u001b[0;34m\u001b[0m\u001b[0;34m\u001b[0m\u001b[0m\n",
       "\u001b[0;31mDocstring:\u001b[0m\n",
       "Equivalent to base**exp with 2 arguments or base**exp % mod with 3 arguments\n",
       "\n",
       "Some types, such as ints, are able to use a more efficient algorithm when\n",
       "invoked using the three argument form.\n",
       "\u001b[0;31mType:\u001b[0m      builtin_function_or_method\n"
      ]
     },
     "metadata": {},
     "output_type": "display_data"
    }
   ],
   "source": [
    "?pow"
   ]
  },
  {
   "cell_type": "markdown",
   "id": "2847ca77-bbd9-4466-9df9-c76cc587f19d",
   "metadata": {},
   "source": [
    "Above, we always wrote out our full lists, e.g., `x = [1, 2, 3, 4, 5, 6, 7, 8, 9, 10]`. This is cumbersome and Python provides a function to create sequences of integers: `range`. Using `list(range(n))` we can create a list with numbers $0, 1, \\dots, n-1$.\n",
    "\n",
    "⚠️ `range(n)` always starts at zero and goes up to $n-1$ only, i.e. it has $n$ elements! ⚠️\n",
    "\n",
    "If you want your sequence to start at, e.g., 1, you can use `range(1, n)`. Be careful, however, this will make a sequence from $1$ to $n-1$, so if you want the sequence to go from $1$ to $n$ (included), you will have to use `range(1, n+1)`.\n",
    "\n",
    "You can also specify a third parameter in the `range` function, and that is the step size. It is one by default, but we can make a list of all odd numbers between $1$ and $10$ by using: `range(1, 11, 2)`."
   ]
  },
  {
   "cell_type": "code",
   "execution_count": 4,
   "id": "89b9425c-f698-4dd9-b1a0-190945752aa0",
   "metadata": {},
   "outputs": [
    {
     "data": {
      "text/plain": [
       "[1, 3, 5, 7, 9]"
      ]
     },
     "execution_count": 4,
     "metadata": {},
     "output_type": "execute_result"
    }
   ],
   "source": [
    "list(range(1, 11, 2)) # List of all odd numbers between 1 and 10"
   ]
  },
  {
   "cell_type": "markdown",
   "id": "24ef1310-660e-4dd7-b763-d57a89826063",
   "metadata": {},
   "source": [
    "#### ➡️ ✏️ Your turn\n",
    "In the cell below, make a list of all even numbers between 0 and 20. (Consider 0 to be neither odd or even!)"
   ]
  },
  {
   "cell_type": "code",
   "execution_count": null,
   "id": "aae85744-07ee-416a-a22d-dbf93d65b8f3",
   "metadata": {},
   "outputs": [],
   "source": [
    "# Enter your code below\n"
   ]
  },
  {
   "cell_type": "markdown",
   "id": "67a957ec-8822-485c-af58-fddb85bbdf9c",
   "metadata": {},
   "source": [
    "### Custom functions\n",
    "The coolest thing about functions is that you can create your own! Writing your custom function is very easy, it's writing a useful function that can be harder 😉.\n",
    "\n",
    "The structure to writing your own function is always the same:\n",
    "1. First, the keyword `def`.\n",
    "2. Second, the name of the function.\n",
    "3. Third, the inputs of the function in parentheses, followed by a colon.\n",
    "4. Indented by a tab, the contents of the function\n",
    "5. The last line should contain `return` and the value we want to return.\n",
    "\n",
    "Let's make some simple functions to get used to this whole structure."
   ]
  },
  {
   "cell_type": "code",
   "execution_count": null,
   "id": "1a73fa52-f692-48c0-a9bf-9ee5ed82d8eb",
   "metadata": {},
   "outputs": [],
   "source": [
    "# Create a function that takes no inputs and just returns the string \"Hello\"\n",
    "def greet():\n",
    "    return \"Hello\""
   ]
  },
  {
   "cell_type": "code",
   "execution_count": null,
   "id": "d5fc0784-8040-4060-83db-7bc077a2bda8",
   "metadata": {},
   "outputs": [],
   "source": [
    "# Execute the function\n",
    "greet()"
   ]
  },
  {
   "cell_type": "markdown",
   "id": "90fb4084-bf34-4141-a5aa-bdd6796f59f7",
   "metadata": {},
   "source": [
    "That's it. Our first function.\n",
    "\n",
    "Of course, it's not very useful, so let's add an input to it."
   ]
  },
  {
   "cell_type": "code",
   "execution_count": null,
   "id": "8a6dd56b-6350-4daf-888e-597f3411d1d0",
   "metadata": {},
   "outputs": [],
   "source": [
    "# Create a function that greets a specific person\n",
    "def greet_user(name):\n",
    "    return \"Hello \" + name"
   ]
  },
  {
   "cell_type": "code",
   "execution_count": null,
   "id": "3538805c-2e73-4699-b050-b6d424c738b3",
   "metadata": {},
   "outputs": [],
   "source": [
    "# Use this function to say hello to the creator of Python\n",
    "greet_user(\"Guido van Rossum\")"
   ]
  },
  {
   "cell_type": "markdown",
   "id": "d94d110f-531e-4c78-966d-b3e01779f864",
   "metadata": {},
   "source": [
    "\n",
    "## Control flow\n",
    "___\n",
    "Alright, we now know how to write our own function but you have probably realized that we didn't write any useful function until now. We need another building block: **control flow*!\n",
    "\n",
    "Control flow let's us add conditional evaluation (e.g., only execute when something happens) and loops (repeat the same piece of code multiple times)."
   ]
  },
  {
   "cell_type": "markdown",
   "id": "96212a32-765e-4f58-849e-29e51495ad8e",
   "metadata": {},
   "source": [
    "### Conditional evaluation / If-else statements\n",
    "If-else statements allow to evaluate only parts of the program dependent on specific conditions. I'm sure you have encountered this type of control flow somewhere... perhaps in Excel! The main structure of a simple if-statement is the following\n",
    "\n",
    "```python\n",
    "if condition:\n",
    "    ... # This code is executed if the condition is true, otherwise it is not executed\n",
    "... # This code is executed after the if-statement, independent of whether the if-statement was executed or not\n",
    "```\n",
    "\n",
    "⚠️ Notice how, as with functions, **indentation** is key in Python. Everything indented belongs to the if statement, why everything else does not! ⚠️"
   ]
  },
  {
   "cell_type": "code",
   "execution_count": 3,
   "id": "f33d9de7-4495-4946-ad34-178e1724e522",
   "metadata": {},
   "outputs": [
    {
     "name": "stdout",
     "output_type": "stream",
     "text": [
      "This code block will be executed\n",
      "This will also be executed because it is not part of the if-statement above\n"
     ]
    }
   ],
   "source": [
    "if True:\n",
    "  print(\"This code block will be executed\")\n",
    "if False:\n",
    "  print(\"This code block will not be executed\")\n",
    "print(\"This will also be executed because it is not part of the if-statement above\")"
   ]
  },
  {
   "cell_type": "markdown",
   "id": "8702a6ef-5620-4d1d-ad1e-dcdd3680d311",
   "metadata": {},
   "source": [
    "Notice how only the first code block was executed, this is because the second condition was false and hence the program never entered the if statement. Clearly, the above example is not very practical because it will always evaluate in the same way. In general, we want to specify a certain **boolean condition** instead of using `True` and `False` directly"
   ]
  },
  {
   "cell_type": "markdown",
   "id": "4db98984-4d1c-4954-9c3c-c1d4a0753366",
   "metadata": {},
   "source": [
    "#### ➡️ ✏️ Your turn\n",
    "Try changing the value of `x` and `y` and see how the example below behaves."
   ]
  },
  {
   "cell_type": "code",
   "execution_count": 4,
   "id": "79e03ee3-4c92-4bf4-adb3-50de9b92f4ce",
   "metadata": {},
   "outputs": [
    {
     "name": "stdout",
     "output_type": "stream",
     "text": [
      "x is greater than y\n"
     ]
    }
   ],
   "source": [
    "x = 10\n",
    "y = 5\n",
    "# If-statement, only execute the code within it if the statement (x > y) is true\n",
    "if x > y:\n",
    "  print(\"x is greater than y\")\n",
    "# Only execute the code if the statement (x < y) is true\n",
    "if x < y:\n",
    "  print(\"x is less than y\")"
   ]
  },
  {
   "cell_type": "markdown",
   "id": "0ce9e894-99ad-4daf-a64c-0ca979768eaa",
   "metadata": {},
   "source": [
    "You can also combine multiple if statements that are mutually exclusive in an if-else statement. For instance, the two if-statements above can be written as:"
   ]
  },
  {
   "cell_type": "code",
   "execution_count": null,
   "id": "3eabc525-c23f-447b-994d-f5b63d34fd8f",
   "metadata": {},
   "outputs": [],
   "source": [
    "if x > y:\n",
    "  print(\"x is greater than y\")\n",
    "elif x < y: # Only executes if the condition is true and the conditions above are all false\n",
    "  print(\"x is less than y\")\n",
    "else: # Only executes if no other condition if the statement was true\n",
    "  print(\"x is equal to y\")"
   ]
  },
  {
   "cell_type": "markdown",
   "id": "7a47fa00-e473-4eeb-a453-2034544c6ed6",
   "metadata": {},
   "source": [
    "In Python, numeric comparisons are done using the following symbols:\n",
    "+ `x > y` evaluates as `True` if x is greater than y\n",
    "+ `x < y` evaluates as `True` if x is less than y\n",
    "+ `x >= y` evaluates as `True` if x is greater than or equal to y\n",
    "+ `x <= y` evaluates as `True` if x is less than or equal to y\n",
    "+ `x == y` evaluates as `True` if x is equal to y\n",
    "+ `x != y` evaluates as `True` if x is not equal to y"
   ]
  },
  {
   "cell_type": "markdown",
   "id": "9f425da9-110e-44d0-85be-fbc124b6c574",
   "metadata": {},
   "source": [
    "### Loops\n",
    "Loops are useful for repeated evaluation of expressions. There are two main types of loops, `for`-loops and `while`-loops."
   ]
  },
  {
   "cell_type": "code",
   "execution_count": null,
   "id": "39dd0129-c82f-4626-9593-5a225d67b3d3",
   "metadata": {},
   "outputs": [],
   "source": [
    "# The following code executes the block within for each iteration of i from 0 to 4\n",
    "for i in range(5):\n",
    "  print(i)"
   ]
  },
  {
   "cell_type": "code",
   "execution_count": null,
   "id": "f114043e-2676-4405-9d75-6ebbe9c354a0",
   "metadata": {},
   "outputs": [],
   "source": [
    "# The same also be done using a while loop\n",
    "i = 0\n",
    "while i < 5:\n",
    "  print(i)\n",
    "  i += 1 # Increment i by 1"
   ]
  },
  {
   "cell_type": "markdown",
   "id": "312b3e07-8518-4621-b9ad-49220cc2340b",
   "metadata": {},
   "source": [
    "When using a `while` loop, make sure you have an exit condition, otherwise your code will never stop and you will have to interrupt it. For instance the block\n",
    "```python\n",
    "i = 0\n",
    "while i >= 0:\n",
    "  print(i)\n",
    "```\n",
    "will never reach an exit condition, as `i` is always greater or equal to 0. In general, try using a `for`-loop instead of a `while`-loop. Of course, there are some cases where using a `while`-loop is inevitable..."
   ]
  },
  {
   "cell_type": "markdown",
   "id": "8eda089f-c829-4f6c-b9c9-331479bd86d8",
   "metadata": {},
   "source": [
    "#### ➡️ ✏️ Your turn\n",
    "\n",
    "Modify the code below (where there is a ✏️) such that it prints the sum of all numbers up to 100."
   ]
  },
  {
   "cell_type": "code",
   "execution_count": null,
   "id": "b9970959-d29d-435a-b6ed-f8105fb76894",
   "metadata": {},
   "outputs": [],
   "source": [
    "mysum = 0 # A variable that keeps track of the sum\n",
    "\n",
    "# ✏️ ... modify\n",
    "n = 0 \n",
    "\n",
    "# Run the loop\n",
    "for i in range(1, n):\n",
    "    if i % 5 == 0: # Every 5 step, print the result\n",
    "        print(f\"At iteration {i:>3}, the sum is {mysum:>5}\")\n",
    "    \n",
    "    # ✏️ ... modify (⚠️ think about incrementation)\n",
    "    mysum = 0\n",
    "\n",
    "# Print the final result\n",
    "print(\"-\"*37)\n",
    "print(f\"The final sum is {mysum}\")\n",
    "\n",
    "# Warn the user in case the final sum is not correct\n",
    "if mysum != sum(range(101)):\n",
    "    print(f\"\\n⛔ There is an error somewhere. The sum should be {sum(range(101))}. ⛔\")"
   ]
  },
  {
   "cell_type": "markdown",
   "id": "976d377b-62d2-435a-98d0-0aad7f0191ec",
   "metadata": {},
   "source": [
    "`for`-loops can also be used to iterate over **the elements of a collection**. For instance, instead of iterating over the numbers in a specified range, you want want to iterate over the elements of a list or the characters in a string. A `for`-loop can do this as well!"
   ]
  },
  {
   "cell_type": "code",
   "execution_count": null,
   "id": "92b55950-9f12-4c57-8f17-60afd625a57d",
   "metadata": {},
   "outputs": [],
   "source": [
    "# Specify a text\n",
    "text = \"Data Science Fundamentals\"\n",
    "# Iterate over the letters in the text and print them\n",
    "for letter in text:\n",
    "    print(letter)"
   ]
  },
  {
   "cell_type": "code",
   "execution_count": null,
   "id": "d281d945-334d-4357-b0cc-0739061bb637",
   "metadata": {},
   "outputs": [],
   "source": [
    "# Of course, this also works for a list (strings are just like lists in a sense!)\n",
    "my_list = [1, 2, \"a\", text, \"b\", mysum]\n",
    "# Iterate and print the elements\n",
    "for el in my_list:\n",
    "    print(el)"
   ]
  },
  {
   "cell_type": "markdown",
   "id": "b564401f-682d-496a-b4eb-8cb35718c3f6",
   "metadata": {},
   "source": [
    "#### ➡️ ✏️ Your turn\n",
    "\n",
    "You are given a dictionary, `inventory`, where the keys are the items a shop sells, and the values are the number of items in the inventory.  You are also given a list with different items, **for each item in them list**, print out a string indicating the number of items left in the inventory.\n",
    "\n",
    "E.g., if your list consists of `apples`, `bananas`, `cherries`, your output should be:\n",
    "```python\n",
    "\"There are 30 apples in the inventory\"\n",
    "\"There are 15 bananas in the inventory\"\n",
    "\"There are 150 cherries in the inventory\"\n",
    "```"
   ]
  },
  {
   "cell_type": "code",
   "execution_count": null,
   "id": "02f2fa35-2bcc-4103-a39a-30c6031b6806",
   "metadata": {},
   "outputs": [],
   "source": [
    "# Modify the code below where needed\n",
    "# Dictionary of the quantity of items in the inventory\n",
    "inventory = {\"Xylophones\": 10, \"Yoga Mats\": 25, \"Zucchinis\": 13}\n",
    "# This is the list we iterate over, can you figure out what `inventory.keys()` does?\n",
    "item_list = inventory.keys()\n",
    "\n",
    "# Enter your code here ✏️ ...\n",
    "\n",
    "# First a for loop, over the elements in the list\n",
    "# - For each element, print a string which indicates how many items are left in inventory\n"
   ]
  },
  {
   "cell_type": "markdown",
   "id": "1cb49a26-7374-40e7-a67d-dc01045e7e16",
   "metadata": {},
   "source": [
    "#### ➡️ ✏️ Your turn\n",
    "\n",
    "In the cell below, do the following:\n",
    "\n",
    "1. Run a for-loop of 100 iterations\n",
    "2. At each iteration, add the number 1 to your list.\n",
    "\n",
    "*Hint:* You should use `ones.append( )` within your loop!"
   ]
  },
  {
   "cell_type": "code",
   "execution_count": 1,
   "id": "81039727-af0e-4ae1-8eb5-06643cd63a6b",
   "metadata": {},
   "outputs": [
    {
     "name": "stdout",
     "output_type": "stream",
     "text": [
      "⛔ There is an issue in your code somewhere. ⛔\n"
     ]
    }
   ],
   "source": [
    "ones = [] # Initialize an empty list\n",
    "\n",
    "# Enter your code here ✏️ ...\n",
    "\n",
    "# Print whether the result is the expected one\n",
    "if not (all([o == 1 for o in ones]) and sum(ones) == 100):\n",
    "    print(\"⛔ There is an issue in your code somewhere. ⛔\")\n",
    "else:\n",
    "    print(\"✅ Well done!\")"
   ]
  },
  {
   "cell_type": "markdown",
   "id": "7e1f11fc-6d67-4027-94dd-c2519a9c18cf",
   "metadata": {},
   "source": [
    "#### 🙀 🤯 List comprehensions\n",
    "What is this strange notation we used above?\n",
    "\n",
    "```python\n",
    "[o == 1 for o in ones]\n",
    "```\n",
    "\n",
    "This is called **list comprehension** and it is extremely useful in Python. It is a bit hard to understand at first, but in essence, it allows us to compress in a list, what we would otherwise have to write in a `for`-loop.\n",
    "\n",
    "Consider the example above, where you have added the number 1 to a list multiple times. This is somewhat tideous and not always very practical, furthermore, we had to instantiate the list `ones` first. Instead, we could have used list comprehension and written:\n",
    "\n",
    "```python\n",
    "ones = [1 for _ in range(100)]\n",
    "```"
   ]
  },
  {
   "cell_type": "code",
   "execution_count": 2,
   "id": "4672dc80-bdd9-44c9-a39d-41b225917bc4",
   "metadata": {},
   "outputs": [
    {
     "data": {
      "text/plain": [
       "[0, 1, 2, 3, 4]"
      ]
     },
     "execution_count": 2,
     "metadata": {},
     "output_type": "execute_result"
    }
   ],
   "source": [
    "[i for i in range(5)]"
   ]
  },
  {
   "cell_type": "code",
   "execution_count": null,
   "id": "c0315670-8fc4-4f62-8d5d-9abad857a8b8",
   "metadata": {},
   "outputs": [],
   "source": [
    "# Check it for yourself\n",
    "ones = [1 for _ in range(5)]\n",
    "ones # Display the result"
   ]
  },
  {
   "cell_type": "markdown",
   "id": "ee71576c-76fd-4795-9081-a714c0e35234",
   "metadata": {},
   "source": [
    "It takes a while to get used to list comprehension and it's not important that you learn it just yet, but you should ideally be able to read what it going on when you come across it (because we will use it in the notebooks!)\n",
    "\n",
    "Here are a few examples to get you started..."
   ]
  },
  {
   "cell_type": "code",
   "execution_count": null,
   "id": "30a860da-aaa7-405e-a85c-dba06c9faf05",
   "metadata": {},
   "outputs": [
    {
     "data": {
      "text/plain": [
       "[2, 4, 6, 8, 10, 12, 14, 16, 18, 20]"
      ]
     },
     "execution_count": 2,
     "metadata": {},
     "output_type": "execute_result"
    }
   ],
   "source": [
    "# Every even number up to 20\n",
    "[i for i in range(1, 21) if i % 2 == 0]"
   ]
  },
  {
   "cell_type": "code",
   "execution_count": null,
   "id": "7709d1af-918a-4102-9807-48ef43eeac22",
   "metadata": {},
   "outputs": [
    {
     "data": {
      "text/plain": [
       "[1, 2, 4, 8, 16, 32, 64, 128, 256, 512, 1024, 2048, 4096, 8192, 16384]"
      ]
     },
     "execution_count": 3,
     "metadata": {},
     "output_type": "execute_result"
    }
   ],
   "source": [
    "# We can also use functions in list comprehension!\n",
    "# Every power of 2 up to the 14th\n",
    "[pow(2, i) for i in range(15)]"
   ]
  },
  {
   "cell_type": "code",
   "execution_count": null,
   "id": "22f2eedf-dd0e-479c-b16c-a997942cf436",
   "metadata": {},
   "outputs": [
    {
     "data": {
      "text/plain": [
       "['0a', '0b', '0c', '1a', '1b', '1c', '2a', '2b', '2c']"
      ]
     },
     "execution_count": 4,
     "metadata": {},
     "output_type": "execute_result"
    }
   ],
   "source": [
    "# ... and f-Strings\n",
    "# 🙀 🤯 Double list comprehension !?! 🥴\n",
    "[f\"{number}{letter}\" for number in range(3) for letter in 'abc']"
   ]
  },
  {
   "cell_type": "markdown",
   "id": "671d60a8-b18c-4921-bd6d-b4e4f89af448",
   "metadata": {},
   "source": [
    "Okay, okay... that's enough for now. You will have enough time to get used to it later but feel free to play around with it, as we said, list comprehensions are used **a lot** in Python and they are extremely powerful."
   ]
  },
  {
   "cell_type": "markdown",
   "id": "5b7293f4-7144-4076-aa45-0140a1296802",
   "metadata": {},
   "source": [
    "\n",
    "## Packages\n",
    "___\n",
    "We mentioned above that Python comes with a lot of handy packages for specific tasks such as developing websites, doing numerical computing, visualizing data, etc.\n",
    "\n",
    "In Python, a package (also sometimes called library or module) is a set of functions (and/or objects) that extend the base Python functions. As Python is open source, anyone can contribute to the Python ecosystem by writing and publishing his or her own package.\n",
    "\n",
    "On the one hand, this has the advantage that you will find an existing package for nearly any application you are trying to implement and, on the other hand, it also means that sometimes you should be wary of trusting a package... did the author really make no mistake in the code? Is the package doing what you think it is doing? This is not really a problem for major packages, but if you rely on a very specific, less known package, this are things to take into consideration."
   ]
  },
  {
   "cell_type": "code",
   "execution_count": null,
   "id": "2275895f-98c0-4178-bc05-70f81030c8f7",
   "metadata": {},
   "outputs": [],
   "source": [
    "# Importing a package easy\n",
    "import math\n",
    "# Calling a function from a package is also easy\n",
    "math.sqrt(2) # Gives the square root of 2"
   ]
  },
  {
   "cell_type": "code",
   "execution_count": null,
   "id": "c2fec8b3-967a-4ef4-8302-67c147f37342",
   "metadata": {},
   "outputs": [],
   "source": [
    "# Sometimes, you don't want to import the full package\n",
    "from math import sqrt\n",
    "sqrt(2) # Now we can call sqrt directly, without prepending math."
   ]
  },
  {
   "cell_type": "code",
   "execution_count": null,
   "id": "8d0244b7-3a19-46a7-9707-2d4e28d72bd3",
   "metadata": {},
   "outputs": [],
   "source": [
    "# You can also use a shorthand when importing a package\n",
    "import math as m\n",
    "m.sqrt(2)"
   ]
  },
  {
   "cell_type": "markdown",
   "id": "9996dfce-df1b-4081-b064-28b9b3bf86ac",
   "metadata": {},
   "source": [
    "Looking at the above cell, we observe different ways of importing packages and their contents into our code.\n",
    "\n",
    "\n",
    "|Method|Effect|\n",
    "|----|----|\n",
    "|`import package`|will import the contents of the package such that we can call `package.myfunction()`|\n",
    "|`import package as pk`|will import the contents of the package under a chosen **alias**, we can now use `pk.myfunction()`|\n",
    "|`from package import myfunction`|only imports the `myfunction` object from the package, all other objects will not be imported, we can now call `myfunction()` without prepending the package name or alias|\n",
    "|`from package import *`|imports **all** the package objects. <span style=\"color:#fc0303\">This is dangerous and should be avoided as much as possible</span>. As above, we can now use `myfunction()` without any prefix|"
   ]
  },
  {
   "cell_type": "markdown",
   "id": "affac9ce-a0b4-41af-8787-dd9d6305d49a",
   "metadata": {},
   "source": [
    "For this course, we will be working mainly with 4 packages:\n",
    "\n",
    "+ [NumPy](https://numpy.org/): The numerical computing package for Python. This introduces arrays in the sense of vectors in $\\mathbb{R}^N$, allows us to do linear algebra, fast vector computations, etc. When doing data science in Python, it's good to think of everything as a NumPy array. At first it might seem like we are not using this package as much as the other but this is wrong! This package provides the necessary foundation for all of the three other packages!\n",
    "+ [pandas](https://pandas.pydata.org/): The Python data analysis library. This package provides tool for working with *tabular data* such as dataframes (you might know them from R). This package is our bread-and-butter for data cleaning and pre-processing, all analyis we will do starts by reading our data into a pandas dataframe.\n",
    "+ [Matplotlib](https://matplotlib.org/): The visualization package for Python. This package provides tools to build many different plots, either static or interactive. We will use it a lot to illustrate our data and results. As the old adage goes: *a picture is worth a thousand words*. Being able to create beautiful visualizations is an important competence of a data scientist!\n",
    "+ [scikit-learn](https://scikit-learn.org/stable/): The scientific machine learning package for Python. From linear regression to gradient boosted trees and neural networks... you name it, scikit-learn has it! Not only does this package provide the statistical models, it also provides many functionalities to help us tune and improve our models.\n",
    "\n",
    "All those packages are, without doubt, state-of-the-art when it comes to doing data science and machine learning in Python. It should be mentioned, however, that when it comes to deep learning, scikit-learn is often overshadowed by [PyTorch](https://pytorch.org/), [Tensorflow](https://www.tensorflow.org/), or [JAX](https://jax.readthedocs.io/en/latest/). For our introduction to neural networks, scikit-learn will be enough, however, it would be dishonest to claim that modern deep learning is being done with scikit-learn. "
   ]
  },
  {
   "cell_type": "markdown",
   "id": "16176b77-f760-4473-98d5-ea8271f7483d",
   "metadata": {},
   "source": [
    "\n",
    "## Further resources\n",
    "___\n",
    "Programming is a skill that is easy to learn but hard to master. It can be difficult to compress multiple concepts in a short notebook and thus many important concepts such as *objects*, *scope of variables*, and *(im)mutability* were ignored completely throughout this introduction. \n",
    "\n",
    "If you understand everything we did in this notebook, you will surely be able to follow what we do in the main course, however, this is only the tip of the programming iceberg. It is definitely worthwhile to check out more complete resources that go over  concepts in more detail. \n",
    "\n",
    "A good starting point are the resources listed on the official Python website:\n",
    "+ [Beginner's Guide](https://wiki.python.org/moin/BeginnersGuide)\n",
    "+ [Python for Programmers](https://wiki.python.org/moin/BeginnersGuide/Programmers)\n",
    "\n",
    "If you are more of hands-on person and enjoy solving programming and mathematical puzzles, you might want to have a look at websites like\n",
    "+ [Project Euler](https://projecteuler.net/)\n",
    "+ [HackerRank](https://www.hackerrank.com/)"
   ]
  }
 ],
 "metadata": {
  "kernelspec": {
   "display_name": "Python 3 (ipykernel)",
   "language": "python",
   "name": "python3"
  },
  "language_info": {
   "codemirror_mode": {
    "name": "ipython",
    "version": 3
   },
   "file_extension": ".py",
   "mimetype": "text/x-python",
   "name": "python",
   "nbconvert_exporter": "python",
   "pygments_lexer": "ipython3",
   "version": "3.10.8"
  }
 },
 "nbformat": 4,
 "nbformat_minor": 5
}

{
 "cells": [
  {
   "cell_type": "markdown",
   "id": "0f394298-bbf7-4935-b803-613dd0381315",
   "metadata": {},
   "source": [
    "<a target=\"_blank\" href=\"https://colab.research.google.com/github/JLDC/Data-Science-Fundamentals/blob/master/notebooks/002_data-visualization.ipynb\">\n",
    "    <img src=\"https://i.ibb.co/2P3SLwK/colab.png\"  style=\"padding-bottom:5px;\" />Open this notebook in Google Colab\n",
    "</a>\n",
    "\n",
    "___"
   ]
  },
  {
   "cell_type": "markdown",
   "id": "264cd0d3-cae7-4f51-8e00-95d63e17e0dc",
   "metadata": {},
   "source": [
    "# Visualizing the data\n",
    "___\n",
    "\n",
    "We have now seen how to handle and pre-process data, how create subsets based on filters, and also how to display statistics of the data. However, as the old adage goes, ***a picture is worth a thousand words***, and this is often applicable for data science. So let's have a look at how to create visualizations of our data.\n",
    "\n",
    "To create plots, we need an additional package. `matplotlib` is without doubt the most well-known and widely-used Python package for visualizations. Unfortunately, it can also be somewhat unintuitive when first working with it. Because of this, we will gradually work our way to better plots, starting with very simple ones and eventually reaching a stage where we are able to plot anything we'd like."
   ]
  },
  {
   "cell_type": "code",
   "execution_count": null,
   "id": "6b7c149f-a7a8-4d29-a2d8-2c0fc87b2f30",
   "metadata": {},
   "outputs": [],
   "source": [
    "import matplotlib.pyplot as plt # Import matplotlib.pyplot under the alias plt\n",
    "import pandas as pd # Dataframes\n",
    "\n",
    "# Define the path where the data is stored\n",
    "DATA_PATH = \"https://raw.githubusercontent.com/JLDC/Data-Science-Fundamentals/master/data\""
   ]
  },
  {
   "cell_type": "markdown",
   "id": "8afa9af0-529f-4408-83e2-12280b04bca9",
   "metadata": {},
   "source": [
    "Plotting packages are not always very easy to use, there are a lot of layout options and at first it can feel overwhelming to replicate some of the nice plots you encounter. Unfortunately `matplotlib` is no exception to this and creating fancy plots takes more than just one or two lines of code. The [official cheatsheets and handouts](https://matplotlib.org/cheatsheets/) will surely help you figuring out how to create beautiful plots."
   ]
  },
  {
   "cell_type": "code",
   "execution_count": null,
   "id": "ea63c178-33d0-4b43-bac6-49a286da5b1d",
   "metadata": {},
   "outputs": [],
   "source": [
    "# Begin by reading in the iris dataframe\n",
    "iris = pd.read_csv(f\"{DATA_PATH}/iris.csv\")"
   ]
  },
  {
   "cell_type": "markdown",
   "id": "9b15476a-1ae6-4434-b51c-462f8ab7c620",
   "metadata": {},
   "source": [
    "## Basic plots\n",
    "___\n",
    "The simplest way to plot data using `matplotlib` is to simply call a plotting function from the package directly. For instance, in just one line, we can make a [scatter plot](https://en.wikipedia.org/wiki/Scatter_plot) of our iris flowers with the sepal length on the $x$-axis, and the petal length on the $y$-axis."
   ]
  },
  {
   "cell_type": "code",
   "execution_count": null,
   "id": "410179b4-6b51-457f-b874-ef4db55d5bd8",
   "metadata": {},
   "outputs": [],
   "source": [
    "# The scatter() function takes as input the array of x-positions and the array of y-positions\n",
    "plt.scatter(iris[\"sepal length (cm)\"], iris[\"petal length (cm)\"])"
   ]
  },
  {
   "cell_type": "markdown",
   "id": "25030952-b5aa-465d-b209-319d3c9380a8",
   "metadata": {},
   "source": [
    "Another useful plot in data science is the [histogram](https://en.wikipedia.org/wiki/Histogram). A histogram gives us an approximative representation of the distribution of the data, and, as with the scatter plot, we can display it with a single line using matplotlib."
   ]
  },
  {
   "cell_type": "code",
   "execution_count": null,
   "id": "8da82042-966e-4deb-be86-65f21374bdd9",
   "metadata": {},
   "outputs": [],
   "source": [
    "# Plot a histogram of the sepal width\n",
    "plt.hist(iris[\"sepal width (cm)\"])"
   ]
  },
  {
   "cell_type": "markdown",
   "id": "d87c39d5-866b-44ed-adb8-98da59008d7c",
   "metadata": {},
   "source": [
    "Without reading too much from the above plots, we see that there seems to be a relationship between sepal and petal length, where longer petals correlate with longer sepals. Furthermore, from the histogram, we see that most of our flowers have a sepal width around 3cm.\n",
    "\n",
    "These are some very quick and easy plots. Useful to get a quick visual intuition of how some variables might look like and relate to one another but also somewhat limited with respect to the information displayed. Let's try to gradually integrate more information in our plots."
   ]
  },
  {
   "cell_type": "markdown",
   "id": "b79c403f-13c7-4fd0-8880-a1c0d8f57c24",
   "metadata": {},
   "source": [
    "## Advanced plots\n",
    "___\n",
    "The above code works if we want some quick and dirty visualization of our data, but in most cases, we want to provide better illustrations, so it's good to get used to the somewhat more intricate logic that follows.\n",
    "\n",
    "<img src=\"https://static.packt-cdn.com/products/9781788295260/graphics/751f256f-8d1f-4001-a0b7-a318659c07e4.png\" alt=\"Figures and axes\" width=\"600\"/>\n",
    "\n",
    "The above picture has a lot of information but don't be scared. We're going to go through it step by step to try and make it easier to digest. However, it might be helpful to come back to this picture to better understand how to think about some of the concepts we are now going to discuss."
   ]
  },
  {
   "cell_type": "markdown",
   "id": "7d0af0c7-2bb6-417d-8db5-5bc6a303b061",
   "metadata": {},
   "source": [
    "### Figures and axes\n",
    "In `matplotlib`, we generally have both an **axis** (or multiple **axes**), and a **figure**, which contains the axis. In a sense, the figure is your canvas, everything is displayed in it (the green rectangle in the picture above). The axis, on the other hand, only contains the graphical representation of the data (the blue rectanlge above). You can think of the figure as a container for your axes, as illustrated in the picture above."
   ]
  },
  {
   "cell_type": "code",
   "execution_count": null,
   "id": "18f016dd-148a-4b98-87d1-240b5f6a5456",
   "metadata": {},
   "outputs": [],
   "source": [
    "# Create a figure called fig and an axis called ax\n",
    "fig, ax = plt.subplots()"
   ]
  },
  {
   "cell_type": "markdown",
   "id": "f1c6e0e8-0e94-4fd9-880b-d6878cea794e",
   "metadata": {},
   "source": [
    "Notice, above, how the plot is empty, while we did create the figure and the axis, we never added data, so let's try adding the scatter plot we did above."
   ]
  },
  {
   "cell_type": "code",
   "execution_count": null,
   "id": "a060049a-f478-40a0-8a4a-39da5142287f",
   "metadata": {},
   "outputs": [],
   "source": [
    "# Create a figure called fig and an axis called ax\n",
    "fig, ax = plt.subplots()\n",
    "# ⚠️ Notice how we use ax.scatter instead of plt.scatter! ⚠️\n",
    "ax.scatter(iris[\"sepal length (cm)\"], iris[\"petal length (cm)\"])"
   ]
  },
  {
   "cell_type": "markdown",
   "id": "4d205ad3-a9de-4bc0-8518-4f1f0acebd8f",
   "metadata": {},
   "source": [
    "Do you see the similarity with the scatter plot we did in the first part of the notebook? The only difference is that we used `ax.scatter(...)` instead of `plt.scatter(...)`.\n",
    "\n",
    "#### 🙀 🤯 A note on good and bad practices when plotting\n",
    "In the above plot, we could also have used `plt.scatter(...)` instead of `ax.scatter(...)` and we would have obtained the exact same result. So why introduce a new concept and complicate things?\n",
    "\n",
    "Calling `plt.scatter` simply plots on the *current axis*. This is somewhat problematic, because you have to be sure the *current* axis is the one you're trying to plot on. Right now, our example only had one axis, so it doesn't really matter, but as our plots get more intricate, we will have multiple axes and using `plt.scatter` instead of `ax.scatter` obfuscates things. This is generally bad practice, however, there is a good chance you will encounter it if you ever read notebooks done by other people."
   ]
  },
  {
   "cell_type": "markdown",
   "id": "209baa30-b109-4f41-83f2-d170f424a946",
   "metadata": {},
   "source": [
    "#### ➡️ ✏️ Task 1 \n",
    "\n",
    "Let's have a look of an example with multiple axes. Pay close attention to the two different plots, can you see why it makes sense to directly specify the axis you are trying to plot on instead of using only the *current axis*?"
   ]
  },
  {
   "cell_type": "code",
   "execution_count": null,
   "id": "d46e4dcd-d703-4ca5-9266-afad774601c5",
   "metadata": {},
   "outputs": [],
   "source": [
    "# Create a figure called fig with two axes, in a list called axs\n",
    "fig, axs = plt.subplots(1, 2)\n",
    "# Plot a scatterplot of the sepal length x petal length\n",
    "plt.scatter(iris[\"sepal length (cm)\"], iris[\"petal length (cm)\"])\n",
    "# Plot a histogram of the sepal width\n",
    "plt.hist(iris[\"sepal width (cm)\"])"
   ]
  },
  {
   "cell_type": "code",
   "execution_count": null,
   "id": "1825828f-1bd0-4adf-abea-4d7e7c0d7994",
   "metadata": {},
   "outputs": [],
   "source": [
    "# Create a figure called fig with two axes, in a list called axs\n",
    "fig, axs = plt.subplots(1, 2)\n",
    "# Plot a scatterplot of the sepal length x petal length on the first axis\n",
    "axs[0].scatter(iris[\"sepal length (cm)\"], iris[\"petal length (cm)\"])\n",
    "# Plot a histogram of the sepal width on the second axis\n",
    "axs[1].hist(iris[\"sepal width (cm)\"])"
   ]
  },
  {
   "cell_type": "markdown",
   "id": "b53dd2d9-7576-4cf1-bf02-466bfc6f29fe",
   "metadata": {},
   "source": [
    "### Plotting individual series\n",
    "Until now, we have always used the full data for our plots, but there might be a good reason to filter our data and plot different series using different options. For instance, what if we wanted to plot our flower species using an individual color for each instead of everything altogether?\n",
    "\n",
    "Things can get a bit more complicated, or at least tedious. So let's start by plotting only **setosa** flowers."
   ]
  },
  {
   "cell_type": "code",
   "execution_count": null,
   "id": "8e9f3260-febb-4625-b30d-07f244e8f5da",
   "metadata": {},
   "outputs": [],
   "source": [
    "# Subset the dataframe to only a the setosa species\n",
    "iris_setosa = iris.loc[iris[\"species\"] == \"setosa\"]\n",
    "# Create a figure and axis\n",
    "fig, ax = plt.subplots()\n",
    "# Add the scatter plot ONLY for the setosa flowers\n",
    "ax.scatter(iris_setosa[\"sepal length (cm)\"], iris_setosa[\"petal length (cm)\"])"
   ]
  },
  {
   "cell_type": "markdown",
   "id": "47f02824-2f4d-4d0a-a684-c0b7fe4a85f9",
   "metadata": {},
   "source": [
    "The above plot is not really nice or useful, but now that we have seen how to plot a single iris species, we can use this to plot all species individually, using different colors."
   ]
  },
  {
   "cell_type": "code",
   "execution_count": null,
   "id": "5931d0d1-bfff-47ba-a5df-22ab12e59d4a",
   "metadata": {},
   "outputs": [],
   "source": [
    "# Create three subsets of the data, one for each species\n",
    "iris_setosa = iris.loc[iris[\"species\"] == \"setosa\"]\n",
    "iris_virginica = iris.loc[iris[\"species\"] == \"virginica\"]\n",
    "iris_versicolor = iris.loc[iris[\"species\"] == \"versicolor\"]\n",
    "\n",
    "# Create a figure and axis\n",
    "fig, ax = plt.subplots()\n",
    "# Add the scatter plot ONLY for the setosa flowers\n",
    "ax.scatter(iris_setosa[\"sepal length (cm)\"], iris_setosa[\"petal length (cm)\"])\n",
    "# Add the scatter plot ONLY for the virginica flowers (notice, we use the same axis!)\n",
    "ax.scatter(iris_virginica[\"sepal length (cm)\"], iris_virginica[\"petal length (cm)\"])\n",
    "# Add the scatter plot ONLY for the versicolor flowers (again, we use the same axis!)\n",
    "ax.scatter(iris_versicolor[\"sepal length (cm)\"], iris_versicolor[\"petal length (cm)\"])"
   ]
  },
  {
   "cell_type": "markdown",
   "id": "7986e568-60dc-4c58-b24d-858bcbb30f0b",
   "metadata": {},
   "source": [
    "Now we're slowly starting to see the advantage of plotting species individually. Let's recap a bit what happened above.\n",
    "\n",
    "We plotted three different *series* on the same *axis*. Did you see how `matplotlib` automaticaly changed the color for each new series we added? This can be a bit confusing, because now, we're not sure which species is represented by which color! \n",
    "\n",
    "There are two ways we could clarify the above plot:  \n",
    "+ We could specify the color individually for each iris species.\n",
    "+ We could add a label for each series and display a legend on the plot.\n",
    "\n",
    "Let's do both."
   ]
  },
  {
   "cell_type": "code",
   "execution_count": null,
   "id": "c4c017f5-d5f6-4689-994e-74d0d207ba9e",
   "metadata": {},
   "outputs": [],
   "source": [
    "# The subsets are already defined from above, no need to repeat this part of the code!\n",
    "\n",
    "# Create a figure and axis\n",
    "fig, ax = plt.subplots()\n",
    "# Add the scatter plot ONLY for the setosa flowers\n",
    "ax.scatter(iris_setosa[\"sepal length (cm)\"], iris_setosa[\"petal length (cm)\"],\n",
    "          color=\"blue\", label=\"setosa\")\n",
    "# Add the scatter plot ONLY for the virginica flowers\n",
    "ax.scatter(iris_virginica[\"sepal length (cm)\"], iris_virginica[\"petal length (cm)\"],\n",
    "          color=\"green\", label=\"virginica\")\n",
    "# Add the scatter plot ONLY for the versicolor flowers\n",
    "ax.scatter(iris_versicolor[\"sepal length (cm)\"], iris_versicolor[\"petal length (cm)\"],\n",
    "          color=\"purple\", label=\"versicolor\")\n",
    "# We need to explictly add the legend to the axis\n",
    "ax.legend()"
   ]
  },
  {
   "cell_type": "markdown",
   "id": "4262533d-096b-4991-ae2f-81f981fea613",
   "metadata": {},
   "source": [
    "Great! We now understand how to explicitly specify a color for the series we are plotting and how to add a legend such that the plot is easier to understand. However, there are still a few things missing."
   ]
  },
  {
   "cell_type": "markdown",
   "id": "830db4db-bfc5-4ca0-aa14-f2a33d742322",
   "metadata": {},
   "source": [
    "___\n",
    "#### 🤔 Pause and ponder\n",
    "Looking at the plot above and forgetting everything about the code for the time being, can you think of information that is missing? As a data scientist, you always need to take the perspective of your audience, be it a client, boss, or the general public. \n",
    "\n",
    "Can anybody, who knows nothing about the code, understand what is going on in the plot above? If not, what is missing?\n",
    "\n",
    "Your plots should **always** be self-explanatory (including title and description). If somebody has to ask something about a plot, it probably means the plot can be improved.\n",
    "___"
   ]
  },
  {
   "cell_type": "markdown",
   "id": "1fa0b086-79a9-4f11-ac50-bfa93c4a3349",
   "metadata": {},
   "source": [
    "### Prettifying plots\n",
    "Let's go ahead and take the perspective of our audience. What is unclear in the above plot?\n",
    "\n",
    "+ Not everybody knows that *setosa*, *virginica*, and *versicolor* refer to iris species, it would be good to add a title to our legend.\n",
    "+ It's unclear what the $x$- and $y$-axis represent, we absolutely need to label them.\n",
    "+ A scatter plot is nice, but what if multiple flowers have the same sepal and petal length? We can't really see how many flowers each dot represent. Perhaps we could use a bit of transparency to make this more readable. This is done using a parameter called `alpha`, where `alpha=1` means no transparency at all, and `alpha=0` means completely transparent. You can think of `alpha` as the opacity percentage.\n",
    "+ The plot is a bit small, it would be nice to make it larger.\n",
    "+ A title indicating what the plot is about is always good."
   ]
  },
  {
   "cell_type": "code",
   "execution_count": null,
   "id": "32236cca-0670-43ac-b8f5-2087de1ee76a",
   "metadata": {},
   "outputs": [],
   "source": [
    "# Create a figure and axis, specify the figure size\n",
    "fig, ax = plt.subplots(figsize=(8, 6))\n",
    "# Add the scatter plot ONLY for the setosa flowers\n",
    "ax.scatter(iris_setosa[\"sepal length (cm)\"], iris_setosa[\"petal length (cm)\"],\n",
    "          color=\"blue\", label=\"setosa\", alpha=0.6)\n",
    "# Add the scatter plot ONLY for the virginica flowers\n",
    "ax.scatter(iris_virginica[\"sepal length (cm)\"], iris_virginica[\"petal length (cm)\"],\n",
    "          color=\"green\", label=\"virginica\", alpha=0.6)\n",
    "# Add the scatter plot ONLY for the versicolor flowers\n",
    "ax.scatter(iris_versicolor[\"sepal length (cm)\"], iris_versicolor[\"petal length (cm)\"],\n",
    "          color=\"purple\", label=\"versicolor\", alpha=0.6)\n",
    "# Add the legend with an explicit title\n",
    "ax.legend(title=\"Iris species\")\n",
    "# Add the x- and y-axes labels\n",
    "ax.set_xlabel(\"Sepal length in cm\")\n",
    "ax.set_ylabel(\"Petal length in cm\")\n",
    "# Add a title to our plot\n",
    "ax.set_title(\"Sepal and petal length for different iris species\")"
   ]
  },
  {
   "cell_type": "markdown",
   "id": "bd8b761c-07e4-42f7-9aff-4fbbb3023bb7",
   "metadata": {},
   "source": [
    "That's it. We have quite a nice plot which we could use in an analysis report or a presentation. Of course, as mentioned previously, `matplotlib` offers many more options which we can use to make this plot look even nicer. We will encounter a few of them in the class. For your project, it is a good idea to have a look at the [matplotlib gallery](https://matplotlib.org/stable/gallery/index.html) as it can provide useful inspiration for your own visualizations."
   ]
  },
  {
   "cell_type": "markdown",
   "id": "6d09f706-8b8c-4ff3-a522-7c95992dae9d",
   "metadata": {},
   "source": [
    "#### ➡️ ✏️ Task 2\n",
    "To finish, let's also add a second axis to our plot with a histogram of the sepal width. However, we want to add these histograms using the same colors, labels, and opacity levels that we did for the scatter plot. Go ahead and complete the code below to finalize the visualization."
   ]
  },
  {
   "cell_type": "code",
   "execution_count": null,
   "id": "94ef1ac0-e64c-45ca-b3d7-0a7b3021b14e",
   "metadata": {},
   "outputs": [],
   "source": [
    "# Create a figure and axis, specify the figure size\n",
    "fig, axs = plt.subplots(1, 2, figsize=(16, 6))\n",
    "# Add the scatter plot ONLY for the setosa flowers\n",
    "axs[0].scatter(iris_setosa[\"sepal length (cm)\"], iris_setosa[\"petal length (cm)\"],\n",
    "          color=\"blue\", label=\"setosa\", alpha=0.6)\n",
    "axs[1].hist(iris_setosa[\"sepal width (cm)\"], color=\"blue\", label=\"setosa\", alpha=.6)\n",
    "# Add the scatter plot ONLY for the virginica flowers\n",
    "axs[0].scatter(iris_virginica[\"sepal length (cm)\"], iris_virginica[\"petal length (cm)\"],\n",
    "          color=\"green\", label=\"virginica\", alpha=0.6)\n",
    "# ... ➡️ ✏️ complete to add the histogram for the virginica species\n",
    "\n",
    "\n",
    "# Add the scatter plot ONLY for the versicolor flowers\n",
    "axs[0].scatter(iris_versicolor[\"sepal length (cm)\"], iris_versicolor[\"petal length (cm)\"],\n",
    "          color=\"purple\", label=\"versicolor\", alpha=0.6)\n",
    "# ... ➡️ ✏️ complete to add the histogram for the versicolor species\n",
    "\n",
    "\n",
    "# Add the legend with an explicit title\n",
    "axs[0].legend(title=\"Iris species\")\n",
    "axs[1].legend(title=\"Iris species\")\n",
    "# Add the x- and y-axes labels\n",
    "axs[0].set_xlabel(\"Sepal length in cm\")\n",
    "axs[0].set_ylabel(\"Petal length in cm\")\n",
    "axs[1].set_xlabel(\"Sepal width in cm\")\n",
    "axs[1].set_ylabel(\"Count\")\n",
    "# Add a title to our plot\n",
    "axs[0].set_title(\"Sepal and petal length for different iris species\")\n",
    "# ... ➡️ ✏️ complete to add the histogram title (choose a good title!)\n",
    "\n"
   ]
  }
 ],
 "metadata": {
  "kernelspec": {
   "display_name": "Python 3 (ipykernel)",
   "language": "python",
   "name": "python3"
  },
  "language_info": {
   "codemirror_mode": {
    "name": "ipython",
    "version": 3
   },
   "file_extension": ".py",
   "mimetype": "text/x-python",
   "name": "python",
   "nbconvert_exporter": "python",
   "pygments_lexer": "ipython3",
   "version": "3.10.8"
  }
 },
 "nbformat": 4,
 "nbformat_minor": 5
}

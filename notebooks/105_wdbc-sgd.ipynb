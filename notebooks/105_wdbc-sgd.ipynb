{
 "cells": [
  {
   "cell_type": "markdown",
   "id": "e63b96d9-4da4-4394-adc7-f9f41c5444de",
   "metadata": {},
   "source": [
    "<a target=\"_blank\" href=\"https://colab.research.google.com/github/JLDC/Data-Science-Fundamentals/blob/master/notebooks/105_wdbc-sgd.ipynb\">\n",
    "    <img src=\"https://i.ibb.co/2P3SLwK/colab.png\"  style=\"padding-bottom:5px;\" />Open this notebook in Google Colab\n",
    "</a>\n",
    "\n",
    "___"
   ]
  },
  {
   "cell_type": "markdown",
   "id": "69e5205b-aae9-4ec3-b390-161f2d8505c2",
   "metadata": {},
   "source": [
    "# Stochastic gradient descent\n",
    "___\n",
    "\n",
    "### 🧑‍💻 <font color=green>**Your Task**</font>\n",
    "\n",
    "Copy the code from Notebook 103 (perceptron for the wdbc data using standardized features). Then adjust the code such that it corresponds to stochastic gradient descent for a linear model (i.e. a linear function $f(\\mathbf x, \\mathbf w)$). First, derive the updating rules. To do so, re-read the slides about gradient descent and stochastic gradient descent. Start with the formulas for gradient descent and adjust them (using only paper and pencil). Once you figured out the updating rules, implement them in the code. Also adjust the graph titles, so you can see that this is now stochastic gradient descent for a linear $f$.\n",
    "\n",
    "How many changes do you have to make relative to the code in Notebook 102b? How do the results compare to the once for Notebook 102b? Which ones do you prefer?\n",
    "\n",
    "<font color=red>**Feel free to work in groups!**</font>"
   ]
  },
  {
   "cell_type": "markdown",
   "id": "229adf78-d21d-4c65-b2c6-d69ce5dbb1a1",
   "metadata": {},
   "source": [
    "#### Solution"
   ]
  },
  {
   "cell_type": "code",
   "execution_count": 2,
   "id": "ba7d0b1a-6217-42b5-ac2e-e82dadd28010",
   "metadata": {},
   "outputs": [],
   "source": []
  }
 ],
 "metadata": {
  "kernelspec": {
   "display_name": "Python 3 (ipykernel)",
   "language": "python",
   "name": "python3"
  },
  "language_info": {
   "codemirror_mode": {
    "name": "ipython",
    "version": 3
   },
   "file_extension": ".py",
   "mimetype": "text/x-python",
   "name": "python",
   "nbconvert_exporter": "python",
   "pygments_lexer": "ipython3",
   "version": "3.10.8"
  },
  "vscode": {
   "interpreter": {
    "hash": "d4d1e4263499bec80672ea0156c357c1ee493ec2b1c70f0acce89fc37c4a6abe"
   }
  }
 },
 "nbformat": 4,
 "nbformat_minor": 5
}

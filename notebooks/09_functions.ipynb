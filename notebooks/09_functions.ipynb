{
 "cells": [
  {
   "cell_type": "markdown",
   "id": "3947ab7d-30e4-4e71-bbd0-242ab5f67f6e",
   "metadata": {},
   "source": [
    "<a target=\"_blank\" href=\"https://colab.research.google.com/github/JLDC/Data-Science-Fundamentals/blob/master/notebooks/09_functions.ipynb\">\n",
    "    <img src=\"https://i.ibb.co/2P3SLwK/colab.png\"  style=\"padding-bottom:5px;\" />Open this notebook in Google Colab\n",
    "</a>\n",
    "\n",
    "___"
   ]
  },
  {
   "cell_type": "markdown",
   "id": "c70d5d77-1ea1-4692-ac24-0eff07ad4207",
   "metadata": {},
   "source": [
    "# Introduction to Functions\n",
    "___\n",
    "If you went through the introductory notebook, you should already have a rought understanding of what a function is and why it can be useful. In this notebook we will take some more time to extend your knowledge of functions, introducting *lambda functions*, *argument unpacking*, and *vectorization*."
   ]
  },
  {
   "cell_type": "markdown",
   "id": "6102cd01-d72b-4420-b18d-0b5aeef99131",
   "metadata": {},
   "source": [
    "___\n",
    "## Basics\n",
    "\n",
    "Before we dive into the more complicated and useful concepts, let's review some function basics. I'll try not to bore you too much and I won't reiterate the things we did in the introductory notebook.\n",
    "\n",
    "Because you'll mostly work with `pandas` dataframes and `numpy` arrays, it's a good idea to start learning about functions using these objects directly."
   ]
  },
  {
   "cell_type": "code",
   "execution_count": null,
   "id": "18c03689-943a-4062-8bf1-7301dfbdcdf5",
   "metadata": {},
   "outputs": [],
   "source": [
    "# Import necessary packages\n",
    "import pandas as pd\n",
    "import numpy as np"
   ]
  },
  {
   "cell_type": "code",
   "execution_count": null,
   "id": "b5c9745f-ad0b-4500-873d-191be6925e1b",
   "metadata": {},
   "outputs": [],
   "source": [
    "# Let's create a very simple function which adds up two elements and returns the output\n",
    "def add_two_elements(a, b):\n",
    "    return a + b"
   ]
  },
  {
   "cell_type": "code",
   "execution_count": null,
   "id": "ecc95f0f-55c4-4fd3-9023-31a279c5bf36",
   "metadata": {},
   "outputs": [],
   "source": [
    "# Check that the function behaves correctly\n",
    "add_two_elements(1, 2)"
   ]
  },
  {
   "cell_type": "markdown",
   "id": "062c48cf-e36e-45af-a937-b89b284c7620",
   "metadata": {},
   "source": [
    "Notice that because string addition is defined in Python, this function also works with strings."
   ]
  },
  {
   "cell_type": "code",
   "execution_count": null,
   "id": "c8499c6a-fc25-435e-b372-3f0c538b4723",
   "metadata": {},
   "outputs": [],
   "source": [
    "# Add two strings\n",
    "add_two_elements(\"Hello \", \"world!\")"
   ]
  },
  {
   "cell_type": "markdown",
   "id": "14284754-d76f-47f4-a77e-a6787eeb339d",
   "metadata": {},
   "source": [
    "Of course, this behavior is not limited to numbers and strings, but rather it works for every object that can be added together, i.e., also the columns a `pandas` dataframe or two `numpy` matrices."
   ]
  },
  {
   "cell_type": "code",
   "execution_count": null,
   "id": "3194db67-6d31-45af-a38e-4a2aaee3837c",
   "metadata": {},
   "outputs": [],
   "source": [
    "# Create a dataframe with columns A and B filled with random numbers\n",
    "df = pd.DataFrame({\"A\": np.random.randn(5), \"B\": np.random.randn(5)})\n",
    "df # View the dataframe"
   ]
  },
  {
   "cell_type": "code",
   "execution_count": null,
   "id": "fc4bdfc0-bad0-43e6-82c9-5528708e6f75",
   "metadata": {},
   "outputs": [],
   "source": [
    "# Add a third column C, with the sum of A and B\n",
    "df[\"C\"] = add_two_elements(df[\"A\"], df[\"B\"]) # ⚠️ Of course, df[\"C\"] = df[\"A\"] + df[\"B\"] is shorter!\n",
    "df # Show the result"
   ]
  },
  {
   "cell_type": "code",
   "execution_count": null,
   "id": "9fe9e91c-a7e6-4224-b589-e37fd445b39b",
   "metadata": {},
   "outputs": [],
   "source": [
    "# Create two 3x3 matrices of random integers between 0 and 10\n",
    "mat1 = np.random.randint(0, 10, (3, 3))\n",
    "mat2 = np.random.randint(0, 10, (3, 3))"
   ]
  },
  {
   "cell_type": "code",
   "execution_count": null,
   "id": "84209912-8b9a-4fef-a196-b58d83ad5082",
   "metadata": {},
   "outputs": [],
   "source": [
    "pd.DataFrame(mat1) # View the first matrix using pandas for nicer display"
   ]
  },
  {
   "cell_type": "code",
   "execution_count": null,
   "id": "e7777dcc-a632-4f3c-894a-c0470718e524",
   "metadata": {},
   "outputs": [],
   "source": [
    "pd.DataFrame(mat2) # View the second matrix using pandas for nicer display"
   ]
  },
  {
   "cell_type": "code",
   "execution_count": null,
   "id": "158513ed-6c5d-4797-b3c6-ddb8aa07122c",
   "metadata": {},
   "outputs": [],
   "source": [
    "pd.DataFrame(add_two_elements(mat1, mat2)) # View their sum"
   ]
  },
  {
   "cell_type": "markdown",
   "id": "d648dfe8-5911-454b-bbb2-ef01b439330f",
   "metadata": {},
   "source": [
    "___\n",
    "### Optional arguments\n",
    "A function, can also have *optional* arguments, i.e., we can choose to enter an argument or not. This is easy to create, we just set the argument to a default value when creating the function, look at the following example."
   ]
  },
  {
   "cell_type": "code",
   "execution_count": null,
   "id": "8876e71e-e419-4ef5-a064-508729a5ca11",
   "metadata": {},
   "outputs": [],
   "source": [
    "# Notice that we have now set the default value of b equal to 3\n",
    "def add_two_elements_or_add_3(a, b=3):\n",
    "    return a + b"
   ]
  },
  {
   "cell_type": "code",
   "execution_count": null,
   "id": "88810e30-7e40-4ffc-ac96-bee179e816c7",
   "metadata": {},
   "outputs": [],
   "source": [
    "# ... but it's the same result as before ?\n",
    "add_two_elements_or_add_3(1, 2)"
   ]
  },
  {
   "cell_type": "code",
   "execution_count": null,
   "id": "ff0fda68-016b-4a30-8033-08abc013f1d5",
   "metadata": {},
   "outputs": [],
   "source": [
    "# ... unless we don't specify b, then it takes the default value, 3\n",
    "add_two_elements_or_add_3(1)"
   ]
  },
  {
   "cell_type": "markdown",
   "id": "d84ee29f-1006-47cc-835e-143e57cd9f12",
   "metadata": {},
   "source": [
    "___\n",
    "### Unpacking arguments\n",
    "Sometimes (often) programmers are a lazy bunch. So many programming languages have a few tricks which make it easier to write code. Think about list comprehensions from the introductory, it's not really a new or necessary functionality, we could achieve the same output using a loop, but it feels so much nicer once you get used to them. In programming, we refer to this as **syntactic sugar**, i.e., something that makes the syntax much nicer.\n",
    "\n",
    "Unpacking arguments is a neat little bit of syntactic sugar which can be used with Python function. As the following illustrates, the idea is that we can use a list of arguments instead of specifying every single argument."
   ]
  },
  {
   "cell_type": "code",
   "execution_count": null,
   "id": "f90bf4dc-ab50-4079-9203-67bde15ee03b",
   "metadata": {},
   "outputs": [],
   "source": [
    "# Say we have two inputs and we want to pass them to a function, the normal way of doing it is\n",
    "input1 = 1\n",
    "input2 = 2\n",
    "add_two_elements(input1, input2)"
   ]
  },
  {
   "cell_type": "code",
   "execution_count": null,
   "id": "7c450db6-7629-4c71-81c6-364255ba0670",
   "metadata": {},
   "outputs": [],
   "source": [
    "# If our inputs are in a list, we can also do it by accessing each element in the list\n",
    "inputs = [1, 2]\n",
    "add_two_elements(inputs[0], inputs[1])"
   ]
  },
  {
   "cell_type": "code",
   "execution_count": null,
   "id": "c2f4aaf6-670b-4ab6-a5b2-0380dead5cbf",
   "metadata": {},
   "outputs": [],
   "source": [
    "# But using argument unpacking, we can achieve a much nicer result\n",
    "inputs = [1, 2]\n",
    "add_two_elements(*inputs)"
   ]
  },
  {
   "cell_type": "markdown",
   "id": "bed42169-a79d-4071-8ff0-69ddb7fae942",
   "metadata": {},
   "source": [
    "Notice what happened, we simply had a list of inputs and used the `*` operator in front when passing them as the arguments to our function. It's not achieving anything we could not have achieved otherwise (except nicer code), but it can be quite useful. Here's a real-life example."
   ]
  },
  {
   "cell_type": "code",
   "execution_count": null,
   "id": "54628387-7093-469d-ae54-43490235e0cf",
   "metadata": {},
   "outputs": [],
   "source": [
    "# Say we want to create a sequence between a lower bound and an upper bound\n",
    "lower_bound = -10\n",
    "upper_bound = 10\n",
    "seq = np.linspace(lower_bound, upper_bound, num = 5)\n",
    "seq"
   ]
  },
  {
   "cell_type": "code",
   "execution_count": null,
   "id": "22541139-4fa5-4361-88cc-8a87294befb6",
   "metadata": {},
   "outputs": [],
   "source": [
    "# ... or we can just keep the bounds in the same single variable\n",
    "bounds = [-10, 10]\n",
    "seq = np.linspace(*bounds, num=5)\n",
    "seq"
   ]
  },
  {
   "cell_type": "code",
   "execution_count": null,
   "id": "8d87276f-c961-4f5b-b1e9-ae058754bc0a",
   "metadata": {},
   "outputs": [],
   "source": [
    "# Or perhaps you have a list of strings you want to print after each other\n",
    "string_list = [\"Unpacking\", \"arguments\", \"is\", \"not\", \"a\", \"must\", \"but\", \"it\",\n",
    "               \"makes\", \"everything\", \"so\", \"much\", \"nicer!\"]\n",
    "# print(string_list)\n",
    "print(*string_list)"
   ]
  },
  {
   "cell_type": "markdown",
   "id": "55a33b8e-e403-4c3d-a2d3-5202276d2921",
   "metadata": {},
   "source": [
    "Much better than\n",
    "```python\n",
    "print(string_list[0], string_list[1], string_list[2], string_list[3], ...)\n",
    "```\n",
    "\n",
    "Don't you think?"
   ]
  },
  {
   "cell_type": "markdown",
   "id": "81bb3ad6-90ff-449a-ac68-0791bedd8243",
   "metadata": {},
   "source": [
    "### 🙀 🤯 Scope of a variable\n",
    "\n",
    "If you remember only one thing from this notebook, it should be **vectorization** below... but if you remember only two things, then the concept of a variable's **scope** is the second most important thing! This can be particularly confusing if you don't have any programming background, so be sure to ask if there is anything you don't understand!\n",
    "\n",
    "First, consider the following examples:"
   ]
  },
  {
   "cell_type": "code",
   "execution_count": null,
   "id": "4a05dbe4-7949-418c-a8ef-89702eb8d247",
   "metadata": {},
   "outputs": [],
   "source": [
    "# First example\n",
    "x = 10\n",
    "def mysum1(a, b):\n",
    "    print(f\"x is {x}\")\n",
    "    return a + b"
   ]
  },
  {
   "cell_type": "code",
   "execution_count": null,
   "id": "bcc4681d-98e3-4e9d-aaec-e3f5e52c45a9",
   "metadata": {},
   "outputs": [],
   "source": [
    "mysum1(1, 2) # Run the example"
   ]
  },
  {
   "cell_type": "code",
   "execution_count": null,
   "id": "c7b0161c-1983-4377-9f6b-5c7395e40538",
   "metadata": {},
   "outputs": [],
   "source": [
    "# Second example\n",
    "x = 10\n",
    "def mysum2(x, y):\n",
    "    print(f\"x is {x}\")\n",
    "    return x + y"
   ]
  },
  {
   "cell_type": "code",
   "execution_count": null,
   "id": "57f0090d-b118-40c7-a5ab-1c4bf3034f8b",
   "metadata": {},
   "outputs": [],
   "source": [
    "mysum2(1, 2) # Run the example"
   ]
  },
  {
   "cell_type": "markdown",
   "id": "aeedfdbd-fa9f-49b4-8fe4-65f1c719e723",
   "metadata": {},
   "source": [
    "Wait. What happened?! Is `x=1` or `x=10`? Isn't it the same function? I'm confused! 🥴\n",
    "\n",
    "Well, let's break it down, first, let's show the current value of `x`."
   ]
  },
  {
   "cell_type": "code",
   "execution_count": null,
   "id": "f54ba029-049e-4853-8a02-6ef2da0d5590",
   "metadata": {},
   "outputs": [],
   "source": [
    "x # Display the value of x"
   ]
  },
  {
   "cell_type": "markdown",
   "id": "cb1972f1-58f1-403f-bb91-6b79d388b05c",
   "metadata": {},
   "source": [
    "So, `x` is still 10. But `mysum2` tells me it is `1`, so, is `mysum2` wrong? Well no, both functions are right. The problem here is that `x` is variable named **used in the inputs to `mysum2`**. Once a variable name is used as input to a function, any variable that had this exact same name is ignored within the function.\n",
    "\n",
    "This makes sense, imagine if instead the function would reuse the variable defined before, suddenly `mysum2(1, 2)` would return `12`! That would be quite crazy!\n",
    "\n",
    "Scope of variables is an important topic in all of programming and different programming languages handle it differently. Python takes a bit of a *laissez faire* approach, such that you nearly never run into an error... which is good sometimes, but can also be very dangerous when you make mistakes! Stricter languages will not let you define something like `mysum1` above, instead they will say you can't use `x` because it was never defined in `mysum1`, i.e., they would treat every single function like a little script. **This is not the case for Python, and because of this, we need to be careful!**."
   ]
  },
  {
   "cell_type": "markdown",
   "id": "2b25d70f-1c49-4453-a9a4-a2fd789eaa1c",
   "metadata": {},
   "source": [
    "So what's the main takeaway about variable scope? Well, for the time being, the takeaway is the following: **Avoid using variables that were defined outside of your function as much as possible!**\n",
    "\n",
    "There is **always** a cleaner way of doing it, for instance, if we really needed to print some value of another variable `x` as we do in `mysum1`, we could simply write:"
   ]
  },
  {
   "cell_type": "code",
   "execution_count": null,
   "id": "c3d614ae-4cf8-435b-ab6f-ec5f3f0f7de2",
   "metadata": {},
   "outputs": [],
   "source": [
    "def mysum3(a, b, x):\n",
    "    print(f\"x is {x}\")\n",
    "    return a + b"
   ]
  },
  {
   "cell_type": "code",
   "execution_count": null,
   "id": "49d8b472-df22-4d1f-8278-df2ae640e3ec",
   "metadata": {},
   "outputs": [],
   "source": [
    "# And now we pass the value x should have directly as input, try running\n",
    "# mysum3(1, 2), you will see that it won't work\n",
    "mysum3(1, 2, -3)"
   ]
  },
  {
   "cell_type": "markdown",
   "id": "9ffca3aa-2e4e-42f4-9f62-b60b05318a33",
   "metadata": {},
   "source": [
    "#### ➡️ ✏️ Task 1\n",
    "Let's start by writing our first function. \n",
    "\n",
    "The [body mass index (BMI)](https://en.wikipedia.org/wiki/Body_mass_index) is a measure derived from the height and weight of a person. It is defined as\n",
    "\n",
    "$$\\text{BMI} = \\frac{\\text{weight in kg}}{(\\text{height in m})^2},$$\n",
    "\n",
    "i.e., the weight of a person in kilograms, divided by their height in meters squared. The World Health Organization defines the following categories of BMI:\n",
    "\n",
    "|Category|BMI (kg/m²)|\n",
    "|:--|:-:|\n",
    "|Underweight|$<18.5$|\n",
    "|Normal|$[18.5, 25)$|\n",
    "|Overweight|$[25, 30)$]\n",
    "|Obese|$> 30$|\n",
    "\n",
    "You are working as a data science consultant for a company doing health analytics. They want to categorize the BMI of a person given their weight and height. Luckily, now that you have learned about functions, you know how to do just that!\n",
    "\n",
    "Create a function called `bmi_category(height_in_cm, weight_in_kg)` which does the following:\n",
    "+ Take as input the height in centimeters and the weight in kilograms.\n",
    "+ Compute the BMI according to the above formula.\n",
    "+ Output a string with the BMI category according to the table above."
   ]
  },
  {
   "cell_type": "code",
   "execution_count": null,
   "id": "dbcbadd7-2201-43a7-b1a4-cabbd863267a",
   "metadata": {},
   "outputs": [],
   "source": [
    "# Enter your code below\n"
   ]
  },
  {
   "cell_type": "markdown",
   "id": "d54b1a81-6e19-4eaa-8a62-98dd3a572b6a",
   "metadata": {},
   "source": [
    "___\n",
    "## Lambda functions\n",
    "Python has a second, more cryptic, way of writing functions: so-called *lambda functions*. A lambda function is just a way of writing functions in a single line of code instead of using multiple lines such as with `def`.\n",
    "\n",
    "As of now, this might sound neither complicated nor useful, but it can be. It's good to know about it because I will be using it here and there, and, typically, it's very useful when trying to apply short functions to `numpy` arrays and `pandas` dataframes. Lambda functions can seem strange and unnecessarily complex at first, but in the end **they are nothing but a different way of writing functions.**"
   ]
  },
  {
   "cell_type": "code",
   "execution_count": null,
   "id": "0e1f3890-48d2-48ab-826a-c26654a276c1",
   "metadata": {},
   "outputs": [],
   "source": [
    "# Create a function that adds 10 to any number\n",
    "def add_10_normal(x):\n",
    "    return x + 10"
   ]
  },
  {
   "cell_type": "code",
   "execution_count": null,
   "id": "b2557966-8632-4983-a8cd-890101d12b24",
   "metadata": {},
   "outputs": [],
   "source": [
    "# Test out the function\n",
    "add_10_normal(50)"
   ]
  },
  {
   "cell_type": "code",
   "execution_count": null,
   "id": "3ed6a2d4-df19-4ffe-a0d1-2dc8d7fd01c9",
   "metadata": {},
   "outputs": [],
   "source": [
    "# Write the same function but as a lambda function\n",
    "add_10_lambda = lambda x: x + 10\n",
    "add_10_lambda(50)"
   ]
  },
  {
   "cell_type": "markdown",
   "id": "c35eea3c-dec6-4f78-a153-cc3f5a3dd0f9",
   "metadata": {},
   "source": [
    "Alright, so to reiterate and make an example, for a function that sums two numbers, we can either write:\n",
    "\n",
    "```python\n",
    "def myfunction(input1, input2):\n",
    "    return input1 + input2\n",
    "```\n",
    "\n",
    "or\n",
    "\n",
    "```python\n",
    "myfunction = lambda input1, input2: input1 + input2\n",
    "```\n",
    "The first version is typically easier to understand when you are new to programming, but the second version will be very useful, in particular when coupled with vectorization as we will see later.\n",
    "<br/><br/>"
   ]
  },
  {
   "cell_type": "markdown",
   "id": "360d59f9-fca8-4f8f-aa3d-73da8c78d60e",
   "metadata": {},
   "source": [
    "#### ➡️ ✏️ Task 2\n",
    "\n",
    "Write a lambda function that does the following. As an input, it takes a (numpy) array or a column from a pandas dataframe. It then calculates the difference between the sum and the mean of the input. Test your function with a simple numpy array and a simple dataframe with a single column.\n"
   ]
  },
  {
   "cell_type": "code",
   "execution_count": null,
   "id": "1a174dbd-3c94-4827-b384-88d4f3089d01",
   "metadata": {},
   "outputs": [],
   "source": [
    "# Enter your code below\n",
    "\n",
    "fancyfun = lambda x: x.sum() - x.mean()\n",
    "a = np.random.randn(5)\n",
    "fancyfun(a)\n"
   ]
  },
  {
   "cell_type": "code",
   "execution_count": null,
   "id": "ebd02e09-8000-40dd-9e1a-47907e6b8195",
   "metadata": {},
   "outputs": [],
   "source": [
    "\n",
    "df = pd.DataFrame({\"A\": np.random.randn(5)})\n",
    "fancyfun(df)"
   ]
  },
  {
   "cell_type": "code",
   "execution_count": null,
   "id": "c7ee1919-ae63-4566-9c59-75a5b4fdce61",
   "metadata": {},
   "outputs": [],
   "source": []
  }
 ],
 "metadata": {
  "kernelspec": {
   "display_name": "Python 3 (ipykernel)",
   "language": "python",
   "name": "python3"
  },
  "language_info": {
   "codemirror_mode": {
    "name": "ipython",
    "version": 3
   },
   "file_extension": ".py",
   "mimetype": "text/x-python",
   "name": "python",
   "nbconvert_exporter": "python",
   "pygments_lexer": "ipython3",
   "version": "3.10.8"
  }
 },
 "nbformat": 4,
 "nbformat_minor": 5
}

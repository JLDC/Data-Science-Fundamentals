{
 "cells": [
  {
   "attachments": {},
   "cell_type": "markdown",
   "metadata": {},
   "source": [
    "<a target=\"_blank\" href=\"https://colab.research.google.com/github/JLDC/Data-Science-Fundamentals/blob/master/notebooks/999_trial-lecture.ipynb\">\n",
    "    <img src=\"https://i.ibb.co/2P3SLwK/colab.png\"  style=\"padding-bottom:5px;\" />Open this notebook in Google Colab\n",
    "</a>\n",
    "\n",
    "___"
   ]
  },
  {
   "attachments": {},
   "cell_type": "markdown",
   "metadata": {},
   "source": [
    "# Data Science Fundamentals: Trial Lecture\n",
    "___"
   ]
  },
  {
   "attachments": {},
   "cell_type": "markdown",
   "metadata": {},
   "source": [
    "## 1. Preparation\n",
    "___\n",
    "\n",
    "In Python, we often work with packages. Packages are a collection of useful commands that we can use in our code to make our lives easier. We can import packages into our code using the `import` command."
   ]
  },
  {
   "cell_type": "code",
   "execution_count": null,
   "metadata": {},
   "outputs": [],
   "source": [
    "# Import the pandas package and call it pd\n",
    "import pandas as pd \n",
    "\n",
    "# Define the path where the data is stored\n",
    "DATA_PATH = \"https://raw.githubusercontent.com/JLDC/Data-Science-Fundamentals/master/data\""
   ]
  },
  {
   "attachments": {},
   "cell_type": "markdown",
   "metadata": {},
   "source": [
    "Let us begin by importing the data. We can use the `read_csv` command from the pandas package to read in the data. The data is stored in a file called `bike_rental.csv` in the `data` folder. But before loading in Python, let's have a look at the data in the CSV explorer in JupyterLab."
   ]
  },
  {
   "cell_type": "code",
   "execution_count": null,
   "metadata": {},
   "outputs": [],
   "source": [
    "# Load the data using pandas read_csv method\n",
    "bike_rentals = pd.read_csv(f\"{DATA_PATH}/bike_rental.csv\")"
   ]
  },
  {
   "attachments": {},
   "cell_type": "markdown",
   "metadata": {},
   "source": [
    "The data set `bike_rentals` contains information about the bike rental data in Washington D.C. in 2011 and 2012. It is a typical data set that you will encounter in your work as a data scientist. It contains information about the weather, the time of day, and the number of bikes rented. The data set is based on the [Bike Sharing Dataset](https://archive.ics.uci.edu/ml/datasets/bike+sharing+dataset) from the [UCI Machine Learning Repository](https://archive.ics.uci.edu/ml/index.php).\n",
    "\n",
    "\n",
    "Let us start by thinking about this data set. We can ask ourselves a few questions:\n",
    "\n",
    "1. Using the CSV explorer, can we find out what the columns mean?\n",
    "2. What could we use this data for?\n",
    "3. How can we create value from this data?\n",
    "4. Can we use the data in its raw form, or do we need to preprocess it?"
   ]
  },
  {
   "cell_type": "code",
   "execution_count": null,
   "metadata": {},
   "outputs": [],
   "source": [
    "# Of course, the data can be inspected directly in the notebook as well\n",
    "bike_rentals.head() # Show the first 5 rows"
   ]
  },
  {
   "cell_type": "code",
   "execution_count": null,
   "metadata": {},
   "outputs": [],
   "source": [
    "# Number of observations (data points) per season\n",
    "bike_rentals[\"season\"].value_counts()"
   ]
  },
  {
   "cell_type": "code",
   "execution_count": null,
   "metadata": {},
   "outputs": [],
   "source": [
    "# Summary statistics for the temperature\n",
    "bike_rentals[\"temp\"].describe()"
   ]
  },
  {
   "attachments": {},
   "cell_type": "markdown",
   "metadata": {},
   "source": [
    "## 2. Illustration of how to use graphical tools to explore data\n",
    "___\n",
    "\n",
    "When working with data, a good starting point is to explore the data. For many of us, this is easier to do when we can see the data. We can use graphical tools to explore the data. In this section, we will use the `matplotlib` package to create visualizations of our data."
   ]
  },
  {
   "cell_type": "code",
   "execution_count": null,
   "metadata": {},
   "outputs": [],
   "source": [
    "# Import the matplotlib package and call it plt\n",
    "import matplotlib.pyplot as plt"
   ]
  },
  {
   "cell_type": "code",
   "execution_count": null,
   "metadata": {},
   "outputs": [],
   "source": [
    "fig, ax = plt.subplots() # Create a figure containing a single axes.\n",
    "ax.hist(bike_rentals[\"cnt\"]); # Plot a histogram of the number of bike rentals"
   ]
  },
  {
   "attachments": {},
   "cell_type": "markdown",
   "metadata": {},
   "source": [
    "Is the above plot useful? Can we make it a bit nicer?"
   ]
  },
  {
   "cell_type": "code",
   "execution_count": null,
   "metadata": {},
   "outputs": [],
   "source": [
    "fig, ax = plt.subplots(figsize=(9, 6)) # Create a figure containing a single axes.\n",
    "# Plot a histogram of the number of bike rentals, but this time with 30 bins, in green\n",
    "ax.hist(bike_rentals[\"cnt\"], bins=30, color=\"darkgreen\")\n",
    "# Add axis labels and a title\n",
    "ax.set_xlabel(\"Number of bike rentals per hour\")\n",
    "ax.set_ylabel(\"Frequency\")\n",
    "ax.set_title(\"Distribution of bike rentals per hour\")"
   ]
  },
  {
   "attachments": {},
   "cell_type": "markdown",
   "metadata": {},
   "source": [
    "Experiment yourself with different values for `bins` or `colors` to see what happens. Be careful, not every color will work, here is a list:\n",
    "\n",
    "![](https://matplotlib.org/stable/_images/sphx_glr_colors_004.png)"
   ]
  },
  {
   "attachments": {},
   "cell_type": "markdown",
   "metadata": {},
   "source": [
    "What we want to predict is the value `cnt`, can you see why this is an interesting value to predict?\n",
    "\n",
    "How could we go about predicting this value? What information do we have available?\n",
    "\n",
    "For instance, do you think there is a difference in bike rentals in the different seasons? Let's have a look at the data."
   ]
  },
  {
   "cell_type": "code",
   "execution_count": null,
   "metadata": {},
   "outputs": [],
   "source": [
    "# For each season, plot a histogram of the number of bike rentals\n",
    "fig, ax = plt.subplots(figsize=(9, 6)) # Create a figure containing a single axes.\n",
    "\n",
    "# Plot the histogram for the spring season\n",
    "ax.hist(bike_rentals.loc[bike_rentals[\"season\"] == 2, \"cnt\"],\n",
    "        label=\"Spring\", color=\"lime\", alpha=0.5, bins=50, edgecolor=\"black\")\n",
    "# Plot the histogram for the fall season\n",
    "ax.hist(bike_rentals.loc[bike_rentals[\"season\"] == 4, \"cnt\"],\n",
    "        label=\"Fall\", color=\"sienna\", alpha=0.5, bins=50, edgecolor=\"black\")\n",
    "ax.set_xlabel(\"Number of bike rentals per hour\")\n",
    "ax.set_ylabel(\"Frequency\")\n",
    "ax.set_title(\"Seasonal distribution of bike rentals per hour\")\n",
    "ax.legend(title=\"Season\"); # Add a legend"
   ]
  },
  {
   "attachments": {},
   "cell_type": "markdown",
   "metadata": {},
   "source": [
    "Do you think the bike renting business is better in the winter or in the summer?\n",
    "\n",
    "Go ahead and try to visualize the effect of spring and fall building on the above code, try to play around with the bins and colors to make the plot more informative."
   ]
  },
  {
   "attachments": {},
   "cell_type": "markdown",
   "metadata": {},
   "source": [
    "## 3. Predicting bike rentals: the idea\n",
    "___\n",
    "\n",
    "As expected, the number of bike rentals fluctuates across the seasons. In particular, it is sensible to assume that the outside temperature has an effect on the demand for bike rentals. In this section, we will explore how we can use the data to predict the number of bike rentals.\n",
    "\n",
    "Let us begin by exploring this data visually as well."
   ]
  },
  {
   "cell_type": "code",
   "execution_count": null,
   "metadata": {},
   "outputs": [],
   "source": [
    "fig, ax = plt.subplots(figsize=(9, 6)) # Create a figure containing a single axes.\n",
    "# Plot a scatter plot of the number of bike rentals against the temperature\n",
    "ax.scatter(bike_rentals[\"temp\"], bike_rentals[\"cnt\"], alpha=0.5)\n",
    "ax.set_xlabel(\"Normalized temperature (in degrees Celsius)\")\n",
    "ax.set_ylabel(\"Number of bike rentals per hour\")\n",
    "ax.set_title(\"Number of bike rentals per hour vs. temperature\")"
   ]
  },
  {
   "attachments": {},
   "cell_type": "markdown",
   "metadata": {},
   "source": [
    "This plot looks somewhat strange, can you see why? What is the problem with this plot?\n",
    "\n",
    "But we will not fix it for now, this is something you will see in the *real* course... However, we will add a trendline to the plot. This is a line that shows the trend in the data. We could use this curve to help us predict the number of bike rentals."
   ]
  },
  {
   "cell_type": "code",
   "execution_count": null,
   "metadata": {},
   "outputs": [],
   "source": [
    "# Compute lowess trendline for the scatter plot, no need to understand this code\n",
    "# for now, we will cover machine learning techniques in the full course\n",
    "# (lowess stands for locally weighted scatterplot smoothing)\n",
    "from statsmodels.nonparametric.smoothers_lowess import lowess\n",
    "lowess_data = lowess(bike_rentals[\"cnt\"], bike_rentals[\"temp\"], frac=0.3)"
   ]
  },
  {
   "cell_type": "code",
   "execution_count": null,
   "metadata": {},
   "outputs": [],
   "source": [
    "fig, ax = plt.subplots(figsize=(9, 6)) # Create a figure containing a single axes.\n",
    "# Plot a scatter plot of the number of bike rentals against the temperature\n",
    "ax.scatter(bike_rentals[\"temp\"], bike_rentals[\"cnt\"], alpha=0.5)\n",
    "# Add the lowess trendline\n",
    "ax.plot(lowess_data[:, 0], lowess_data[:, 1], color=\"darkred\", linewidth=3, \n",
    "    label=\"LOWESS\")\n",
    "ax.set_xlabel(\"Normalized temperature (in degrees Celsius)\")\n",
    "ax.set_ylabel(\"Number of bike rentals per hour\")\n",
    "ax.set_title(\"Number of bike rentals per hour vs. temperature\")\n",
    "ax.legend();"
   ]
  },
  {
   "attachments": {},
   "cell_type": "markdown",
   "metadata": {},
   "source": [
    "## 4. Linear Regression\n",
    "___\n",
    "\n",
    "For a predictive analysis, it can be valuable to make use of more than just one variable, i.e., our predictions will probably be more accurate if we don't restrict our predictive modeling to the temperature but instead account for seasons, day of week, and hour of day, etc. Let's try to do this."
   ]
  },
  {
   "cell_type": "code",
   "execution_count": null,
   "metadata": {},
   "outputs": [],
   "source": [
    "# Create a subset of the data containing only the columns we are interested in\n",
    "bike_rentals_subset = bike_rentals[[\"season\", \"mnth\", \"hr\", \"holiday\", \"weekday\",\n",
    "    \"workingday\", \"weathersit\", \"temp\", \"hum\", \"windspeed\", \"cnt\"]]"
   ]
  },
  {
   "cell_type": "code",
   "execution_count": null,
   "metadata": {},
   "outputs": [],
   "source": [
    "# Import the regression model from the sci-kit learn machine learning package\n",
    "from sklearn.linear_model import LinearRegression"
   ]
  },
  {
   "cell_type": "code",
   "execution_count": null,
   "metadata": {},
   "outputs": [],
   "source": [
    "# Set up a regression model with the number of bike rentals as the outcome and\n",
    "# all other variables as predictors\n",
    "model = LinearRegression().fit(bike_rentals_subset.drop(\"cnt\", axis=1),\n",
    "    bike_rentals_subset[\"cnt\"])"
   ]
  },
  {
   "cell_type": "code",
   "execution_count": null,
   "metadata": {},
   "outputs": [],
   "source": [
    "# Plot a histogram of the residuals / errors of the model\n",
    "fig, ax = plt.subplots(figsize=(9, 6)) # Create a figure containing a single axes.\n",
    "ax.hist(bike_rentals_subset[\"cnt\"] - \n",
    "        model.predict(bike_rentals_subset.drop(\"cnt\", axis=1)), bins=50, \n",
    "        color=\"darkgreen\", edgecolor=\"black\")\n",
    "ax.set_xlabel(\"Residuals\")\n",
    "ax.set_ylabel(\"Frequency\")\n",
    "ax.set_title(\"Distribution of residuals of the linear regression model\")"
   ]
  },
  {
   "cell_type": "code",
   "execution_count": null,
   "metadata": {},
   "outputs": [],
   "source": [
    "# Visualize the predicted number of bike rentals against the actual number of\n",
    "# bike rentals\n",
    "fig, ax = plt.subplots(figsize=(9, 6)) # Create a figure containing a single axes.\n",
    "ax.scatter(model.predict(bike_rentals_subset.drop(\"cnt\", axis=1)),\n",
    "    bike_rentals_subset[\"cnt\"], alpha=0.5)\n",
    "# Add the ground truth line\n",
    "ax.plot([0, 500], [0, 500], color=\"darkred\", linewidth=3, label=\"Ground truth\",\n",
    "        linestyle=\"-.\")\n",
    "ax.set_xlabel(\"Predicted number of bike rentals per hour\")\n",
    "ax.set_ylabel(\"Actual number of bike rentals per hour\")\n",
    "ax.set_title(\"Predicted vs. actual number of bike rentals per hour\")\n",
    "ax.legend();"
   ]
  },
  {
   "attachments": {},
   "cell_type": "markdown",
   "metadata": {},
   "source": [
    "What do you think of this model? Is it a good model? Why? Why not?\n",
    "\n",
    "In the certificate program, you will learn how to evaluate models. You will learn about detailed measures on how to quantify the predictive success of a model. "
   ]
  },
  {
   "attachments": {},
   "cell_type": "markdown",
   "metadata": {},
   "source": [
    "## 5. Discussion\n",
    "___\n",
    "\n",
    "- What is **machine learning**?\n",
    "- What is **artificial intelligence**?\n",
    "- What is **data science**?"
   ]
  }
 ],
 "metadata": {
  "kernelspec": {
   "display_name": "dsf",
   "language": "python",
   "name": "python3"
  },
  "language_info": {
   "codemirror_mode": {
    "name": "ipython",
    "version": 3
   },
   "file_extension": ".py",
   "mimetype": "text/x-python",
   "name": "python",
   "nbconvert_exporter": "python",
   "pygments_lexer": "ipython3",
   "version": "3.10.8"
  },
  "orig_nbformat": 4
 },
 "nbformat": 4,
 "nbformat_minor": 2
}

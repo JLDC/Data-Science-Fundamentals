{
 "cells": [
  {
   "cell_type": "markdown",
   "id": "04a10df4-f4c5-4edc-9f85-9eb9959e9045",
   "metadata": {},
   "source": [
    "<a target=\"_blank\" href=\"https://colab.research.google.com/github/JLDC/Data-Science-Fundamentals/blob/master/notebooks/006_long-wide-data-formats.ipynb\">\n",
    "    <img src=\"https://i.ibb.co/2P3SLwK/colab.png\"  style=\"padding-bottom:5px;\" />Open this notebook in Google Colab\n",
    "</a>\n",
    "\n",
    "___"
   ]
  },
  {
   "cell_type": "markdown",
   "id": "028e1072-1973-4f73-8552-a7069113601a",
   "metadata": {},
   "source": [
    "# Long and Wide Data Formats\n",
    "___\n",
    "In this script, we will talk a little about data formats, in particular the **long** and **wide** formats. While those are not the only formats that exist, they are, without doubt, the most prevalent ones.\n",
    "\n",
    "Most of the time, you will receive data in a *tabular* format (e.g., like an Excel spreadsheet, with rows and columns), where the data is either in long or wide format. It's important that you are comfortable with both formats and that you are able to transform a dataframe from one format to the other.\n",
    "\n",
    "In my experience, with `pandas`, you will be using **wide format** most of the time. However, when obtaining data from external sources, you will often be faced with data in **long format** as well, hence, it's good to know both. Personally, I also feel like wide format is generally more intuitive, but others might have different views."
   ]
  },
  {
   "cell_type": "markdown",
   "id": "be5319fe-f2a9-44cc-93d2-5fb3a004a147",
   "metadata": {
    "tags": []
   },
   "source": [
    "You might not know it yet, but you have already encountered both data in wide and long format. In fact, the *iris* dataset is in wide format, while the *exchange rate* data is in long format.\n",
    "\n",
    "Let's start with a quick example. Say we have a dataset of the students taking a specific course. This dataset has the following information for each student:  \n",
    "+ The name\n",
    "+ The grade point average (GPA)\n",
    "+ The track (Econ, Business, Law, CS)\n",
    "+ The current semester\n",
    "\n",
    "\n"
   ]
  },
  {
   "cell_type": "markdown",
   "id": "32c62fb5-1286-48ce-9b26-a129554fefdf",
   "metadata": {},
   "source": [
    "___\n",
    "## Wide format\n",
    "If the dataset is in wide format, it will look something like this.\n",
    "\n",
    "|Name|GPA|Track|Semester|\n",
    "|:--|--:|:--|--:|\n",
    "|Johann Friedrich|6.0|Econ|3|\n",
    "|Florence|5.5|Business|4|\n",
    "|Gertrude|4.5|Econ|3|\n",
    "|Ronald|4.0|Law|3|\n",
    "|Janet|5.0|Econ|5|\n",
    "|Leonhard|6.0|CS|5|\n",
    "|Sofya|5.5|Law|3|\n",
    "|...|...|...|...|"
   ]
  },
  {
   "cell_type": "markdown",
   "id": "57e77cad-fe08-4d6a-adcf-d71667075f7f",
   "metadata": {},
   "source": [
    "___\n",
    "## Long format\n",
    "If, on the other hand, we had received the data in long format, it would look as follows:\n",
    "\n",
    "|Name|Variable|Value|\n",
    "|:--|:--|--:|\n",
    "|Johann Friedrich|GPA|6.0|\n",
    "|Johann Friedrich|Track|Econ|\n",
    "|Johann Friedrich|Semester|3|\n",
    "|Florence|GPA|5.5|\n",
    "|Florence|Track|Business|\n",
    "|Florence|Semester|4|\n",
    "|Gertrude|GPA|4.5|\n",
    "|Gertrude|Track|Econ|\n",
    "|Gertrude|Semester|3|\n",
    "|Ronald|GPA|4.0|\n",
    "|Ronald|Track|Law|\n",
    "|Ronald|Semester|3|\n",
    "|...|...|...|"
   ]
  },
  {
   "cell_type": "markdown",
   "id": "c7c861e6-07d3-46f6-8c9b-773726ebe7db",
   "metadata": {},
   "source": [
    "The names are fairly intuitive now that we see an example. \n",
    "\n",
    "The same data in **long format** generaly is *longer*, i.e., it has more rows, because instead of having a single row per observation, we have a row for each variable, for each individual. On the other hand, the **wide format** is, as the name suggests, *wider*, i.e., it has more columns, because now we group all information on an observation on a single row and just add more columns.\n",
    "\n"
   ]
  },
  {
   "cell_type": "markdown",
   "id": "f95fcb5c-5280-4019-9571-9736dfc53983",
   "metadata": {},
   "source": [
    "## From long to wide\n",
    "\n",
    "Time to get our hands dirty. Let's look at how to reshape data from the long format to the wide format. Recall that our SNB exchange rate data is in long format."
   ]
  },
  {
   "cell_type": "code",
   "execution_count": null,
   "id": "05d6b152-1e4e-45c6-b2c2-f1fd7b029ed1",
   "metadata": {},
   "outputs": [],
   "source": [
    "# Import necessary libraries\n",
    "import numpy as np # Numerical computing\n",
    "import pandas as pd # Dataframes\n",
    "\n",
    "# Define the path where the data is stored\n",
    "DATA_PATH = \"https://raw.githubusercontent.com/JLDC/Data-Science-Fundamentals/master/data\""
   ]
  },
  {
   "cell_type": "code",
   "execution_count": null,
   "id": "d91a2a7d-004c-4039-ae67-df3d5777b2ef",
   "metadata": {},
   "outputs": [],
   "source": [
    "pd.read_csv(f\"{DATA_PATH}/snb-data-devkum-en-selection-20220601_1430.csv\", sep=\";\", skiprows=3)"
   ]
  },
  {
   "cell_type": "code",
   "execution_count": null,
   "id": "61a290b5-5a2b-4fda-9a9e-b33ac92e11d5",
   "metadata": {},
   "outputs": [],
   "source": [
    "# Read in data\n",
    "snb = pd.read_csv(f\"{DATA_PATH}/snb-data-devkum-en-selection-20220601_1430.csv\", sep=\";\", skiprows=3)\n",
    "# Do some cleaning, drop the D0 column\n",
    "snb.drop(columns=[\"D0\"], inplace=True)\n",
    "# Create a smaller dataset with only two currencies: EUR1 and USD1\n",
    "snb_small = snb.loc[snb[\"D1\"].isin([\"EUR1\", \"USD1\"])]\n",
    "snb_small # Display the data"
   ]
  },
  {
   "cell_type": "markdown",
   "id": "f04e76fb-a386-4db3-8ea0-980c5af4a076",
   "metadata": {},
   "source": [
    "Notice how this data is in long format? Let's go ahead and transform the *two currencies* version of the data into wide format."
   ]
  },
  {
   "cell_type": "code",
   "execution_count": null,
   "id": "efab30eb-b6cb-4e9e-9f79-bec11cf5e761",
   "metadata": {},
   "outputs": [],
   "source": [
    "# Transform the smaller dataset to wide format\n",
    "snb_small_wide = snb_small.pivot(\n",
    "    index=\"Date\", columns=\"D1\", values=\"Value\").reset_index().rename_axis(None, axis=1)\n",
    "snb_small_wide"
   ]
  },
  {
   "cell_type": "markdown",
   "id": "82eff1ff-e11f-4251-9b82-184b2757bbb9",
   "metadata": {},
   "source": [
    "Do you see how going from long to wide, our dataset is now half as long but has twice as many *value* columns? This is because we did the exercise with two currencies, as you can see from the example below, this also works for much more than only two identifiers (currencies in this case)."
   ]
  },
  {
   "cell_type": "code",
   "execution_count": null,
   "id": "15c01731-7a86-407c-a4b3-381f4675b6bd",
   "metadata": {},
   "outputs": [],
   "source": [
    "# Transform the full dataset to wide format\n",
    "snb_wide = snb.pivot(\n",
    "    index=\"Date\", columns=\"D1\", values=\"Value\").reset_index().rename_axis(None, axis=1)\n",
    "snb_wide"
   ]
  },
  {
   "cell_type": "markdown",
   "id": "3b28a945-1ba9-43a6-8452-8526a4437c23",
   "metadata": {},
   "source": [
    "## From wide to long\n",
    "\n",
    "Going from long to wide was easy, a simple `.pivot` method and a `.reset_index()` following did the trick. Is going from wide to long just as easy?"
   ]
  },
  {
   "cell_type": "code",
   "execution_count": null,
   "id": "7a1d906c-1649-41cb-b83d-9886d1fb1e86",
   "metadata": {},
   "outputs": [],
   "source": [
    "np.random.seed(72) # Set the random seed for the sample to always be the same\n",
    "# This time let's use a random sample of 10 flowers from iris dataset since it's already in wide format\n",
    "iris = pd.read_csv(\"../data/iris.csv\").sample(n=10)\n",
    "iris # Display the dataset"
   ]
  },
  {
   "cell_type": "code",
   "execution_count": null,
   "id": "154ba53d-d106-43b6-a286-65f769057cf5",
   "metadata": {},
   "outputs": [],
   "source": [
    "# Going wide to long is also called \"melting\"\n",
    "iris_long = pd.melt(iris.reset_index(), id_vars=\"index\", value_vars=iris.columns)\n",
    "iris_long # Display the data"
   ]
  },
  {
   "cell_type": "markdown",
   "id": "a963bf0b-06ec-43c3-9bb0-844be17280cc",
   "metadata": {},
   "source": [
    "___\n",
    "## Getting used to it\n",
    "\n",
    "Unfortunately, both the exchange rate and the iris datasets are not the best examples to do long and wide format changes. Do you see why?\n",
    "\n",
    "Think of our first example with the students, there it's pretty clear that our identifier is the name of the student, and each student has multiple variables that have different values.\n",
    "\n",
    "Try to think of this for our iris data. What is the identifier? There is no proper identifier, that's why we had to use `.reset_index()`, such that we add an `index` column which contains the numbering of each observation, creating a fake identifier in a sense.\n",
    "\n",
    "Perhaps that went a bit fast. Look at what `.reset_index()` does in isolation."
   ]
  },
  {
   "cell_type": "code",
   "execution_count": null,
   "id": "5866468f-57ed-460c-abff-d2d37f2cd841",
   "metadata": {},
   "outputs": [],
   "source": [
    "# Adds a column named \"index\" with the value of the index\n",
    "iris.reset_index()"
   ]
  },
  {
   "cell_type": "markdown",
   "id": "8420a8b2-2285-4186-ba03-b6874d5c16c1",
   "metadata": {},
   "source": [
    "So that's why we couldn't just use\n",
    "```python\n",
    "iris_long = pd.melt(iris, value_vars=iris.columns)\n",
    "```\n",
    "above. There is no way to identify what each row belongs to, as you can see from the example below."
   ]
  },
  {
   "cell_type": "code",
   "execution_count": null,
   "id": "8549ea1e-0e51-446c-83b9-1d93749470a1",
   "metadata": {},
   "outputs": [],
   "source": [
    "# 🙀 🤯 how can we find out which row belongs to which observation in the wide format?\n",
    "pd.melt(iris, value_vars=iris.columns)"
   ]
  },
  {
   "cell_type": "markdown",
   "id": "77b8f5ae-2368-40ba-9315-edc1cb8bd5d6",
   "metadata": {},
   "source": [
    "It's a bit similar with the exchange rate data, however, it's easier to use the date as an identifier, it seems more intuitive. But  the student dataset really helps illustrate this whole procedure better."
   ]
  },
  {
   "cell_type": "code",
   "execution_count": null,
   "id": "b4ab0136-5374-4123-b235-1c98486ccd95",
   "metadata": {},
   "outputs": [],
   "source": [
    "# Load dataframe (wide format)\n",
    "students_wide = pd.read_csv(f\"{DATA_PATH}/data/students_wide.csv\")\n",
    "students_wide # Display the data"
   ]
  },
  {
   "cell_type": "code",
   "execution_count": null,
   "id": "161edc00-dadd-426e-b844-6306e3e65e38",
   "metadata": {},
   "outputs": [],
   "source": [
    "# Load a dataframe (long format)\n",
    "students_long = pd.read_csv(f\"{DATA_PATH}/data/students_long.csv\")\n",
    "students_long # Display the data"
   ]
  },
  {
   "cell_type": "markdown",
   "id": "4a08f9fa-62a2-4bc6-819b-e01221163e59",
   "metadata": {
    "tags": []
   },
   "source": [
    "#### ➡️ ✏️ Task 1: Wide to long\n",
    "\n",
    "Using the `students_wide` dataframe, create a long format dataframe, where `student` is the id variable and `gpa`, `track`, and `semester` are the three value variables.\n",
    "\n",
    "*Hint*: Use the code above to help yourself. Your output should be the same as what is currently in  `students_long`"
   ]
  },
  {
   "cell_type": "code",
   "execution_count": null,
   "id": "2c9c0937-8927-4b62-8198-4c94edb1a68f",
   "metadata": {},
   "outputs": [],
   "source": [
    "# Enter your code below\n"
   ]
  },
  {
   "cell_type": "markdown",
   "id": "76a6d248-9b09-4d23-b73a-45e7defcfb31",
   "metadata": {},
   "source": [
    "#### ➡️ ✏️ Task 2: Long to wide\n",
    "\n",
    "Using the `students_long` dataframe, create a wide format dataframe, where `student` is the id variable and `gpa` and `track` are the two value variables.\n",
    "\n",
    "*Hint*: Use the code above to help yourself. Your output should be the same as what is currently in  `students_wide`"
   ]
  },
  {
   "cell_type": "code",
   "execution_count": null,
   "id": "d4b92be7-9f45-422f-8049-080cb5427d5a",
   "metadata": {},
   "outputs": [],
   "source": [
    "# Enter your code below\n"
   ]
  },
  {
   "cell_type": "markdown",
   "id": "0822daf0-c818-45b9-840d-69e00cace0ae",
   "metadata": {},
   "source": [
    "___\n",
    "#### 🤔 Pause and ponder\n",
    "Can you think of a use case where wide data is more useful than long data? What about a case where long data is more useful than wide data?\n",
    "___"
   ]
  }
 ],
 "metadata": {
  "kernelspec": {
   "display_name": "Python 3 (ipykernel)",
   "language": "python",
   "name": "python3"
  },
  "language_info": {
   "codemirror_mode": {
    "name": "ipython",
    "version": 3
   },
   "file_extension": ".py",
   "mimetype": "text/x-python",
   "name": "python",
   "nbconvert_exporter": "python",
   "pygments_lexer": "ipython3",
   "version": "3.10.8"
  }
 },
 "nbformat": 4,
 "nbformat_minor": 5
}

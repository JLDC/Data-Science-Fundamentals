{
 "cells": [
  {
   "cell_type": "markdown",
   "id": "9554784b-9b8d-4d9d-89c9-ff2cc10e90f8",
   "metadata": {},
   "source": [
    "<a target=\"_blank\" href=\"https://colab.research.google.com/github/JLDC/Data-Science-Fundamentals/blob/master/notebooks/102_wdbc-perceptron.ipynb\">\n",
    "    <img src=\"https://i.ibb.co/2P3SLwK/colab.png\"  style=\"padding-bottom:5px;\" />Open this notebook in Google Colab\n",
    "</a>\n",
    "\n",
    "___"
   ]
  },
  {
   "cell_type": "markdown",
   "id": "69e5205b-aae9-4ec3-b390-161f2d8505c2",
   "metadata": {},
   "source": [
    "# Perceptron Learning for WDBC Data\n",
    "___\n",
    "\n",
    "In this script, you experience how the code for the perceptron algorithm that we wrote for the **iris** data can easily be reused for learning tasks with other data. We will consider a data set well known in data science that contains information on breast cancer diagnostics: the so-called [**Breast Cancer Wisconsin Diagnostic (WDBC) Data Set**](https://archive.ics.uci.edu/ml/datasets/Breast+Cancer+Wisconsin+(Diagnostic)).\n",
    "\n",
    "### 🧑‍💻 <font color=green>**Your Task**</font>\n",
    "\n",
    "Solve the questions outlined below. <font color=red>**Feel free to work in groups!**</font>"
   ]
  },
  {
   "cell_type": "markdown",
   "id": "d4a4d9d2-f526-4b81-a7bd-6d4833f6027a",
   "metadata": {},
   "source": [
    "___\n",
    "## Preparatory steps"
   ]
  },
  {
   "cell_type": "code",
   "execution_count": null,
   "id": "949016f9-346c-42c9-9eb7-6fe3441ddf7a",
   "metadata": {},
   "outputs": [],
   "source": [
    "# Import necessary packages\n",
    "import numpy as np # Numerical computation package\n",
    "import pandas as pd # Dataframe package\n",
    "import matplotlib.pyplot as plt # Plotting package\n",
    "np.random.seed(1) # Set the random seed for reproduceability\n",
    "\n",
    "# Define the path where the data is stored\n",
    "DATA_PATH = \"https://raw.githubusercontent.com/JLDC/Data-Science-Fundamentals/master/data\""
   ]
  },
  {
   "cell_type": "markdown",
   "id": "b0c1727a-75f2-4052-bdaa-6a6111688719",
   "metadata": {},
   "source": [
    "We now read the data (contained in your data folder on Nuvolos). For the time being, we will only use a few variables from the dataset. You can find more information on this data under the link in the top text cell of this notebook."
   ]
  },
  {
   "cell_type": "code",
   "execution_count": null,
   "id": "f2970295-96da-4f47-a39c-07b5791f1d20",
   "metadata": {},
   "outputs": [],
   "source": [
    "# Read the WDBC dataset\n",
    "wdbc = pd.read_csv(f\"{DATA_PATH}/wdbc.csv\")\n",
    "\n",
    "# Keep only three columns: the diagnosis, the perimeter, and the severity of concave portions\n",
    "# of the cell nucleus\n",
    "wdbc = wdbc[[\"perimeterM\", \"concaveM\", \"diagnosis\"]]\n",
    "\n",
    "# Shuffle the dataset\n",
    "wdbc = wdbc.sample(frac=1)\n",
    "wdbc # Display the dataset"
   ]
  },
  {
   "cell_type": "markdown",
   "id": "ca8df3cc-f8b6-4bc8-8240-27756af7d3a2",
   "metadata": {},
   "source": [
    "___\n",
    "#### ➡️ ✏️<font color=green>**Question 1**</font>\n",
    "\n",
    "How many of malignant (`diagnosis == 'M'`) and benign (`diagnosis == 'B'`) do we have? Is our dataset somewhat \"balanced\"? (Think of what we could mean by \"balanced\".)"
   ]
  },
  {
   "cell_type": "code",
   "execution_count": null,
   "id": "2fe6a31b-38a0-46fd-ab16-2a198f14b80b",
   "metadata": {},
   "outputs": [],
   "source": [
    "# Enter your code here\n"
   ]
  },
  {
   "cell_type": "markdown",
   "id": "4f1a1505-ed53-4943-996e-8f0f41c1f7b8",
   "metadata": {},
   "source": [
    "___\n",
    "#### ➡️ ✏️<font color=green>**Question 2**</font>\n",
    "\n",
    "**You do all the rest!**\n",
    "\n",
    "Adapt the code for all learning steps that we had with the iris data set. Thus, take the code for the iris case and change it where necessary. Also include the visualizations. Hint: Code the malign cases (\"M\") as 1 and the benign cases as -1. In medical science it is common to refer to the problematic cases as the \"positives\" (even though they may be very negative for the patients).\n",
    "\n",
    "Focus on the following questions:\n",
    "\n",
    "+ What strikes you as different?\n",
    "+ How good are our results? Was the perceptron algorithm able to learn properly?\n",
    "\n",
    "Summarize and explain your findings."
   ]
  }
 ],
 "metadata": {
  "kernelspec": {
   "display_name": "Python 3 (ipykernel)",
   "language": "python",
   "name": "python3"
  },
  "language_info": {
   "codemirror_mode": {
    "name": "ipython",
    "version": 3
   },
   "file_extension": ".py",
   "mimetype": "text/x-python",
   "name": "python",
   "nbconvert_exporter": "python",
   "pygments_lexer": "ipython3",
   "version": "3.10.8"
  },
  "vscode": {
   "interpreter": {
    "hash": "d4d1e4263499bec80672ea0156c357c1ee493ec2b1c70f0acce89fc37c4a6abe"
   }
  }
 },
 "nbformat": 4,
 "nbformat_minor": 5
}
